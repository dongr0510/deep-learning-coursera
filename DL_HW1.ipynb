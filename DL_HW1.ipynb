{
  "nbformat": 4,
  "nbformat_minor": 0,
  "metadata": {
    "colab": {
      "name": "DL_HW1.ipynb",
      "provenance": [],
      "collapsed_sections": [],
      "toc_visible": true,
      "authorship_tag": "ABX9TyPUOB2r0NCNOL2FY2XPmHcH",
      "include_colab_link": true
    },
    "kernelspec": {
      "name": "python3",
      "display_name": "Python 3"
    },
    "accelerator": "GPU",
    "widgets": {
      "application/vnd.jupyter.widget-state+json": {
        "6f1472fc9a2145ec8409200cced58576": {
          "model_module": "@jupyter-widgets/controls",
          "model_name": "HBoxModel",
          "state": {
            "_view_name": "HBoxView",
            "_dom_classes": [],
            "_model_name": "HBoxModel",
            "_view_module": "@jupyter-widgets/controls",
            "_model_module_version": "1.5.0",
            "_view_count": null,
            "_view_module_version": "1.5.0",
            "box_style": "",
            "layout": "IPY_MODEL_ee02d882258c4ea7bc0c390830d41b0b",
            "_model_module": "@jupyter-widgets/controls",
            "children": [
              "IPY_MODEL_ba15e13de2ef41feacb47f094bc6bf22",
              "IPY_MODEL_774f6da5f1ee445eb2dc0816248be6a9"
            ]
          }
        },
        "ee02d882258c4ea7bc0c390830d41b0b": {
          "model_module": "@jupyter-widgets/base",
          "model_name": "LayoutModel",
          "state": {
            "_view_name": "LayoutView",
            "grid_template_rows": null,
            "right": null,
            "justify_content": null,
            "_view_module": "@jupyter-widgets/base",
            "overflow": null,
            "_model_module_version": "1.2.0",
            "_view_count": null,
            "flex_flow": null,
            "width": null,
            "min_width": null,
            "border": null,
            "align_items": null,
            "bottom": null,
            "_model_module": "@jupyter-widgets/base",
            "top": null,
            "grid_column": null,
            "overflow_y": null,
            "overflow_x": null,
            "grid_auto_flow": null,
            "grid_area": null,
            "grid_template_columns": null,
            "flex": null,
            "_model_name": "LayoutModel",
            "justify_items": null,
            "grid_row": null,
            "max_height": null,
            "align_content": null,
            "visibility": null,
            "align_self": null,
            "height": null,
            "min_height": null,
            "padding": null,
            "grid_auto_rows": null,
            "grid_gap": null,
            "max_width": null,
            "order": null,
            "_view_module_version": "1.2.0",
            "grid_template_areas": null,
            "object_position": null,
            "object_fit": null,
            "grid_auto_columns": null,
            "margin": null,
            "display": null,
            "left": null
          }
        },
        "ba15e13de2ef41feacb47f094bc6bf22": {
          "model_module": "@jupyter-widgets/controls",
          "model_name": "FloatProgressModel",
          "state": {
            "_view_name": "ProgressView",
            "style": "IPY_MODEL_7fd9461c37894eb89ec29ea4b30194b1",
            "_dom_classes": [],
            "description": "100%",
            "_model_name": "FloatProgressModel",
            "bar_style": "",
            "max": 8800,
            "_view_module": "@jupyter-widgets/controls",
            "_model_module_version": "1.5.0",
            "value": 8799,
            "_view_count": null,
            "_view_module_version": "1.5.0",
            "orientation": "horizontal",
            "min": 0,
            "description_tooltip": null,
            "_model_module": "@jupyter-widgets/controls",
            "layout": "IPY_MODEL_3b6d531cd5124ebb9cd7673916957dd5"
          }
        },
        "774f6da5f1ee445eb2dc0816248be6a9": {
          "model_module": "@jupyter-widgets/controls",
          "model_name": "HTMLModel",
          "state": {
            "_view_name": "HTMLView",
            "style": "IPY_MODEL_ec8bcdfcf77b4871b3ee0d9ce8098ded",
            "_dom_classes": [],
            "description": "",
            "_model_name": "HTMLModel",
            "placeholder": "​",
            "_view_module": "@jupyter-widgets/controls",
            "_model_module_version": "1.5.0",
            "value": " 8799/8800 [23:03&lt;00:00,  7.08it/s]",
            "_view_count": null,
            "_view_module_version": "1.5.0",
            "description_tooltip": null,
            "_model_module": "@jupyter-widgets/controls",
            "layout": "IPY_MODEL_7f586fbc10b04ff8bbc6789e15e30b5c"
          }
        },
        "7fd9461c37894eb89ec29ea4b30194b1": {
          "model_module": "@jupyter-widgets/controls",
          "model_name": "ProgressStyleModel",
          "state": {
            "_view_name": "StyleView",
            "_model_name": "ProgressStyleModel",
            "description_width": "initial",
            "_view_module": "@jupyter-widgets/base",
            "_model_module_version": "1.5.0",
            "_view_count": null,
            "_view_module_version": "1.2.0",
            "bar_color": null,
            "_model_module": "@jupyter-widgets/controls"
          }
        },
        "3b6d531cd5124ebb9cd7673916957dd5": {
          "model_module": "@jupyter-widgets/base",
          "model_name": "LayoutModel",
          "state": {
            "_view_name": "LayoutView",
            "grid_template_rows": null,
            "right": null,
            "justify_content": null,
            "_view_module": "@jupyter-widgets/base",
            "overflow": null,
            "_model_module_version": "1.2.0",
            "_view_count": null,
            "flex_flow": null,
            "width": null,
            "min_width": null,
            "border": null,
            "align_items": null,
            "bottom": null,
            "_model_module": "@jupyter-widgets/base",
            "top": null,
            "grid_column": null,
            "overflow_y": null,
            "overflow_x": null,
            "grid_auto_flow": null,
            "grid_area": null,
            "grid_template_columns": null,
            "flex": null,
            "_model_name": "LayoutModel",
            "justify_items": null,
            "grid_row": null,
            "max_height": null,
            "align_content": null,
            "visibility": null,
            "align_self": null,
            "height": null,
            "min_height": null,
            "padding": null,
            "grid_auto_rows": null,
            "grid_gap": null,
            "max_width": null,
            "order": null,
            "_view_module_version": "1.2.0",
            "grid_template_areas": null,
            "object_position": null,
            "object_fit": null,
            "grid_auto_columns": null,
            "margin": null,
            "display": null,
            "left": null
          }
        },
        "ec8bcdfcf77b4871b3ee0d9ce8098ded": {
          "model_module": "@jupyter-widgets/controls",
          "model_name": "DescriptionStyleModel",
          "state": {
            "_view_name": "StyleView",
            "_model_name": "DescriptionStyleModel",
            "description_width": "",
            "_view_module": "@jupyter-widgets/base",
            "_model_module_version": "1.5.0",
            "_view_count": null,
            "_view_module_version": "1.2.0",
            "_model_module": "@jupyter-widgets/controls"
          }
        },
        "7f586fbc10b04ff8bbc6789e15e30b5c": {
          "model_module": "@jupyter-widgets/base",
          "model_name": "LayoutModel",
          "state": {
            "_view_name": "LayoutView",
            "grid_template_rows": null,
            "right": null,
            "justify_content": null,
            "_view_module": "@jupyter-widgets/base",
            "overflow": null,
            "_model_module_version": "1.2.0",
            "_view_count": null,
            "flex_flow": null,
            "width": null,
            "min_width": null,
            "border": null,
            "align_items": null,
            "bottom": null,
            "_model_module": "@jupyter-widgets/base",
            "top": null,
            "grid_column": null,
            "overflow_y": null,
            "overflow_x": null,
            "grid_auto_flow": null,
            "grid_area": null,
            "grid_template_columns": null,
            "flex": null,
            "_model_name": "LayoutModel",
            "justify_items": null,
            "grid_row": null,
            "max_height": null,
            "align_content": null,
            "visibility": null,
            "align_self": null,
            "height": null,
            "min_height": null,
            "padding": null,
            "grid_auto_rows": null,
            "grid_gap": null,
            "max_width": null,
            "order": null,
            "_view_module_version": "1.2.0",
            "grid_template_areas": null,
            "object_position": null,
            "object_fit": null,
            "grid_auto_columns": null,
            "margin": null,
            "display": null,
            "left": null
          }
        },
        "49c66949cce74f0f89dbb08240eeb727": {
          "model_module": "@jupyter-widgets/controls",
          "model_name": "HBoxModel",
          "state": {
            "_view_name": "HBoxView",
            "_dom_classes": [],
            "_model_name": "HBoxModel",
            "_view_module": "@jupyter-widgets/controls",
            "_model_module_version": "1.5.0",
            "_view_count": null,
            "_view_module_version": "1.5.0",
            "box_style": "",
            "layout": "IPY_MODEL_d0641b1a698243ff88bca1a811c1f7c7",
            "_model_module": "@jupyter-widgets/controls",
            "children": [
              "IPY_MODEL_d3a529ed234645f1abb37197cf7fbe2f",
              "IPY_MODEL_9423100b2a7445b1868ff3fe6668aeec"
            ]
          }
        },
        "d0641b1a698243ff88bca1a811c1f7c7": {
          "model_module": "@jupyter-widgets/base",
          "model_name": "LayoutModel",
          "state": {
            "_view_name": "LayoutView",
            "grid_template_rows": null,
            "right": null,
            "justify_content": null,
            "_view_module": "@jupyter-widgets/base",
            "overflow": null,
            "_model_module_version": "1.2.0",
            "_view_count": null,
            "flex_flow": null,
            "width": null,
            "min_width": null,
            "border": null,
            "align_items": null,
            "bottom": null,
            "_model_module": "@jupyter-widgets/base",
            "top": null,
            "grid_column": null,
            "overflow_y": null,
            "overflow_x": null,
            "grid_auto_flow": null,
            "grid_area": null,
            "grid_template_columns": null,
            "flex": null,
            "_model_name": "LayoutModel",
            "justify_items": null,
            "grid_row": null,
            "max_height": null,
            "align_content": null,
            "visibility": null,
            "align_self": null,
            "height": null,
            "min_height": null,
            "padding": null,
            "grid_auto_rows": null,
            "grid_gap": null,
            "max_width": null,
            "order": null,
            "_view_module_version": "1.2.0",
            "grid_template_areas": null,
            "object_position": null,
            "object_fit": null,
            "grid_auto_columns": null,
            "margin": null,
            "display": null,
            "left": null
          }
        },
        "d3a529ed234645f1abb37197cf7fbe2f": {
          "model_module": "@jupyter-widgets/controls",
          "model_name": "FloatProgressModel",
          "state": {
            "_view_name": "ProgressView",
            "style": "IPY_MODEL_858dfd8284b54615af3640f562209227",
            "_dom_classes": [],
            "description": "100%",
            "_model_name": "FloatProgressModel",
            "bar_style": "",
            "max": 8800,
            "_view_module": "@jupyter-widgets/controls",
            "_model_module_version": "1.5.0",
            "value": 8799,
            "_view_count": null,
            "_view_module_version": "1.5.0",
            "orientation": "horizontal",
            "min": 0,
            "description_tooltip": null,
            "_model_module": "@jupyter-widgets/controls",
            "layout": "IPY_MODEL_504157b7e3fb4e4994e27bbf8a676155"
          }
        },
        "9423100b2a7445b1868ff3fe6668aeec": {
          "model_module": "@jupyter-widgets/controls",
          "model_name": "HTMLModel",
          "state": {
            "_view_name": "HTMLView",
            "style": "IPY_MODEL_f77703bd454b48249a4527b136cdd350",
            "_dom_classes": [],
            "description": "",
            "_model_name": "HTMLModel",
            "placeholder": "​",
            "_view_module": "@jupyter-widgets/controls",
            "_model_module_version": "1.5.0",
            "value": " 8799/8800 [23:33&lt;00:00,  7.43it/s]",
            "_view_count": null,
            "_view_module_version": "1.5.0",
            "description_tooltip": null,
            "_model_module": "@jupyter-widgets/controls",
            "layout": "IPY_MODEL_4861dc86e3a948b0ba286cbe4c39b0c0"
          }
        },
        "858dfd8284b54615af3640f562209227": {
          "model_module": "@jupyter-widgets/controls",
          "model_name": "ProgressStyleModel",
          "state": {
            "_view_name": "StyleView",
            "_model_name": "ProgressStyleModel",
            "description_width": "initial",
            "_view_module": "@jupyter-widgets/base",
            "_model_module_version": "1.5.0",
            "_view_count": null,
            "_view_module_version": "1.2.0",
            "bar_color": null,
            "_model_module": "@jupyter-widgets/controls"
          }
        },
        "504157b7e3fb4e4994e27bbf8a676155": {
          "model_module": "@jupyter-widgets/base",
          "model_name": "LayoutModel",
          "state": {
            "_view_name": "LayoutView",
            "grid_template_rows": null,
            "right": null,
            "justify_content": null,
            "_view_module": "@jupyter-widgets/base",
            "overflow": null,
            "_model_module_version": "1.2.0",
            "_view_count": null,
            "flex_flow": null,
            "width": null,
            "min_width": null,
            "border": null,
            "align_items": null,
            "bottom": null,
            "_model_module": "@jupyter-widgets/base",
            "top": null,
            "grid_column": null,
            "overflow_y": null,
            "overflow_x": null,
            "grid_auto_flow": null,
            "grid_area": null,
            "grid_template_columns": null,
            "flex": null,
            "_model_name": "LayoutModel",
            "justify_items": null,
            "grid_row": null,
            "max_height": null,
            "align_content": null,
            "visibility": null,
            "align_self": null,
            "height": null,
            "min_height": null,
            "padding": null,
            "grid_auto_rows": null,
            "grid_gap": null,
            "max_width": null,
            "order": null,
            "_view_module_version": "1.2.0",
            "grid_template_areas": null,
            "object_position": null,
            "object_fit": null,
            "grid_auto_columns": null,
            "margin": null,
            "display": null,
            "left": null
          }
        },
        "f77703bd454b48249a4527b136cdd350": {
          "model_module": "@jupyter-widgets/controls",
          "model_name": "DescriptionStyleModel",
          "state": {
            "_view_name": "StyleView",
            "_model_name": "DescriptionStyleModel",
            "description_width": "",
            "_view_module": "@jupyter-widgets/base",
            "_model_module_version": "1.5.0",
            "_view_count": null,
            "_view_module_version": "1.2.0",
            "_model_module": "@jupyter-widgets/controls"
          }
        },
        "4861dc86e3a948b0ba286cbe4c39b0c0": {
          "model_module": "@jupyter-widgets/base",
          "model_name": "LayoutModel",
          "state": {
            "_view_name": "LayoutView",
            "grid_template_rows": null,
            "right": null,
            "justify_content": null,
            "_view_module": "@jupyter-widgets/base",
            "overflow": null,
            "_model_module_version": "1.2.0",
            "_view_count": null,
            "flex_flow": null,
            "width": null,
            "min_width": null,
            "border": null,
            "align_items": null,
            "bottom": null,
            "_model_module": "@jupyter-widgets/base",
            "top": null,
            "grid_column": null,
            "overflow_y": null,
            "overflow_x": null,
            "grid_auto_flow": null,
            "grid_area": null,
            "grid_template_columns": null,
            "flex": null,
            "_model_name": "LayoutModel",
            "justify_items": null,
            "grid_row": null,
            "max_height": null,
            "align_content": null,
            "visibility": null,
            "align_self": null,
            "height": null,
            "min_height": null,
            "padding": null,
            "grid_auto_rows": null,
            "grid_gap": null,
            "max_width": null,
            "order": null,
            "_view_module_version": "1.2.0",
            "grid_template_areas": null,
            "object_position": null,
            "object_fit": null,
            "grid_auto_columns": null,
            "margin": null,
            "display": null,
            "left": null
          }
        }
      }
    }
  },
  "cells": [
    {
      "cell_type": "markdown",
      "metadata": {
        "id": "view-in-github",
        "colab_type": "text"
      },
      "source": [
        "<a href=\"https://colab.research.google.com/github/dongr0510/deep-learning-coursera/blob/master/DL_HW1.ipynb\" target=\"_parent\"><img src=\"https://colab.research.google.com/assets/colab-badge.svg\" alt=\"Open In Colab\"/></a>"
      ]
    },
    {
      "cell_type": "code",
      "metadata": {
        "id": "QO7iXnFRBG3V",
        "colab_type": "code",
        "colab": {}
      },
      "source": [
        "%reload_ext autoreload\n",
        "%autoreload 2\n",
        "%matplotlib inline\n",
        "\n",
        "from sklearn.ensemble import RandomForestRegressor\n",
        "from sklearn.model_selection import train_test_split, RandomizedSearchCV, GridSearchCV\n",
        "\n",
        "from sklearn.preprocessing import StandardScaler\n",
        "from sklearn import metrics\n",
        "from tqdm import tqdm_notebook\n",
        "\n",
        "import matplotlib.pyplot as plt"
      ],
      "execution_count": 0,
      "outputs": []
    },
    {
      "cell_type": "code",
      "metadata": {
        "id": "JEHuh7NEBfx9",
        "colab_type": "code",
        "colab": {}
      },
      "source": [
        "import pandas as pd\n",
        "import numpy as np\n",
        "import torch\n",
        "from pathlib import Path\n",
        "from torch.utils.data import Dataset, DataLoader\n",
        "import torch.optim as optim\n",
        "import torch.nn as nn\n",
        "import torch.nn.functional as F\n",
        "import random\n",
        "import math\n",
        "\n",
        "from pathlib import Path"
      ],
      "execution_count": 0,
      "outputs": []
    },
    {
      "cell_type": "code",
      "metadata": {
        "id": "f3hT7yotBn56",
        "colab_type": "code",
        "colab": {}
      },
      "source": [
        "import xgboost as xgb\n",
        "from sklearn.metrics import r2_score"
      ],
      "execution_count": 0,
      "outputs": []
    },
    {
      "cell_type": "code",
      "metadata": {
        "id": "eM2QwQf0Bpfu",
        "colab_type": "code",
        "colab": {}
      },
      "source": [
        "PATH = Path('/content')"
      ],
      "execution_count": 0,
      "outputs": []
    },
    {
      "cell_type": "code",
      "metadata": {
        "id": "QgLOqO0UB91C",
        "colab_type": "code",
        "colab": {
          "base_uri": "https://localhost:8080/",
          "height": 255
        },
        "outputId": "6940cb6d-76b6-444f-d7f5-976d58ecad1b"
      },
      "source": [
        "pip install pmlb"
      ],
      "execution_count": 7,
      "outputs": [
        {
          "output_type": "stream",
          "text": [
            "Collecting pmlb\n",
            "  Downloading https://files.pythonhosted.org/packages/0d/38/bb7bf1785add978af1e6c2bd27926405959c71ebaeefa6ff610bf53d8b25/pmlb-0.3.tar.gz\n",
            "Requirement already satisfied: pandas in /usr/local/lib/python3.6/dist-packages (from pmlb) (1.0.3)\n",
            "Requirement already satisfied: numpy>=1.13.3 in /usr/local/lib/python3.6/dist-packages (from pandas->pmlb) (1.18.4)\n",
            "Requirement already satisfied: python-dateutil>=2.6.1 in /usr/local/lib/python3.6/dist-packages (from pandas->pmlb) (2.8.1)\n",
            "Requirement already satisfied: pytz>=2017.2 in /usr/local/lib/python3.6/dist-packages (from pandas->pmlb) (2018.9)\n",
            "Requirement already satisfied: six>=1.5 in /usr/local/lib/python3.6/dist-packages (from python-dateutil>=2.6.1->pandas->pmlb) (1.12.0)\n",
            "Building wheels for collected packages: pmlb\n",
            "  Building wheel for pmlb (setup.py) ... \u001b[?25l\u001b[?25hdone\n",
            "  Created wheel for pmlb: filename=pmlb-0.3-cp36-none-any.whl size=11918 sha256=6c6970915bc9a681acd5ae9ce26ded390d28fbde4fb9993334ed66e18a49e38a\n",
            "  Stored in directory: /root/.cache/pip/wheels/5a/c7/a4/be59e63a2cb56f6c58f068305b95c212e0aac1a930fd77d6b0\n",
            "Successfully built pmlb\n",
            "Installing collected packages: pmlb\n",
            "Successfully installed pmlb-0.3\n"
          ],
          "name": "stdout"
        }
      ]
    },
    {
      "cell_type": "code",
      "metadata": {
        "id": "BXg9GwWJB6FT",
        "colab_type": "code",
        "colab": {}
      },
      "source": [
        "from pmlb import fetch_data, regression_dataset_names"
      ],
      "execution_count": 0,
      "outputs": []
    },
    {
      "cell_type": "code",
      "metadata": {
        "id": "JT_viOzmB7LC",
        "colab_type": "code",
        "colab": {}
      },
      "source": [
        "list_dataset = {}\n",
        "X, y = fetch_data('1595_poker', return_X_y=True, local_cache_dir='/content')\n",
        "\n",
        "list_dataset['1595_poker'] = (X.shape[0], X.shape[1])"
      ],
      "execution_count": 0,
      "outputs": []
    },
    {
      "cell_type": "code",
      "metadata": {
        "id": "w8E2Bd34CH5q",
        "colab_type": "code",
        "colab": {
          "base_uri": "https://localhost:8080/",
          "height": 34
        },
        "outputId": "df45d295-60bf-40ab-bddd-321f5d5404fd"
      },
      "source": [
        "list_dataset"
      ],
      "execution_count": 15,
      "outputs": [
        {
          "output_type": "execute_result",
          "data": {
            "text/plain": [
              "{'1595_poker': (1025010, 10)}"
            ]
          },
          "metadata": {
            "tags": []
          },
          "execution_count": 15
        }
      ]
    },
    {
      "cell_type": "code",
      "metadata": {
        "id": "JNwIA6daCx-e",
        "colab_type": "code",
        "colab": {}
      },
      "source": [
        "datasets = list(list_dataset.keys())"
      ],
      "execution_count": 0,
      "outputs": []
    },
    {
      "cell_type": "code",
      "metadata": {
        "id": "Q2HOfZ_8CzkD",
        "colab_type": "code",
        "colab": {
          "base_uri": "https://localhost:8080/",
          "height": 34
        },
        "outputId": "c2011616-4c8c-47e1-b7d1-aeaf9a84c5ea"
      },
      "source": [
        "dataset = datasets[0]\n",
        "dataset"
      ],
      "execution_count": 17,
      "outputs": [
        {
          "output_type": "execute_result",
          "data": {
            "text/plain": [
              "'1595_poker'"
            ]
          },
          "metadata": {
            "tags": []
          },
          "execution_count": 17
        }
      ]
    },
    {
      "cell_type": "markdown",
      "metadata": {
        "id": "hG-rWFGgDD9L",
        "colab_type": "text"
      },
      "source": [
        "# Split train / valid / test"
      ]
    },
    {
      "cell_type": "code",
      "metadata": {
        "id": "_yb-EHXNC3QE",
        "colab_type": "code",
        "colab": {}
      },
      "source": [
        "def split_dataset(dataset, seed=1):\n",
        "    X, y = fetch_data(dataset, return_X_y=True, local_cache_dir=PATH)\n",
        "    train_X, test_X, train_y, test_y = train_test_split(X, y, test_size=0.3, random_state=seed)\n",
        "    valid_X, test_X, valid_y, test_y = train_test_split(test_X, test_y, test_size=0.5, random_state=seed)\n",
        "    return train_X, valid_X, test_X, train_y, valid_y, test_y"
      ],
      "execution_count": 0,
      "outputs": []
    },
    {
      "cell_type": "code",
      "metadata": {
        "id": "ktvIXgrWDZ-U",
        "colab_type": "code",
        "colab": {}
      },
      "source": [
        "train_X, valid_X, test_X, train_y, valid_y, test_y = split_dataset(dataset)"
      ],
      "execution_count": 0,
      "outputs": []
    },
    {
      "cell_type": "code",
      "metadata": {
        "id": "0YToczA2DbNs",
        "colab_type": "code",
        "colab": {}
      },
      "source": [
        "def GB_scores(train_X, valid_X, train_y, valid_y):\n",
        "    xgb_pars = {'min_child_weight': 50, 'eta': 0.01, 'colsample_bytree': 0.5, 'max_depth': 5,\n",
        "            'subsample': 0.8, 'lambda': 1., 'nthread': -1, 'booster' : 'gbtree', 'silent': 1,\n",
        "            'eval_metric': 'rmse', 'objective': 'reg:linear'}\n",
        "    dtrain = xgb.DMatrix(train_X, label=train_y)\n",
        "    dvalid = xgb.DMatrix(valid_X, label=valid_y)\n",
        "    watchlist = [(dtrain, 'train'), (dvalid, 'valid')]\n",
        "    gbm = xgb.train(xgb_pars, dtrain, 1000, watchlist, early_stopping_rounds=50,\n",
        "                maximize=False, verbose_eval=200)\n",
        "    y_pred = gbm.predict(dvalid)\n",
        "    return r2_score(valid_y, y_pred), gbm"
      ],
      "execution_count": 0,
      "outputs": []
    },
    {
      "cell_type": "code",
      "metadata": {
        "id": "2fDZ3Lx9DlGT",
        "colab_type": "code",
        "colab": {
          "base_uri": "https://localhost:8080/",
          "height": 170
        },
        "outputId": "5dc763ea-6d4d-4d02-ca23-8c30c3fd6a25"
      },
      "source": [
        "score, gbm = GB_scores(train_X, valid_X, train_y, valid_y)"
      ],
      "execution_count": 26,
      "outputs": [
        {
          "output_type": "stream",
          "text": [
            "[0]\ttrain-rmse:0.784316\tvalid-rmse:0.775518\n",
            "Multiple eval metrics have been passed: 'valid-rmse' will be used for early stopping.\n",
            "\n",
            "Will train until valid-rmse hasn't improved in 50 rounds.\n",
            "[200]\ttrain-rmse:0.749144\tvalid-rmse:0.741102\n",
            "[400]\ttrain-rmse:0.727816\tvalid-rmse:0.719965\n",
            "[600]\ttrain-rmse:0.711204\tvalid-rmse:0.703554\n",
            "[800]\ttrain-rmse:0.696025\tvalid-rmse:0.688501\n",
            "[999]\ttrain-rmse:0.682363\tvalid-rmse:0.675066\n"
          ],
          "name": "stdout"
        }
      ]
    },
    {
      "cell_type": "code",
      "metadata": {
        "id": "5yGQYQGmE6wq",
        "colab_type": "code",
        "colab": {}
      },
      "source": [
        ""
      ],
      "execution_count": 0,
      "outputs": []
    },
    {
      "cell_type": "markdown",
      "metadata": {
        "id": "WBJmltzHDo2M",
        "colab_type": "text"
      },
      "source": [
        "## Encoding features"
      ]
    },
    {
      "cell_type": "code",
      "metadata": {
        "id": "rIqG1KxUE76X",
        "colab_type": "code",
        "colab": {}
      },
      "source": [
        "def encode_cat_variables(x, help_dict = None, N = 100):\n",
        "    \"\"\"Encodes a categorical variable\n",
        "    \n",
        "    The index 0 is left for values not in training\n",
        "    \"\"\"\n",
        "    uniqs = np.unique(x)\n",
        "    if help_dict is None: help_dict = {v:k+1 for k, v in enumerate(uniqs)}\n",
        "    levels = len(help_dict.keys()) + 1\n",
        "    x_t = np.array([help_dict.get(x_i, 0) for x_i in x])\n",
        "    return x_t, help_dict, levels"
      ],
      "execution_count": 0,
      "outputs": []
    },
    {
      "cell_type": "code",
      "metadata": {
        "id": "SgXyyA27FFfi",
        "colab_type": "code",
        "colab": {}
      },
      "source": [
        "def split_num_cat_columns_all_cat(X):\n",
        "    \"\"\"Splits variables into: categorical and numeric\n",
        "    \n",
        "    Heuristic to determine which variable is categorical.\n",
        "    Returns:\n",
        "       cat_ind: array of indices for categorical variables\n",
        "       cont_ind: array of indices for continous variables\n",
        "    \"\"\"\n",
        "    cat_ind = []\n",
        "    cont_ind = []\n",
        "    for i in range(X.shape[1]):\n",
        "#         uniqs_len = len(np.unique(X[:,i]))\n",
        "#         fraction = uniqs_len/X.shape[0]\n",
        "#         if fraction > 0.01: # you can change this rule\n",
        "#             cont_ind.append(i)\n",
        "        cat_ind.append(i)\n",
        "    return cat_ind, cont_ind"
      ],
      "execution_count": 0,
      "outputs": []
    },
    {
      "cell_type": "code",
      "metadata": {
        "id": "uzL1grKWFJQh",
        "colab_type": "code",
        "colab": {}
      },
      "source": [
        "def split_num_cat_columns_all_con(X):\n",
        "    \"\"\"Splits variables into: categorical and numeric\n",
        "    \n",
        "    Heuristic to determine which variable is categorical.\n",
        "    Returns:\n",
        "       cat_ind: array of indices for categorical variables\n",
        "       cont_ind: array of indices for continous variables\n",
        "    \"\"\"\n",
        "    cat_ind = []\n",
        "    cont_ind = []\n",
        "    for i in range(X.shape[1]):\n",
        "#         uniqs_len = len(np.unique(X[:,i]))\n",
        "#         fraction = uniqs_len/X.shape[0]\n",
        "#         if uniqs_len == 2 or fraction > 0.01: # you can change this rule\n",
        "        cont_ind.append(i)\n",
        "#         else:\n",
        "#             cat_ind.append(i)\n",
        "    return cat_ind, cont_ind   "
      ],
      "execution_count": 0,
      "outputs": []
    },
    {
      "cell_type": "code",
      "metadata": {
        "id": "KD306ARPFK0S",
        "colab_type": "code",
        "colab": {}
      },
      "source": [
        "def split_num_cat_columns_4(X):\n",
        "    \"\"\"Splits variables into: categorical and numeric\n",
        "    \n",
        "    Heuristic to determine which variable is categorical.\n",
        "    Returns:\n",
        "       cat_ind: array of indices for categorical variables\n",
        "       cont_ind: array of indices for continous variables\n",
        "    \"\"\"\n",
        "    cat_ind = []\n",
        "    cont_ind = []\n",
        "    for i in range(X.shape[1]):\n",
        "        uniqs_len = len(np.unique(X[:,i]))\n",
        "        fraction = uniqs_len/X.shape[0]\n",
        "        if uniqs_len > 4: # you can change this rule\n",
        "            cont_ind.append(i)\n",
        "        else:\n",
        "            cat_ind.append(i)\n",
        "    return cat_ind, cont_ind "
      ],
      "execution_count": 0,
      "outputs": []
    },
    {
      "cell_type": "code",
      "metadata": {
        "id": "zMJbnSOIFMwa",
        "colab_type": "code",
        "colab": {}
      },
      "source": [
        "def transform_dataset(train_X, valid_X, test_X):\n",
        "    \n",
        "    cat_ind, cont_ind = split_num_cat_columns_4(train_X)\n",
        "    \n",
        "    train_X_cat = train_X[:, cat_ind]\n",
        "    train_X_cont = train_X[:, cont_ind]\n",
        "    \n",
        "    valid_X_cat = valid_X[:, cat_ind]\n",
        "    valid_X_cont = valid_X[:, cont_ind]\n",
        "    \n",
        "    test_X_cat = test_X[:, cat_ind]\n",
        "    test_X_cont = test_X[:, cont_ind]\n",
        "    \n",
        "    scaler = StandardScaler()\n",
        "    train_X_cont = scaler.fit_transform(train_X_cont)\n",
        "    valid_X_cont = scaler.transform(valid_X_cont)\n",
        "    test_X_cont = scaler.transform(test_X_cont)\n",
        "    \n",
        "    level_arr = [0]*train_X_cat.shape[1]\n",
        "    for i in range(train_X_cat.shape[1]):\n",
        "        x, help_arr, levels = encode_cat_variables(train_X_cat[:,i])\n",
        "        train_X_cat[:,i] = x\n",
        "        level_arr[i] = levels\n",
        "        x, _, _ = encode_cat_variables(valid_X_cat[:,i], help_arr)\n",
        "        valid_X_cat[:,i] = x\n",
        "        x, _, _ = encode_cat_variables(test_X_cat[:,i], help_arr)\n",
        "        test_X_cat[:,i] = x\n",
        "    return (train_X_cat, train_X_cont, valid_X_cat, valid_X_cont, test_X_cat, test_X_cont), level_arr"
      ],
      "execution_count": 0,
      "outputs": []
    },
    {
      "cell_type": "code",
      "metadata": {
        "id": "G4vZN3O1FOay",
        "colab_type": "code",
        "colab": {}
      },
      "source": [
        "def scale_dataset(train_X, valid_X, test_X):\n",
        "    scaler = StandardScaler()\n",
        "    train_X = scaler.fit_transform(train_X)\n",
        "    valid_X = scaler.transform(valid_X)\n",
        "    test_X = scaler.transform(test_X)\n",
        "    return train_X, valid_X, test_X"
      ],
      "execution_count": 0,
      "outputs": []
    },
    {
      "cell_type": "code",
      "metadata": {
        "id": "0C5NWrfiFPmi",
        "colab_type": "code",
        "colab": {}
      },
      "source": [
        "def label_encode(train_X, valid_X, test_X):\n",
        "    \n",
        "    level_arr = [0]*train_X.shape[1]\n",
        "    \n",
        "    for i in range(train_X.shape[1]):\n",
        "        x, help_arr, levels = encode_cat_variables(train_X[:,i])\n",
        "        train_X[:,i] = x\n",
        "        level_arr[i] = levels\n",
        "        x, _, _ = encode_cat_variables(valid_X[:,i], help_arr)\n",
        "        valid_X[:,i] = x\n",
        "        x, _, _ = encode_cat_variables(test_X[:,i], help_arr)\n",
        "        test_X[:,i] = x\n",
        "    return train_X, valid_X, test_X"
      ],
      "execution_count": 0,
      "outputs": []
    },
    {
      "cell_type": "markdown",
      "metadata": {
        "id": "23YqKNSSFQxa",
        "colab_type": "text"
      },
      "source": [
        "### variables with 4 unique values or less are categorical and the rest are continuous"
      ]
    },
    {
      "cell_type": "code",
      "metadata": {
        "id": "7XXBaI7SFWnS",
        "colab_type": "code",
        "colab": {
          "base_uri": "https://localhost:8080/",
          "height": 34
        },
        "outputId": "9b67d83f-9f5a-4753-b87e-d8dcdeb53968"
      },
      "source": [
        "cat_ind, cont_ind  = split_num_cat_columns_4(train_X)\n",
        "cat_ind, cont_ind"
      ],
      "execution_count": 34,
      "outputs": [
        {
          "output_type": "execute_result",
          "data": {
            "text/plain": [
              "([0, 2, 4, 6, 8], [1, 3, 5, 7, 9])"
            ]
          },
          "metadata": {
            "tags": []
          },
          "execution_count": 34
        }
      ]
    },
    {
      "cell_type": "code",
      "metadata": {
        "id": "9RsCj4FHFXxy",
        "colab_type": "code",
        "colab": {}
      },
      "source": [
        "# transforms variables\n",
        "(train_X_cat, train_X_cont, valid_X_cat, valid_X_cont, test_X_cat, test_X_cont), level_arr \\\n",
        "= transform_dataset(train_X, valid_X, test_X)"
      ],
      "execution_count": 0,
      "outputs": []
    },
    {
      "cell_type": "code",
      "metadata": {
        "id": "DDq6kdfdFaU6",
        "colab_type": "code",
        "colab": {}
      },
      "source": [
        "class TabularDataSet(Dataset):\n",
        "    def __init__(self, X_cat, X_cont, Y):\n",
        "        self.X_cat = X_cat\n",
        "        self.X_cont = X_cont\n",
        "        self.Y = Y\n",
        "\n",
        "    def __getitem__(self, index):\n",
        "        return self.X_cat[index], self.X_cont[index], self.Y[index]\n",
        "\n",
        "    def __len__(self):\n",
        "        return len(self.Y)"
      ],
      "execution_count": 0,
      "outputs": []
    },
    {
      "cell_type": "code",
      "metadata": {
        "id": "VMRFQNZGFcUa",
        "colab_type": "code",
        "colab": {}
      },
      "source": [
        "batch_size = 5\n",
        "train_ds = TabularDataSet(train_X_cat, train_X_cont, train_y)\n",
        "valid_ds = TabularDataSet(valid_X_cat, valid_X_cont, valid_y)\n",
        "test_ds = TabularDataSet(test_X_cat, test_X_cont, valid_y)\n",
        "\n",
        "train_dl = DataLoader(train_ds, batch_size=batch_size, shuffle=True)\n",
        "valid_dl = DataLoader(valid_ds, batch_size=batch_size)\n",
        "test_dl = DataLoader(test_ds, batch_size=batch_size)"
      ],
      "execution_count": 0,
      "outputs": []
    },
    {
      "cell_type": "code",
      "metadata": {
        "id": "0uVT7YjBFwHm",
        "colab_type": "code",
        "colab": {}
      },
      "source": [
        "def save_model(m, p): torch.save(m.state_dict(), p)\n",
        "    \n",
        "def load_model(m, p): m.load_state_dict(torch.load(p))"
      ],
      "execution_count": 0,
      "outputs": []
    },
    {
      "cell_type": "code",
      "metadata": {
        "id": "quraYAJuGSNy",
        "colab_type": "code",
        "colab": {}
      },
      "source": [
        "def cosine_segment(start_lr, end_lr, iterations):\n",
        "    i = np.arange(iterations)\n",
        "    c_i = 1 + np.cos(i*np.pi/iterations)\n",
        "    return end_lr + (start_lr - end_lr)/2 *c_i\n",
        "\n",
        "def get_cosine_triangular_lr(max_lr, iterations, div_start=5, div_end=5):\n",
        "    min_start, min_end = max_lr/div_start, max_lr/div_end\n",
        "    iter1 = int(0.3*iterations)\n",
        "    iter2 = iterations - iter1\n",
        "    segs = [cosine_segment(min_start, max_lr, iter1), cosine_segment(max_lr, min_end, iter2)]\n",
        "    return np.concatenate(segs)"
      ],
      "execution_count": 0,
      "outputs": []
    },
    {
      "cell_type": "code",
      "metadata": {
        "id": "xY5QZi0jFwnA",
        "colab_type": "code",
        "colab": {}
      },
      "source": [
        "def update_optimizer(optimizer, lr):\n",
        "    for i, param_group in enumerate(optimizer.param_groups):\n",
        "        param_group[\"lr\"] = lr"
      ],
      "execution_count": 0,
      "outputs": []
    },
    {
      "cell_type": "code",
      "metadata": {
        "id": "zrBQDq18F0ay",
        "colab_type": "code",
        "colab": {}
      },
      "source": [
        "def val_metrics(model, valid_dl):\n",
        "    model.eval()\n",
        "    total = 0\n",
        "    sum_loss = 0\n",
        "    y_hat = []\n",
        "    ys = []\n",
        "    for x1, x2, y in valid_dl:\n",
        "        batch = y.shape[0]\n",
        "        y = y.unsqueeze(1).float()\n",
        "        out = model(x1.long().cuda(), x2.float().cuda())\n",
        "        loss = F.mse_loss(out, y.cuda())\n",
        "        sum_loss += batch*(loss.item())\n",
        "        total += batch\n",
        "        y_hat.append(out.detach().cpu().numpy())\n",
        "        ys.append(y)\n",
        "    \n",
        "    y_hat = np.vstack(y_hat)\n",
        "    ys = np.vstack(ys)\n",
        "    r2 = metrics.r2_score(ys, y_hat)\n",
        "    return sum_loss/total, r2"
      ],
      "execution_count": 0,
      "outputs": []
    },
    {
      "cell_type": "code",
      "metadata": {
        "id": "Rde-Ip8cF3rQ",
        "colab_type": "code",
        "colab": {}
      },
      "source": [
        "def train_model(model, train_dl, valid_dl, optimizer, max_lr=0.05, epochs=100):\n",
        "    device = torch.device(\"cuda:0\" if torch.cuda.is_available() else \"cpu\")\n",
        "    model.to(device)\n",
        "    iterations = epochs*len(train_dl)\n",
        "    pbar = tqdm_notebook(total=iterations)\n",
        "    idx = 0\n",
        "    best_val_r2 = 0\n",
        "    lrs = get_cosine_triangular_lr(max_lr, iterations)\n",
        "    for t in range(epochs):\n",
        "        model.train()\n",
        "        total_loss = 0\n",
        "        total = 0\n",
        "        for x1, x2, y in train_dl:\n",
        "            update_optimizer(optimizer, lrs[idx])\n",
        "            x1 = x1.long().cuda()\n",
        "            x2 = x2.float().cuda()\n",
        "            y = y.unsqueeze(1).float().cuda()\n",
        "            y_hat = model(x1, x2)\n",
        "            loss = F.mse_loss(y_hat, y)\n",
        "            optimizer.zero_grad()\n",
        "            loss.backward()\n",
        "            optimizer.step()\n",
        "            total_loss += loss.item()*y.size(0)\n",
        "            total += y.size(0)\n",
        "            idx +=1\n",
        "            pbar.update()\n",
        "        val_loss, val_r2 = val_metrics(model, valid_dl)\n",
        "        print(\"\\tTrain loss: {:.3f} \\t Valid loss: {:.3f} \\t Valid R2:  {:.3f}\".format(\n",
        "            total_loss/total, val_loss, val_r2))  \n",
        "        if best_val_r2 < val_r2:\n",
        "            best_val_r2 = val_r2\n",
        "            path = \"{0}/models/model_{1}_acc_{2:.0f}.pth\".format(PATH, dataset, 100*val_r2) \n",
        "            save_model(model, path)\n",
        "            print(path)\n",
        "            \n",
        "    print(\"Best valid r2: {:.3f}\".format(best_val_r2))\n",
        "    return best_val_r2"
      ],
      "execution_count": 0,
      "outputs": []
    },
    {
      "cell_type": "code",
      "metadata": {
        "id": "lv2EcXVVF-p-",
        "colab_type": "code",
        "colab": {}
      },
      "source": [
        "class TabularNet_4_first(nn.Module):\n",
        "    def __init__(self, num_cont, num_cat, level_arr, hidden_dim=1000, hidden_dim2=1000):\n",
        "        super(TabularNet_4_first, self).__init__()\n",
        "        in_dim = num_cont + 2*num_cat\n",
        "        self.embs = nn.ModuleList([nn.Embedding(level_arr[i], 2) for i in range(len(level_arr))])\n",
        "        self.bn1 = nn.BatchNorm1d(hidden_dim)\n",
        "        self.bn2 = nn.BatchNorm1d(hidden_dim2)\n",
        "        self.linear1 = nn.Linear(in_dim, hidden_dim)\n",
        "        self.linear2 = nn.Linear(hidden_dim, hidden_dim2)\n",
        "        self.linear3 = nn.Linear(hidden_dim2, 1)\n",
        "        self.dropout = nn.Dropout(0.2)\n",
        "                                  \n",
        "    def forward(self, x_cat, x_cont):\n",
        "        x_cat = [self.embs[i](x_cat[:,i]) for i in range(x_cat.size(1))]\n",
        "        x_cat = torch.cat(x_cat, dim=1)\n",
        "        x_cat = self.dropout(x_cat)\n",
        "        x = torch.cat([x_cont, x_cat], dim=1)\n",
        "        x = self.bn1(F.relu(self.linear1(x)))\n",
        "        x = self.dropout(x)\n",
        "        x = self.bn2(F.relu(self.linear2(x)))\n",
        "        return self.linear3(x)"
      ],
      "execution_count": 0,
      "outputs": []
    },
    {
      "cell_type": "code",
      "metadata": {
        "id": "RvPdmeIXGA7B",
        "colab_type": "code",
        "colab": {}
      },
      "source": [
        "class TabularNet_4_second(nn.Module):\n",
        "    def __init__(self, num_cont, num_cat, level_arr, hidden_dim=1000, hidden_dim2=1000):\n",
        "        super(TabularNet_4_second, self).__init__()\n",
        "        in_dim = num_cont + 2*num_cat\n",
        "        self.embs = nn.ModuleList([nn.Embedding(level_arr[i], 2) for i in range(len(level_arr))])\n",
        "        self.bn1 = nn.BatchNorm1d(hidden_dim)\n",
        "        self.bn2 = nn.BatchNorm1d(hidden_dim2)\n",
        "        self.linear1 = nn.Linear(in_dim, hidden_dim)\n",
        "        self.linear2 = nn.Linear(hidden_dim+in_dim, hidden_dim2)\n",
        "        self.linear3 = nn.Linear(hidden_dim2+in_dim, 1)\n",
        "        self.dropout = nn.Dropout(0.2)\n",
        "                                  \n",
        "    def forward(self, x_cat, x_cont):\n",
        "        x_cat = [self.embs[i](x_cat[:,i]) for i in range(x_cat.size(1))]\n",
        "        x_cat = torch.cat(x_cat, dim=1)\n",
        "        x_cat = self.dropout(x_cat)\n",
        "        x1 = torch.cat([x_cont, x_cat], dim=1)\n",
        "        x = self.bn1(F.relu(self.linear1(x1)))\n",
        "        x = torch.cat([x, x1], dim=1)\n",
        "        x = self.dropout(x)\n",
        "        x = self.bn2(F.relu(self.linear2(x)))\n",
        "        x = torch.cat([x, x1], dim=1)\n",
        "        return self.linear3(x)"
      ],
      "execution_count": 0,
      "outputs": []
    },
    {
      "cell_type": "code",
      "metadata": {
        "id": "r34xPxi5GCJq",
        "colab_type": "code",
        "colab": {}
      },
      "source": [
        "batch_size = 8192\n",
        "\n",
        "num_cont = train_X_cont.shape[1]\n",
        "num_cat = train_X_cat.shape[1]\n",
        "\n",
        "train_dl = DataLoader(train_ds, batch_size=batch_size, shuffle=True)\n",
        "valid_dl = DataLoader(valid_ds, batch_size=batch_size)"
      ],
      "execution_count": 0,
      "outputs": []
    },
    {
      "cell_type": "code",
      "metadata": {
        "id": "ni7Nve8wGFXe",
        "colab_type": "code",
        "colab": {}
      },
      "source": [
        "model = TabularNet_4_first(num_cont, num_cat, level_arr).cuda()"
      ],
      "execution_count": 0,
      "outputs": []
    },
    {
      "cell_type": "code",
      "metadata": {
        "id": "4BUhCi7IGGQB",
        "colab_type": "code",
        "colab": {
          "base_uri": "https://localhost:8080/",
          "height": 1000,
          "referenced_widgets": [
            "6f1472fc9a2145ec8409200cced58576",
            "ee02d882258c4ea7bc0c390830d41b0b",
            "ba15e13de2ef41feacb47f094bc6bf22",
            "774f6da5f1ee445eb2dc0816248be6a9",
            "7fd9461c37894eb89ec29ea4b30194b1",
            "3b6d531cd5124ebb9cd7673916957dd5",
            "ec8bcdfcf77b4871b3ee0d9ce8098ded",
            "7f586fbc10b04ff8bbc6789e15e30b5c"
          ]
        },
        "outputId": "6db4e3cf-8611-4af3-ae67-c444303f2f16"
      },
      "source": [
        "optimizer = torch.optim.Adam(model.parameters(), lr=0.5, weight_decay=1e-5)\n",
        "best_val = train_model(model, train_dl, valid_dl, optimizer, epochs=100)"
      ],
      "execution_count": 215,
      "outputs": [
        {
          "output_type": "stream",
          "text": [
            "/usr/local/lib/python3.6/dist-packages/ipykernel_launcher.py:5: TqdmDeprecationWarning: This function will be removed in tqdm==5.0.0\n",
            "Please use `tqdm.notebook.tqdm` instead of `tqdm.tqdm_notebook`\n",
            "  \"\"\"\n"
          ],
          "name": "stderr"
        },
        {
          "output_type": "display_data",
          "data": {
            "application/vnd.jupyter.widget-view+json": {
              "model_id": "6f1472fc9a2145ec8409200cced58576",
              "version_minor": 0,
              "version_major": 2
            },
            "text/plain": [
              "HBox(children=(FloatProgress(value=0.0, max=8800.0), HTML(value='')))"
            ]
          },
          "metadata": {
            "tags": []
          }
        },
        {
          "output_type": "stream",
          "text": [
            "\tTrain loss: 1.322 \t Valid loss: 0.554 \t Valid R2:  0.060\n",
            "/content/models/model_1595_poker_acc_6.pth\n",
            "\tTrain loss: 0.566 \t Valid loss: 0.552 \t Valid R2:  0.063\n",
            "/content/models/model_1595_poker_acc_6.pth\n",
            "\tTrain loss: 0.565 \t Valid loss: 0.553 \t Valid R2:  0.061\n",
            "\tTrain loss: 0.575 \t Valid loss: 0.540 \t Valid R2:  0.084\n",
            "/content/models/model_1595_poker_acc_8.pth\n",
            "\tTrain loss: 0.549 \t Valid loss: 0.508 \t Valid R2:  0.138\n",
            "/content/models/model_1595_poker_acc_14.pth\n",
            "\tTrain loss: 0.537 \t Valid loss: 0.530 \t Valid R2:  0.101\n",
            "\tTrain loss: 0.525 \t Valid loss: 0.500 \t Valid R2:  0.151\n",
            "/content/models/model_1595_poker_acc_15.pth\n",
            "\tTrain loss: 0.516 \t Valid loss: 0.485 \t Valid R2:  0.176\n",
            "/content/models/model_1595_poker_acc_18.pth\n",
            "\tTrain loss: 0.487 \t Valid loss: 0.432 \t Valid R2:  0.266\n",
            "/content/models/model_1595_poker_acc_27.pth\n",
            "\tTrain loss: 0.447 \t Valid loss: 0.398 \t Valid R2:  0.326\n",
            "/content/models/model_1595_poker_acc_33.pth\n",
            "\tTrain loss: 0.411 \t Valid loss: 0.485 \t Valid R2:  0.178\n",
            "\tTrain loss: 0.371 \t Valid loss: 0.290 \t Valid R2:  0.508\n",
            "/content/models/model_1595_poker_acc_51.pth\n",
            "\tTrain loss: 0.279 \t Valid loss: 0.211 \t Valid R2:  0.641\n",
            "/content/models/model_1595_poker_acc_64.pth\n",
            "\tTrain loss: 0.220 \t Valid loss: 0.186 \t Valid R2:  0.684\n",
            "/content/models/model_1595_poker_acc_68.pth\n",
            "\tTrain loss: 0.172 \t Valid loss: 0.168 \t Valid R2:  0.716\n",
            "/content/models/model_1595_poker_acc_72.pth\n",
            "\tTrain loss: 0.157 \t Valid loss: 0.142 \t Valid R2:  0.759\n",
            "/content/models/model_1595_poker_acc_76.pth\n",
            "\tTrain loss: 0.146 \t Valid loss: 0.177 \t Valid R2:  0.700\n",
            "\tTrain loss: 0.139 \t Valid loss: 0.144 \t Valid R2:  0.755\n",
            "\tTrain loss: 0.143 \t Valid loss: 0.151 \t Valid R2:  0.744\n",
            "\tTrain loss: 0.142 \t Valid loss: 0.281 \t Valid R2:  0.523\n",
            "\tTrain loss: 0.140 \t Valid loss: 0.131 \t Valid R2:  0.778\n",
            "/content/models/model_1595_poker_acc_78.pth\n",
            "\tTrain loss: 0.136 \t Valid loss: 0.128 \t Valid R2:  0.783\n",
            "/content/models/model_1595_poker_acc_78.pth\n",
            "\tTrain loss: 0.143 \t Valid loss: 0.169 \t Valid R2:  0.713\n",
            "\tTrain loss: 0.137 \t Valid loss: 0.157 \t Valid R2:  0.733\n",
            "\tTrain loss: 0.136 \t Valid loss: 0.129 \t Valid R2:  0.781\n",
            "\tTrain loss: 0.136 \t Valid loss: 0.246 \t Valid R2:  0.582\n",
            "\tTrain loss: 0.138 \t Valid loss: 0.123 \t Valid R2:  0.791\n",
            "/content/models/model_1595_poker_acc_79.pth\n",
            "\tTrain loss: 0.140 \t Valid loss: 0.132 \t Valid R2:  0.776\n",
            "\tTrain loss: 0.138 \t Valid loss: 0.142 \t Valid R2:  0.760\n",
            "\tTrain loss: 0.134 \t Valid loss: 0.154 \t Valid R2:  0.739\n",
            "\tTrain loss: 0.139 \t Valid loss: 0.162 \t Valid R2:  0.725\n",
            "\tTrain loss: 0.135 \t Valid loss: 0.188 \t Valid R2:  0.681\n",
            "\tTrain loss: 0.134 \t Valid loss: 0.142 \t Valid R2:  0.760\n",
            "\tTrain loss: 0.137 \t Valid loss: 0.134 \t Valid R2:  0.773\n",
            "\tTrain loss: 0.138 \t Valid loss: 0.141 \t Valid R2:  0.760\n",
            "\tTrain loss: 0.133 \t Valid loss: 0.151 \t Valid R2:  0.744\n",
            "\tTrain loss: 0.133 \t Valid loss: 0.190 \t Valid R2:  0.678\n",
            "\tTrain loss: 0.133 \t Valid loss: 0.174 \t Valid R2:  0.705\n",
            "\tTrain loss: 0.134 \t Valid loss: 0.147 \t Valid R2:  0.750\n",
            "\tTrain loss: 0.134 \t Valid loss: 0.142 \t Valid R2:  0.759\n",
            "\tTrain loss: 0.133 \t Valid loss: 0.130 \t Valid R2:  0.780\n",
            "\tTrain loss: 0.135 \t Valid loss: 0.374 \t Valid R2:  0.365\n",
            "\tTrain loss: 0.134 \t Valid loss: 0.179 \t Valid R2:  0.696\n",
            "\tTrain loss: 0.133 \t Valid loss: 0.128 \t Valid R2:  0.782\n",
            "\tTrain loss: 0.131 \t Valid loss: 0.131 \t Valid R2:  0.777\n",
            "\tTrain loss: 0.135 \t Valid loss: 0.131 \t Valid R2:  0.777\n",
            "\tTrain loss: 0.129 \t Valid loss: 0.134 \t Valid R2:  0.772\n",
            "\tTrain loss: 0.133 \t Valid loss: 0.138 \t Valid R2:  0.767\n",
            "\tTrain loss: 0.130 \t Valid loss: 0.125 \t Valid R2:  0.787\n",
            "\tTrain loss: 0.132 \t Valid loss: 0.132 \t Valid R2:  0.777\n",
            "\tTrain loss: 0.129 \t Valid loss: 0.146 \t Valid R2:  0.752\n",
            "\tTrain loss: 0.129 \t Valid loss: 0.136 \t Valid R2:  0.770\n",
            "\tTrain loss: 0.130 \t Valid loss: 0.119 \t Valid R2:  0.799\n",
            "/content/models/model_1595_poker_acc_80.pth\n",
            "\tTrain loss: 0.128 \t Valid loss: 0.132 \t Valid R2:  0.776\n",
            "\tTrain loss: 0.129 \t Valid loss: 0.125 \t Valid R2:  0.788\n",
            "\tTrain loss: 0.131 \t Valid loss: 0.130 \t Valid R2:  0.779\n",
            "\tTrain loss: 0.130 \t Valid loss: 0.146 \t Valid R2:  0.752\n",
            "\tTrain loss: 0.128 \t Valid loss: 0.136 \t Valid R2:  0.769\n",
            "\tTrain loss: 0.128 \t Valid loss: 0.156 \t Valid R2:  0.736\n",
            "\tTrain loss: 0.128 \t Valid loss: 0.136 \t Valid R2:  0.770\n",
            "\tTrain loss: 0.127 \t Valid loss: 0.150 \t Valid R2:  0.746\n",
            "\tTrain loss: 0.128 \t Valid loss: 0.130 \t Valid R2:  0.780\n",
            "\tTrain loss: 0.125 \t Valid loss: 0.125 \t Valid R2:  0.787\n",
            "\tTrain loss: 0.126 \t Valid loss: 0.136 \t Valid R2:  0.770\n",
            "\tTrain loss: 0.126 \t Valid loss: 0.126 \t Valid R2:  0.785\n",
            "\tTrain loss: 0.126 \t Valid loss: 0.144 \t Valid R2:  0.756\n",
            "\tTrain loss: 0.126 \t Valid loss: 0.121 \t Valid R2:  0.794\n",
            "\tTrain loss: 0.123 \t Valid loss: 0.127 \t Valid R2:  0.785\n",
            "\tTrain loss: 0.124 \t Valid loss: 0.119 \t Valid R2:  0.798\n",
            "\tTrain loss: 0.125 \t Valid loss: 0.117 \t Valid R2:  0.801\n",
            "/content/models/model_1595_poker_acc_80.pth\n",
            "\tTrain loss: 0.124 \t Valid loss: 0.120 \t Valid R2:  0.796\n",
            "\tTrain loss: 0.122 \t Valid loss: 0.118 \t Valid R2:  0.800\n",
            "\tTrain loss: 0.122 \t Valid loss: 0.139 \t Valid R2:  0.764\n",
            "\tTrain loss: 0.122 \t Valid loss: 0.111 \t Valid R2:  0.812\n",
            "/content/models/model_1595_poker_acc_81.pth\n",
            "\tTrain loss: 0.121 \t Valid loss: 0.131 \t Valid R2:  0.778\n",
            "\tTrain loss: 0.121 \t Valid loss: 0.113 \t Valid R2:  0.809\n",
            "\tTrain loss: 0.121 \t Valid loss: 0.114 \t Valid R2:  0.807\n",
            "\tTrain loss: 0.120 \t Valid loss: 0.122 \t Valid R2:  0.794\n",
            "\tTrain loss: 0.119 \t Valid loss: 0.110 \t Valid R2:  0.814\n",
            "/content/models/model_1595_poker_acc_81.pth\n",
            "\tTrain loss: 0.119 \t Valid loss: 0.107 \t Valid R2:  0.819\n",
            "/content/models/model_1595_poker_acc_82.pth\n",
            "\tTrain loss: 0.118 \t Valid loss: 0.108 \t Valid R2:  0.817\n",
            "\tTrain loss: 0.118 \t Valid loss: 0.110 \t Valid R2:  0.813\n",
            "\tTrain loss: 0.117 \t Valid loss: 0.112 \t Valid R2:  0.811\n",
            "\tTrain loss: 0.117 \t Valid loss: 0.113 \t Valid R2:  0.808\n",
            "\tTrain loss: 0.116 \t Valid loss: 0.106 \t Valid R2:  0.820\n",
            "/content/models/model_1595_poker_acc_82.pth\n",
            "\tTrain loss: 0.115 \t Valid loss: 0.110 \t Valid R2:  0.814\n",
            "\tTrain loss: 0.116 \t Valid loss: 0.105 \t Valid R2:  0.822\n",
            "/content/models/model_1595_poker_acc_82.pth\n",
            "\tTrain loss: 0.114 \t Valid loss: 0.105 \t Valid R2:  0.821\n",
            "\tTrain loss: 0.114 \t Valid loss: 0.099 \t Valid R2:  0.831\n",
            "/content/models/model_1595_poker_acc_83.pth\n",
            "\tTrain loss: 0.112 \t Valid loss: 0.102 \t Valid R2:  0.827\n",
            "\tTrain loss: 0.113 \t Valid loss: 0.104 \t Valid R2:  0.823\n",
            "\tTrain loss: 0.112 \t Valid loss: 0.100 \t Valid R2:  0.830\n",
            "\tTrain loss: 0.111 \t Valid loss: 0.096 \t Valid R2:  0.837\n",
            "/content/models/model_1595_poker_acc_84.pth\n",
            "\tTrain loss: 0.111 \t Valid loss: 0.093 \t Valid R2:  0.843\n",
            "/content/models/model_1595_poker_acc_84.pth\n",
            "\tTrain loss: 0.110 \t Valid loss: 0.112 \t Valid R2:  0.809\n",
            "\tTrain loss: 0.110 \t Valid loss: 0.105 \t Valid R2:  0.822\n",
            "\tTrain loss: 0.109 \t Valid loss: 0.101 \t Valid R2:  0.829\n",
            "\tTrain loss: 0.109 \t Valid loss: 0.098 \t Valid R2:  0.834\n",
            "\tTrain loss: 0.109 \t Valid loss: 0.096 \t Valid R2:  0.836\n",
            "\tTrain loss: 0.109 \t Valid loss: 0.101 \t Valid R2:  0.828\n",
            "Best valid r2: 0.843\n"
          ],
          "name": "stdout"
        }
      ]
    },
    {
      "cell_type": "code",
      "metadata": {
        "id": "MQlqYmXcGJSu",
        "colab_type": "code",
        "colab": {}
      },
      "source": [
        "model = TabularNet_4_second(num_cont, num_cat, level_arr).cuda()"
      ],
      "execution_count": 0,
      "outputs": []
    },
    {
      "cell_type": "code",
      "metadata": {
        "id": "QCta7xGjTmup",
        "colab_type": "code",
        "colab": {
          "base_uri": "https://localhost:8080/",
          "height": 1000,
          "referenced_widgets": [
            "49c66949cce74f0f89dbb08240eeb727",
            "d0641b1a698243ff88bca1a811c1f7c7",
            "d3a529ed234645f1abb37197cf7fbe2f",
            "9423100b2a7445b1868ff3fe6668aeec",
            "858dfd8284b54615af3640f562209227",
            "504157b7e3fb4e4994e27bbf8a676155",
            "f77703bd454b48249a4527b136cdd350",
            "4861dc86e3a948b0ba286cbe4c39b0c0"
          ]
        },
        "outputId": "efb792a0-7508-41d2-86c2-f8e002274611"
      },
      "source": [
        "optimizer = torch.optim.Adam(model.parameters(), lr=0.05, weight_decay=1e-5)\n",
        "best_val = train_model(model, train_dl, valid_dl, optimizer, epochs=100)"
      ],
      "execution_count": 230,
      "outputs": [
        {
          "output_type": "stream",
          "text": [
            "/usr/local/lib/python3.6/dist-packages/ipykernel_launcher.py:5: TqdmDeprecationWarning: This function will be removed in tqdm==5.0.0\n",
            "Please use `tqdm.notebook.tqdm` instead of `tqdm.tqdm_notebook`\n",
            "  \"\"\"\n"
          ],
          "name": "stderr"
        },
        {
          "output_type": "display_data",
          "data": {
            "application/vnd.jupyter.widget-view+json": {
              "model_id": "49c66949cce74f0f89dbb08240eeb727",
              "version_minor": 0,
              "version_major": 2
            },
            "text/plain": [
              "HBox(children=(FloatProgress(value=0.0, max=8800.0), HTML(value='')))"
            ]
          },
          "metadata": {
            "tags": []
          }
        },
        {
          "output_type": "stream",
          "text": [
            "\tTrain loss: 4.040 \t Valid loss: 0.552 \t Valid R2:  0.064\n",
            "/content/models/model_1595_poker_acc_6.pth\n",
            "\tTrain loss: 0.568 \t Valid loss: 0.547 \t Valid R2:  0.072\n",
            "/content/models/model_1595_poker_acc_7.pth\n",
            "\tTrain loss: 0.563 \t Valid loss: 0.545 \t Valid R2:  0.075\n",
            "/content/models/model_1595_poker_acc_8.pth\n",
            "\tTrain loss: 0.560 \t Valid loss: 0.542 \t Valid R2:  0.081\n",
            "/content/models/model_1595_poker_acc_8.pth\n",
            "\tTrain loss: 0.554 \t Valid loss: 0.532 \t Valid R2:  0.097\n",
            "/content/models/model_1595_poker_acc_10.pth\n",
            "\tTrain loss: 0.537 \t Valid loss: 0.514 \t Valid R2:  0.128\n",
            "/content/models/model_1595_poker_acc_13.pth\n",
            "\tTrain loss: 0.525 \t Valid loss: 0.500 \t Valid R2:  0.152\n",
            "/content/models/model_1595_poker_acc_15.pth\n",
            "\tTrain loss: 0.514 \t Valid loss: 0.482 \t Valid R2:  0.182\n",
            "/content/models/model_1595_poker_acc_18.pth\n",
            "\tTrain loss: 0.504 \t Valid loss: 0.469 \t Valid R2:  0.204\n",
            "/content/models/model_1595_poker_acc_20.pth\n",
            "\tTrain loss: 0.488 \t Valid loss: 0.449 \t Valid R2:  0.238\n",
            "/content/models/model_1595_poker_acc_24.pth\n",
            "\tTrain loss: 0.476 \t Valid loss: 0.423 \t Valid R2:  0.282\n",
            "/content/models/model_1595_poker_acc_28.pth\n",
            "\tTrain loss: 0.450 \t Valid loss: 0.412 \t Valid R2:  0.302\n",
            "/content/models/model_1595_poker_acc_30.pth\n",
            "\tTrain loss: 0.418 \t Valid loss: 0.352 \t Valid R2:  0.402\n",
            "/content/models/model_1595_poker_acc_40.pth\n",
            "\tTrain loss: 0.379 \t Valid loss: 0.333 \t Valid R2:  0.434\n",
            "/content/models/model_1595_poker_acc_43.pth\n",
            "\tTrain loss: 0.337 \t Valid loss: 0.308 \t Valid R2:  0.478\n",
            "/content/models/model_1595_poker_acc_48.pth\n",
            "\tTrain loss: 0.290 \t Valid loss: 0.271 \t Valid R2:  0.540\n",
            "/content/models/model_1595_poker_acc_54.pth\n",
            "\tTrain loss: 0.245 \t Valid loss: 0.174 \t Valid R2:  0.704\n",
            "/content/models/model_1595_poker_acc_70.pth\n",
            "\tTrain loss: 0.211 \t Valid loss: 0.264 \t Valid R2:  0.552\n",
            "\tTrain loss: 0.182 \t Valid loss: 0.159 \t Valid R2:  0.730\n",
            "/content/models/model_1595_poker_acc_73.pth\n",
            "\tTrain loss: 0.165 \t Valid loss: 0.148 \t Valid R2:  0.749\n",
            "/content/models/model_1595_poker_acc_75.pth\n",
            "\tTrain loss: 0.162 \t Valid loss: 0.133 \t Valid R2:  0.775\n",
            "/content/models/model_1595_poker_acc_77.pth\n",
            "\tTrain loss: 0.158 \t Valid loss: 0.288 \t Valid R2:  0.511\n",
            "\tTrain loss: 0.150 \t Valid loss: 0.141 \t Valid R2:  0.761\n",
            "\tTrain loss: 0.152 \t Valid loss: 0.144 \t Valid R2:  0.755\n",
            "\tTrain loss: 0.155 \t Valid loss: 0.177 \t Valid R2:  0.699\n",
            "\tTrain loss: 0.146 \t Valid loss: 0.140 \t Valid R2:  0.762\n",
            "\tTrain loss: 0.154 \t Valid loss: 0.183 \t Valid R2:  0.689\n",
            "\tTrain loss: 0.151 \t Valid loss: 0.208 \t Valid R2:  0.646\n",
            "\tTrain loss: 0.140 \t Valid loss: 0.149 \t Valid R2:  0.746\n",
            "\tTrain loss: 0.142 \t Valid loss: 0.131 \t Valid R2:  0.777\n",
            "/content/models/model_1595_poker_acc_78.pth\n",
            "\tTrain loss: 0.143 \t Valid loss: 0.296 \t Valid R2:  0.498\n",
            "\tTrain loss: 0.141 \t Valid loss: 0.139 \t Valid R2:  0.764\n",
            "\tTrain loss: 0.135 \t Valid loss: 0.158 \t Valid R2:  0.732\n",
            "\tTrain loss: 0.135 \t Valid loss: 0.127 \t Valid R2:  0.784\n",
            "/content/models/model_1595_poker_acc_78.pth\n",
            "\tTrain loss: 0.133 \t Valid loss: 0.171 \t Valid R2:  0.711\n",
            "\tTrain loss: 0.134 \t Valid loss: 0.134 \t Valid R2:  0.772\n",
            "\tTrain loss: 0.135 \t Valid loss: 0.171 \t Valid R2:  0.711\n",
            "\tTrain loss: 0.136 \t Valid loss: 0.139 \t Valid R2:  0.763\n",
            "\tTrain loss: 0.135 \t Valid loss: 0.142 \t Valid R2:  0.760\n",
            "\tTrain loss: 0.136 \t Valid loss: 0.264 \t Valid R2:  0.551\n",
            "\tTrain loss: 0.134 \t Valid loss: 0.293 \t Valid R2:  0.503\n",
            "\tTrain loss: 0.137 \t Valid loss: 0.136 \t Valid R2:  0.770\n",
            "\tTrain loss: 0.135 \t Valid loss: 3.279 \t Valid R2:  -4.564\n",
            "\tTrain loss: 0.133 \t Valid loss: 0.134 \t Valid R2:  0.772\n",
            "\tTrain loss: 0.133 \t Valid loss: 0.122 \t Valid R2:  0.792\n",
            "/content/models/model_1595_poker_acc_79.pth\n",
            "\tTrain loss: 0.136 \t Valid loss: 0.149 \t Valid R2:  0.747\n",
            "\tTrain loss: 0.134 \t Valid loss: 0.141 \t Valid R2:  0.761\n",
            "\tTrain loss: 0.131 \t Valid loss: 0.121 \t Valid R2:  0.795\n",
            "/content/models/model_1595_poker_acc_79.pth\n",
            "\tTrain loss: 0.134 \t Valid loss: 0.135 \t Valid R2:  0.771\n",
            "\tTrain loss: 0.131 \t Valid loss: 0.130 \t Valid R2:  0.779\n",
            "\tTrain loss: 0.131 \t Valid loss: 0.125 \t Valid R2:  0.788\n",
            "\tTrain loss: 0.138 \t Valid loss: 0.161 \t Valid R2:  0.727\n",
            "\tTrain loss: 0.129 \t Valid loss: 0.153 \t Valid R2:  0.740\n",
            "\tTrain loss: 0.130 \t Valid loss: 0.129 \t Valid R2:  0.780\n",
            "\tTrain loss: 0.129 \t Valid loss: 0.143 \t Valid R2:  0.757\n",
            "\tTrain loss: 0.130 \t Valid loss: 0.122 \t Valid R2:  0.792\n",
            "\tTrain loss: 0.128 \t Valid loss: 0.119 \t Valid R2:  0.799\n",
            "/content/models/model_1595_poker_acc_80.pth\n",
            "\tTrain loss: 0.128 \t Valid loss: 0.141 \t Valid R2:  0.761\n",
            "\tTrain loss: 0.129 \t Valid loss: 0.121 \t Valid R2:  0.795\n",
            "\tTrain loss: 0.127 \t Valid loss: 0.259 \t Valid R2:  0.560\n",
            "\tTrain loss: 0.128 \t Valid loss: 0.130 \t Valid R2:  0.779\n",
            "\tTrain loss: 0.129 \t Valid loss: 0.130 \t Valid R2:  0.779\n",
            "\tTrain loss: 0.126 \t Valid loss: 0.116 \t Valid R2:  0.803\n",
            "/content/models/model_1595_poker_acc_80.pth\n",
            "\tTrain loss: 0.126 \t Valid loss: 0.129 \t Valid R2:  0.782\n",
            "\tTrain loss: 0.126 \t Valid loss: 0.121 \t Valid R2:  0.795\n",
            "\tTrain loss: 0.125 \t Valid loss: 0.128 \t Valid R2:  0.783\n",
            "\tTrain loss: 0.130 \t Valid loss: 0.120 \t Valid R2:  0.796\n",
            "\tTrain loss: 0.125 \t Valid loss: 0.126 \t Valid R2:  0.786\n",
            "\tTrain loss: 0.123 \t Valid loss: 0.147 \t Valid R2:  0.750\n",
            "\tTrain loss: 0.125 \t Valid loss: 0.116 \t Valid R2:  0.804\n",
            "/content/models/model_1595_poker_acc_80.pth\n",
            "\tTrain loss: 0.123 \t Valid loss: 0.123 \t Valid R2:  0.792\n",
            "\tTrain loss: 0.123 \t Valid loss: 0.119 \t Valid R2:  0.799\n",
            "\tTrain loss: 0.123 \t Valid loss: 0.153 \t Valid R2:  0.741\n",
            "\tTrain loss: 0.122 \t Valid loss: 0.127 \t Valid R2:  0.785\n",
            "\tTrain loss: 0.122 \t Valid loss: 0.124 \t Valid R2:  0.790\n",
            "\tTrain loss: 0.121 \t Valid loss: 0.118 \t Valid R2:  0.800\n",
            "\tTrain loss: 0.120 \t Valid loss: 0.114 \t Valid R2:  0.807\n",
            "/content/models/model_1595_poker_acc_81.pth\n",
            "\tTrain loss: 0.121 \t Valid loss: 0.173 \t Valid R2:  0.706\n",
            "\tTrain loss: 0.120 \t Valid loss: 0.114 \t Valid R2:  0.806\n",
            "\tTrain loss: 0.119 \t Valid loss: 0.111 \t Valid R2:  0.812\n",
            "/content/models/model_1595_poker_acc_81.pth\n",
            "\tTrain loss: 0.120 \t Valid loss: 0.108 \t Valid R2:  0.817\n",
            "/content/models/model_1595_poker_acc_82.pth\n",
            "\tTrain loss: 0.118 \t Valid loss: 0.110 \t Valid R2:  0.813\n",
            "\tTrain loss: 0.118 \t Valid loss: 0.114 \t Valid R2:  0.807\n",
            "\tTrain loss: 0.118 \t Valid loss: 0.112 \t Valid R2:  0.810\n",
            "\tTrain loss: 0.117 \t Valid loss: 0.115 \t Valid R2:  0.805\n",
            "\tTrain loss: 0.116 \t Valid loss: 0.114 \t Valid R2:  0.807\n",
            "\tTrain loss: 0.116 \t Valid loss: 0.106 \t Valid R2:  0.820\n",
            "/content/models/model_1595_poker_acc_82.pth\n",
            "\tTrain loss: 0.115 \t Valid loss: 0.119 \t Valid R2:  0.797\n",
            "\tTrain loss: 0.114 \t Valid loss: 0.108 \t Valid R2:  0.817\n",
            "\tTrain loss: 0.115 \t Valid loss: 0.102 \t Valid R2:  0.826\n",
            "/content/models/model_1595_poker_acc_83.pth\n",
            "\tTrain loss: 0.113 \t Valid loss: 0.124 \t Valid R2:  0.789\n",
            "\tTrain loss: 0.113 \t Valid loss: 0.103 \t Valid R2:  0.824\n",
            "\tTrain loss: 0.113 \t Valid loss: 0.101 \t Valid R2:  0.829\n",
            "/content/models/model_1595_poker_acc_83.pth\n",
            "\tTrain loss: 0.112 \t Valid loss: 0.099 \t Valid R2:  0.831\n",
            "/content/models/model_1595_poker_acc_83.pth\n",
            "\tTrain loss: 0.111 \t Valid loss: 0.112 \t Valid R2:  0.810\n",
            "\tTrain loss: 0.112 \t Valid loss: 0.107 \t Valid R2:  0.818\n",
            "\tTrain loss: 0.111 \t Valid loss: 0.100 \t Valid R2:  0.831\n",
            "\tTrain loss: 0.110 \t Valid loss: 0.100 \t Valid R2:  0.830\n",
            "\tTrain loss: 0.110 \t Valid loss: 0.094 \t Valid R2:  0.841\n",
            "/content/models/model_1595_poker_acc_84.pth\n",
            "\tTrain loss: 0.109 \t Valid loss: 0.100 \t Valid R2:  0.830\n",
            "Best valid r2: 0.841\n"
          ],
          "name": "stdout"
        }
      ]
    },
    {
      "cell_type": "code",
      "metadata": {
        "id": "85E1f1DiTpjI",
        "colab_type": "code",
        "colab": {}
      },
      "source": [
        ""
      ],
      "execution_count": 0,
      "outputs": []
    }
  ]
}