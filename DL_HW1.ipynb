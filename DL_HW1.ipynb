{
  "nbformat": 4,
  "nbformat_minor": 0,
  "metadata": {
    "colab": {
      "name": "DL_HW1.ipynb",
      "provenance": [],
      "collapsed_sections": [],
      "toc_visible": true,
      "authorship_tag": "ABX9TyMpvHC/1PuRvjHLuucwVxHW",
      "include_colab_link": true
    },
    "kernelspec": {
      "name": "python3",
      "display_name": "Python 3"
    },
    "accelerator": "GPU",
    "widgets": {
      "application/vnd.jupyter.widget-state+json": {
        "6f1472fc9a2145ec8409200cced58576": {
          "model_module": "@jupyter-widgets/controls",
          "model_name": "HBoxModel",
          "state": {
            "_view_name": "HBoxView",
            "_dom_classes": [],
            "_model_name": "HBoxModel",
            "_view_module": "@jupyter-widgets/controls",
            "_model_module_version": "1.5.0",
            "_view_count": null,
            "_view_module_version": "1.5.0",
            "box_style": "",
            "layout": "IPY_MODEL_ee02d882258c4ea7bc0c390830d41b0b",
            "_model_module": "@jupyter-widgets/controls",
            "children": [
              "IPY_MODEL_ba15e13de2ef41feacb47f094bc6bf22",
              "IPY_MODEL_774f6da5f1ee445eb2dc0816248be6a9"
            ]
          }
        },
        "ee02d882258c4ea7bc0c390830d41b0b": {
          "model_module": "@jupyter-widgets/base",
          "model_name": "LayoutModel",
          "state": {
            "_view_name": "LayoutView",
            "grid_template_rows": null,
            "right": null,
            "justify_content": null,
            "_view_module": "@jupyter-widgets/base",
            "overflow": null,
            "_model_module_version": "1.2.0",
            "_view_count": null,
            "flex_flow": null,
            "width": null,
            "min_width": null,
            "border": null,
            "align_items": null,
            "bottom": null,
            "_model_module": "@jupyter-widgets/base",
            "top": null,
            "grid_column": null,
            "overflow_y": null,
            "overflow_x": null,
            "grid_auto_flow": null,
            "grid_area": null,
            "grid_template_columns": null,
            "flex": null,
            "_model_name": "LayoutModel",
            "justify_items": null,
            "grid_row": null,
            "max_height": null,
            "align_content": null,
            "visibility": null,
            "align_self": null,
            "height": null,
            "min_height": null,
            "padding": null,
            "grid_auto_rows": null,
            "grid_gap": null,
            "max_width": null,
            "order": null,
            "_view_module_version": "1.2.0",
            "grid_template_areas": null,
            "object_position": null,
            "object_fit": null,
            "grid_auto_columns": null,
            "margin": null,
            "display": null,
            "left": null
          }
        },
        "ba15e13de2ef41feacb47f094bc6bf22": {
          "model_module": "@jupyter-widgets/controls",
          "model_name": "FloatProgressModel",
          "state": {
            "_view_name": "ProgressView",
            "style": "IPY_MODEL_7fd9461c37894eb89ec29ea4b30194b1",
            "_dom_classes": [],
            "description": "100%",
            "_model_name": "FloatProgressModel",
            "bar_style": "",
            "max": 8800,
            "_view_module": "@jupyter-widgets/controls",
            "_model_module_version": "1.5.0",
            "value": 8799,
            "_view_count": null,
            "_view_module_version": "1.5.0",
            "orientation": "horizontal",
            "min": 0,
            "description_tooltip": null,
            "_model_module": "@jupyter-widgets/controls",
            "layout": "IPY_MODEL_3b6d531cd5124ebb9cd7673916957dd5"
          }
        },
        "774f6da5f1ee445eb2dc0816248be6a9": {
          "model_module": "@jupyter-widgets/controls",
          "model_name": "HTMLModel",
          "state": {
            "_view_name": "HTMLView",
            "style": "IPY_MODEL_ec8bcdfcf77b4871b3ee0d9ce8098ded",
            "_dom_classes": [],
            "description": "",
            "_model_name": "HTMLModel",
            "placeholder": "​",
            "_view_module": "@jupyter-widgets/controls",
            "_model_module_version": "1.5.0",
            "value": " 8799/8800 [23:03&lt;00:00,  7.08it/s]",
            "_view_count": null,
            "_view_module_version": "1.5.0",
            "description_tooltip": null,
            "_model_module": "@jupyter-widgets/controls",
            "layout": "IPY_MODEL_7f586fbc10b04ff8bbc6789e15e30b5c"
          }
        },
        "7fd9461c37894eb89ec29ea4b30194b1": {
          "model_module": "@jupyter-widgets/controls",
          "model_name": "ProgressStyleModel",
          "state": {
            "_view_name": "StyleView",
            "_model_name": "ProgressStyleModel",
            "description_width": "initial",
            "_view_module": "@jupyter-widgets/base",
            "_model_module_version": "1.5.0",
            "_view_count": null,
            "_view_module_version": "1.2.0",
            "bar_color": null,
            "_model_module": "@jupyter-widgets/controls"
          }
        },
        "3b6d531cd5124ebb9cd7673916957dd5": {
          "model_module": "@jupyter-widgets/base",
          "model_name": "LayoutModel",
          "state": {
            "_view_name": "LayoutView",
            "grid_template_rows": null,
            "right": null,
            "justify_content": null,
            "_view_module": "@jupyter-widgets/base",
            "overflow": null,
            "_model_module_version": "1.2.0",
            "_view_count": null,
            "flex_flow": null,
            "width": null,
            "min_width": null,
            "border": null,
            "align_items": null,
            "bottom": null,
            "_model_module": "@jupyter-widgets/base",
            "top": null,
            "grid_column": null,
            "overflow_y": null,
            "overflow_x": null,
            "grid_auto_flow": null,
            "grid_area": null,
            "grid_template_columns": null,
            "flex": null,
            "_model_name": "LayoutModel",
            "justify_items": null,
            "grid_row": null,
            "max_height": null,
            "align_content": null,
            "visibility": null,
            "align_self": null,
            "height": null,
            "min_height": null,
            "padding": null,
            "grid_auto_rows": null,
            "grid_gap": null,
            "max_width": null,
            "order": null,
            "_view_module_version": "1.2.0",
            "grid_template_areas": null,
            "object_position": null,
            "object_fit": null,
            "grid_auto_columns": null,
            "margin": null,
            "display": null,
            "left": null
          }
        },
        "ec8bcdfcf77b4871b3ee0d9ce8098ded": {
          "model_module": "@jupyter-widgets/controls",
          "model_name": "DescriptionStyleModel",
          "state": {
            "_view_name": "StyleView",
            "_model_name": "DescriptionStyleModel",
            "description_width": "",
            "_view_module": "@jupyter-widgets/base",
            "_model_module_version": "1.5.0",
            "_view_count": null,
            "_view_module_version": "1.2.0",
            "_model_module": "@jupyter-widgets/controls"
          }
        },
        "7f586fbc10b04ff8bbc6789e15e30b5c": {
          "model_module": "@jupyter-widgets/base",
          "model_name": "LayoutModel",
          "state": {
            "_view_name": "LayoutView",
            "grid_template_rows": null,
            "right": null,
            "justify_content": null,
            "_view_module": "@jupyter-widgets/base",
            "overflow": null,
            "_model_module_version": "1.2.0",
            "_view_count": null,
            "flex_flow": null,
            "width": null,
            "min_width": null,
            "border": null,
            "align_items": null,
            "bottom": null,
            "_model_module": "@jupyter-widgets/base",
            "top": null,
            "grid_column": null,
            "overflow_y": null,
            "overflow_x": null,
            "grid_auto_flow": null,
            "grid_area": null,
            "grid_template_columns": null,
            "flex": null,
            "_model_name": "LayoutModel",
            "justify_items": null,
            "grid_row": null,
            "max_height": null,
            "align_content": null,
            "visibility": null,
            "align_self": null,
            "height": null,
            "min_height": null,
            "padding": null,
            "grid_auto_rows": null,
            "grid_gap": null,
            "max_width": null,
            "order": null,
            "_view_module_version": "1.2.0",
            "grid_template_areas": null,
            "object_position": null,
            "object_fit": null,
            "grid_auto_columns": null,
            "margin": null,
            "display": null,
            "left": null
          }
        },
        "49c66949cce74f0f89dbb08240eeb727": {
          "model_module": "@jupyter-widgets/controls",
          "model_name": "HBoxModel",
          "state": {
            "_view_name": "HBoxView",
            "_dom_classes": [],
            "_model_name": "HBoxModel",
            "_view_module": "@jupyter-widgets/controls",
            "_model_module_version": "1.5.0",
            "_view_count": null,
            "_view_module_version": "1.5.0",
            "box_style": "",
            "layout": "IPY_MODEL_d0641b1a698243ff88bca1a811c1f7c7",
            "_model_module": "@jupyter-widgets/controls",
            "children": [
              "IPY_MODEL_d3a529ed234645f1abb37197cf7fbe2f",
              "IPY_MODEL_9423100b2a7445b1868ff3fe6668aeec"
            ]
          }
        },
        "d0641b1a698243ff88bca1a811c1f7c7": {
          "model_module": "@jupyter-widgets/base",
          "model_name": "LayoutModel",
          "state": {
            "_view_name": "LayoutView",
            "grid_template_rows": null,
            "right": null,
            "justify_content": null,
            "_view_module": "@jupyter-widgets/base",
            "overflow": null,
            "_model_module_version": "1.2.0",
            "_view_count": null,
            "flex_flow": null,
            "width": null,
            "min_width": null,
            "border": null,
            "align_items": null,
            "bottom": null,
            "_model_module": "@jupyter-widgets/base",
            "top": null,
            "grid_column": null,
            "overflow_y": null,
            "overflow_x": null,
            "grid_auto_flow": null,
            "grid_area": null,
            "grid_template_columns": null,
            "flex": null,
            "_model_name": "LayoutModel",
            "justify_items": null,
            "grid_row": null,
            "max_height": null,
            "align_content": null,
            "visibility": null,
            "align_self": null,
            "height": null,
            "min_height": null,
            "padding": null,
            "grid_auto_rows": null,
            "grid_gap": null,
            "max_width": null,
            "order": null,
            "_view_module_version": "1.2.0",
            "grid_template_areas": null,
            "object_position": null,
            "object_fit": null,
            "grid_auto_columns": null,
            "margin": null,
            "display": null,
            "left": null
          }
        },
        "d3a529ed234645f1abb37197cf7fbe2f": {
          "model_module": "@jupyter-widgets/controls",
          "model_name": "FloatProgressModel",
          "state": {
            "_view_name": "ProgressView",
            "style": "IPY_MODEL_858dfd8284b54615af3640f562209227",
            "_dom_classes": [],
            "description": "100%",
            "_model_name": "FloatProgressModel",
            "bar_style": "",
            "max": 8800,
            "_view_module": "@jupyter-widgets/controls",
            "_model_module_version": "1.5.0",
            "value": 8799,
            "_view_count": null,
            "_view_module_version": "1.5.0",
            "orientation": "horizontal",
            "min": 0,
            "description_tooltip": null,
            "_model_module": "@jupyter-widgets/controls",
            "layout": "IPY_MODEL_504157b7e3fb4e4994e27bbf8a676155"
          }
        },
        "9423100b2a7445b1868ff3fe6668aeec": {
          "model_module": "@jupyter-widgets/controls",
          "model_name": "HTMLModel",
          "state": {
            "_view_name": "HTMLView",
            "style": "IPY_MODEL_f77703bd454b48249a4527b136cdd350",
            "_dom_classes": [],
            "description": "",
            "_model_name": "HTMLModel",
            "placeholder": "​",
            "_view_module": "@jupyter-widgets/controls",
            "_model_module_version": "1.5.0",
            "value": " 8799/8800 [23:33&lt;00:00,  7.43it/s]",
            "_view_count": null,
            "_view_module_version": "1.5.0",
            "description_tooltip": null,
            "_model_module": "@jupyter-widgets/controls",
            "layout": "IPY_MODEL_4861dc86e3a948b0ba286cbe4c39b0c0"
          }
        },
        "858dfd8284b54615af3640f562209227": {
          "model_module": "@jupyter-widgets/controls",
          "model_name": "ProgressStyleModel",
          "state": {
            "_view_name": "StyleView",
            "_model_name": "ProgressStyleModel",
            "description_width": "initial",
            "_view_module": "@jupyter-widgets/base",
            "_model_module_version": "1.5.0",
            "_view_count": null,
            "_view_module_version": "1.2.0",
            "bar_color": null,
            "_model_module": "@jupyter-widgets/controls"
          }
        },
        "504157b7e3fb4e4994e27bbf8a676155": {
          "model_module": "@jupyter-widgets/base",
          "model_name": "LayoutModel",
          "state": {
            "_view_name": "LayoutView",
            "grid_template_rows": null,
            "right": null,
            "justify_content": null,
            "_view_module": "@jupyter-widgets/base",
            "overflow": null,
            "_model_module_version": "1.2.0",
            "_view_count": null,
            "flex_flow": null,
            "width": null,
            "min_width": null,
            "border": null,
            "align_items": null,
            "bottom": null,
            "_model_module": "@jupyter-widgets/base",
            "top": null,
            "grid_column": null,
            "overflow_y": null,
            "overflow_x": null,
            "grid_auto_flow": null,
            "grid_area": null,
            "grid_template_columns": null,
            "flex": null,
            "_model_name": "LayoutModel",
            "justify_items": null,
            "grid_row": null,
            "max_height": null,
            "align_content": null,
            "visibility": null,
            "align_self": null,
            "height": null,
            "min_height": null,
            "padding": null,
            "grid_auto_rows": null,
            "grid_gap": null,
            "max_width": null,
            "order": null,
            "_view_module_version": "1.2.0",
            "grid_template_areas": null,
            "object_position": null,
            "object_fit": null,
            "grid_auto_columns": null,
            "margin": null,
            "display": null,
            "left": null
          }
        },
        "f77703bd454b48249a4527b136cdd350": {
          "model_module": "@jupyter-widgets/controls",
          "model_name": "DescriptionStyleModel",
          "state": {
            "_view_name": "StyleView",
            "_model_name": "DescriptionStyleModel",
            "description_width": "",
            "_view_module": "@jupyter-widgets/base",
            "_model_module_version": "1.5.0",
            "_view_count": null,
            "_view_module_version": "1.2.0",
            "_model_module": "@jupyter-widgets/controls"
          }
        },
        "4861dc86e3a948b0ba286cbe4c39b0c0": {
          "model_module": "@jupyter-widgets/base",
          "model_name": "LayoutModel",
          "state": {
            "_view_name": "LayoutView",
            "grid_template_rows": null,
            "right": null,
            "justify_content": null,
            "_view_module": "@jupyter-widgets/base",
            "overflow": null,
            "_model_module_version": "1.2.0",
            "_view_count": null,
            "flex_flow": null,
            "width": null,
            "min_width": null,
            "border": null,
            "align_items": null,
            "bottom": null,
            "_model_module": "@jupyter-widgets/base",
            "top": null,
            "grid_column": null,
            "overflow_y": null,
            "overflow_x": null,
            "grid_auto_flow": null,
            "grid_area": null,
            "grid_template_columns": null,
            "flex": null,
            "_model_name": "LayoutModel",
            "justify_items": null,
            "grid_row": null,
            "max_height": null,
            "align_content": null,
            "visibility": null,
            "align_self": null,
            "height": null,
            "min_height": null,
            "padding": null,
            "grid_auto_rows": null,
            "grid_gap": null,
            "max_width": null,
            "order": null,
            "_view_module_version": "1.2.0",
            "grid_template_areas": null,
            "object_position": null,
            "object_fit": null,
            "grid_auto_columns": null,
            "margin": null,
            "display": null,
            "left": null
          }
        },
        "a8c971f072ce4a4ba7a152be0d847efb": {
          "model_module": "@jupyter-widgets/controls",
          "model_name": "HBoxModel",
          "state": {
            "_view_name": "HBoxView",
            "_dom_classes": [],
            "_model_name": "HBoxModel",
            "_view_module": "@jupyter-widgets/controls",
            "_model_module_version": "1.5.0",
            "_view_count": null,
            "_view_module_version": "1.5.0",
            "box_style": "",
            "layout": "IPY_MODEL_826e487b9b304d5bba0e9da25c09a054",
            "_model_module": "@jupyter-widgets/controls",
            "children": [
              "IPY_MODEL_b2bcaec4a38d43c9a6bf530fb35ac4a7",
              "IPY_MODEL_28daac44ddeb4fedbf50bd88e683eeb0"
            ]
          }
        },
        "826e487b9b304d5bba0e9da25c09a054": {
          "model_module": "@jupyter-widgets/base",
          "model_name": "LayoutModel",
          "state": {
            "_view_name": "LayoutView",
            "grid_template_rows": null,
            "right": null,
            "justify_content": null,
            "_view_module": "@jupyter-widgets/base",
            "overflow": null,
            "_model_module_version": "1.2.0",
            "_view_count": null,
            "flex_flow": null,
            "width": null,
            "min_width": null,
            "border": null,
            "align_items": null,
            "bottom": null,
            "_model_module": "@jupyter-widgets/base",
            "top": null,
            "grid_column": null,
            "overflow_y": null,
            "overflow_x": null,
            "grid_auto_flow": null,
            "grid_area": null,
            "grid_template_columns": null,
            "flex": null,
            "_model_name": "LayoutModel",
            "justify_items": null,
            "grid_row": null,
            "max_height": null,
            "align_content": null,
            "visibility": null,
            "align_self": null,
            "height": null,
            "min_height": null,
            "padding": null,
            "grid_auto_rows": null,
            "grid_gap": null,
            "max_width": null,
            "order": null,
            "_view_module_version": "1.2.0",
            "grid_template_areas": null,
            "object_position": null,
            "object_fit": null,
            "grid_auto_columns": null,
            "margin": null,
            "display": null,
            "left": null
          }
        },
        "b2bcaec4a38d43c9a6bf530fb35ac4a7": {
          "model_module": "@jupyter-widgets/controls",
          "model_name": "FloatProgressModel",
          "state": {
            "_view_name": "ProgressView",
            "style": "IPY_MODEL_7ff9d20fcb244fe8b4829216fc05013b",
            "_dom_classes": [],
            "description": "100%",
            "_model_name": "FloatProgressModel",
            "bar_style": "",
            "max": 8800,
            "_view_module": "@jupyter-widgets/controls",
            "_model_module_version": "1.5.0",
            "value": 8800,
            "_view_count": null,
            "_view_module_version": "1.5.0",
            "orientation": "horizontal",
            "min": 0,
            "description_tooltip": null,
            "_model_module": "@jupyter-widgets/controls",
            "layout": "IPY_MODEL_6c67bc8c8c46455eb95245df0825b9fc"
          }
        },
        "28daac44ddeb4fedbf50bd88e683eeb0": {
          "model_module": "@jupyter-widgets/controls",
          "model_name": "HTMLModel",
          "state": {
            "_view_name": "HTMLView",
            "style": "IPY_MODEL_be512583c37349cc979ea824bc048f40",
            "_dom_classes": [],
            "description": "",
            "_model_name": "HTMLModel",
            "placeholder": "​",
            "_view_module": "@jupyter-widgets/controls",
            "_model_module_version": "1.5.0",
            "value": " 8800/8800 [22:46&lt;00:00,  7.06it/s]",
            "_view_count": null,
            "_view_module_version": "1.5.0",
            "description_tooltip": null,
            "_model_module": "@jupyter-widgets/controls",
            "layout": "IPY_MODEL_e1be9af92e4a4b9f926c8eab25955b03"
          }
        },
        "7ff9d20fcb244fe8b4829216fc05013b": {
          "model_module": "@jupyter-widgets/controls",
          "model_name": "ProgressStyleModel",
          "state": {
            "_view_name": "StyleView",
            "_model_name": "ProgressStyleModel",
            "description_width": "initial",
            "_view_module": "@jupyter-widgets/base",
            "_model_module_version": "1.5.0",
            "_view_count": null,
            "_view_module_version": "1.2.0",
            "bar_color": null,
            "_model_module": "@jupyter-widgets/controls"
          }
        },
        "6c67bc8c8c46455eb95245df0825b9fc": {
          "model_module": "@jupyter-widgets/base",
          "model_name": "LayoutModel",
          "state": {
            "_view_name": "LayoutView",
            "grid_template_rows": null,
            "right": null,
            "justify_content": null,
            "_view_module": "@jupyter-widgets/base",
            "overflow": null,
            "_model_module_version": "1.2.0",
            "_view_count": null,
            "flex_flow": null,
            "width": null,
            "min_width": null,
            "border": null,
            "align_items": null,
            "bottom": null,
            "_model_module": "@jupyter-widgets/base",
            "top": null,
            "grid_column": null,
            "overflow_y": null,
            "overflow_x": null,
            "grid_auto_flow": null,
            "grid_area": null,
            "grid_template_columns": null,
            "flex": null,
            "_model_name": "LayoutModel",
            "justify_items": null,
            "grid_row": null,
            "max_height": null,
            "align_content": null,
            "visibility": null,
            "align_self": null,
            "height": null,
            "min_height": null,
            "padding": null,
            "grid_auto_rows": null,
            "grid_gap": null,
            "max_width": null,
            "order": null,
            "_view_module_version": "1.2.0",
            "grid_template_areas": null,
            "object_position": null,
            "object_fit": null,
            "grid_auto_columns": null,
            "margin": null,
            "display": null,
            "left": null
          }
        },
        "be512583c37349cc979ea824bc048f40": {
          "model_module": "@jupyter-widgets/controls",
          "model_name": "DescriptionStyleModel",
          "state": {
            "_view_name": "StyleView",
            "_model_name": "DescriptionStyleModel",
            "description_width": "",
            "_view_module": "@jupyter-widgets/base",
            "_model_module_version": "1.5.0",
            "_view_count": null,
            "_view_module_version": "1.2.0",
            "_model_module": "@jupyter-widgets/controls"
          }
        },
        "e1be9af92e4a4b9f926c8eab25955b03": {
          "model_module": "@jupyter-widgets/base",
          "model_name": "LayoutModel",
          "state": {
            "_view_name": "LayoutView",
            "grid_template_rows": null,
            "right": null,
            "justify_content": null,
            "_view_module": "@jupyter-widgets/base",
            "overflow": null,
            "_model_module_version": "1.2.0",
            "_view_count": null,
            "flex_flow": null,
            "width": null,
            "min_width": null,
            "border": null,
            "align_items": null,
            "bottom": null,
            "_model_module": "@jupyter-widgets/base",
            "top": null,
            "grid_column": null,
            "overflow_y": null,
            "overflow_x": null,
            "grid_auto_flow": null,
            "grid_area": null,
            "grid_template_columns": null,
            "flex": null,
            "_model_name": "LayoutModel",
            "justify_items": null,
            "grid_row": null,
            "max_height": null,
            "align_content": null,
            "visibility": null,
            "align_self": null,
            "height": null,
            "min_height": null,
            "padding": null,
            "grid_auto_rows": null,
            "grid_gap": null,
            "max_width": null,
            "order": null,
            "_view_module_version": "1.2.0",
            "grid_template_areas": null,
            "object_position": null,
            "object_fit": null,
            "grid_auto_columns": null,
            "margin": null,
            "display": null,
            "left": null
          }
        },
        "8d3213d6951e4fa088bd261656971e41": {
          "model_module": "@jupyter-widgets/controls",
          "model_name": "HBoxModel",
          "state": {
            "_view_name": "HBoxView",
            "_dom_classes": [],
            "_model_name": "HBoxModel",
            "_view_module": "@jupyter-widgets/controls",
            "_model_module_version": "1.5.0",
            "_view_count": null,
            "_view_module_version": "1.5.0",
            "box_style": "",
            "layout": "IPY_MODEL_18a2989478dd4f16aa9d1cc1e6338d9a",
            "_model_module": "@jupyter-widgets/controls",
            "children": [
              "IPY_MODEL_650dff74db184e4cb678de456a06f06c",
              "IPY_MODEL_4657b8b1b34e428684c5d921595d8101"
            ]
          }
        },
        "18a2989478dd4f16aa9d1cc1e6338d9a": {
          "model_module": "@jupyter-widgets/base",
          "model_name": "LayoutModel",
          "state": {
            "_view_name": "LayoutView",
            "grid_template_rows": null,
            "right": null,
            "justify_content": null,
            "_view_module": "@jupyter-widgets/base",
            "overflow": null,
            "_model_module_version": "1.2.0",
            "_view_count": null,
            "flex_flow": null,
            "width": null,
            "min_width": null,
            "border": null,
            "align_items": null,
            "bottom": null,
            "_model_module": "@jupyter-widgets/base",
            "top": null,
            "grid_column": null,
            "overflow_y": null,
            "overflow_x": null,
            "grid_auto_flow": null,
            "grid_area": null,
            "grid_template_columns": null,
            "flex": null,
            "_model_name": "LayoutModel",
            "justify_items": null,
            "grid_row": null,
            "max_height": null,
            "align_content": null,
            "visibility": null,
            "align_self": null,
            "height": null,
            "min_height": null,
            "padding": null,
            "grid_auto_rows": null,
            "grid_gap": null,
            "max_width": null,
            "order": null,
            "_view_module_version": "1.2.0",
            "grid_template_areas": null,
            "object_position": null,
            "object_fit": null,
            "grid_auto_columns": null,
            "margin": null,
            "display": null,
            "left": null
          }
        },
        "650dff74db184e4cb678de456a06f06c": {
          "model_module": "@jupyter-widgets/controls",
          "model_name": "FloatProgressModel",
          "state": {
            "_view_name": "ProgressView",
            "style": "IPY_MODEL_f67a5cd084bc454582e520571bf3f8ee",
            "_dom_classes": [],
            "description": "100%",
            "_model_name": "FloatProgressModel",
            "bar_style": "",
            "max": 8800,
            "_view_module": "@jupyter-widgets/controls",
            "_model_module_version": "1.5.0",
            "value": 8799,
            "_view_count": null,
            "_view_module_version": "1.5.0",
            "orientation": "horizontal",
            "min": 0,
            "description_tooltip": null,
            "_model_module": "@jupyter-widgets/controls",
            "layout": "IPY_MODEL_f283deec5ca84799924655b14fb393c2"
          }
        },
        "4657b8b1b34e428684c5d921595d8101": {
          "model_module": "@jupyter-widgets/controls",
          "model_name": "HTMLModel",
          "state": {
            "_view_name": "HTMLView",
            "style": "IPY_MODEL_8bcdf2d5a78f4f169b321f2a44379dcd",
            "_dom_classes": [],
            "description": "",
            "_model_name": "HTMLModel",
            "placeholder": "​",
            "_view_module": "@jupyter-widgets/controls",
            "_model_module_version": "1.5.0",
            "value": " 8799/8800 [23:05&lt;00:00,  5.91it/s]",
            "_view_count": null,
            "_view_module_version": "1.5.0",
            "description_tooltip": null,
            "_model_module": "@jupyter-widgets/controls",
            "layout": "IPY_MODEL_d6cda5083b2e4389a1c48f7a8c4f4e21"
          }
        },
        "f67a5cd084bc454582e520571bf3f8ee": {
          "model_module": "@jupyter-widgets/controls",
          "model_name": "ProgressStyleModel",
          "state": {
            "_view_name": "StyleView",
            "_model_name": "ProgressStyleModel",
            "description_width": "initial",
            "_view_module": "@jupyter-widgets/base",
            "_model_module_version": "1.5.0",
            "_view_count": null,
            "_view_module_version": "1.2.0",
            "bar_color": null,
            "_model_module": "@jupyter-widgets/controls"
          }
        },
        "f283deec5ca84799924655b14fb393c2": {
          "model_module": "@jupyter-widgets/base",
          "model_name": "LayoutModel",
          "state": {
            "_view_name": "LayoutView",
            "grid_template_rows": null,
            "right": null,
            "justify_content": null,
            "_view_module": "@jupyter-widgets/base",
            "overflow": null,
            "_model_module_version": "1.2.0",
            "_view_count": null,
            "flex_flow": null,
            "width": null,
            "min_width": null,
            "border": null,
            "align_items": null,
            "bottom": null,
            "_model_module": "@jupyter-widgets/base",
            "top": null,
            "grid_column": null,
            "overflow_y": null,
            "overflow_x": null,
            "grid_auto_flow": null,
            "grid_area": null,
            "grid_template_columns": null,
            "flex": null,
            "_model_name": "LayoutModel",
            "justify_items": null,
            "grid_row": null,
            "max_height": null,
            "align_content": null,
            "visibility": null,
            "align_self": null,
            "height": null,
            "min_height": null,
            "padding": null,
            "grid_auto_rows": null,
            "grid_gap": null,
            "max_width": null,
            "order": null,
            "_view_module_version": "1.2.0",
            "grid_template_areas": null,
            "object_position": null,
            "object_fit": null,
            "grid_auto_columns": null,
            "margin": null,
            "display": null,
            "left": null
          }
        },
        "8bcdf2d5a78f4f169b321f2a44379dcd": {
          "model_module": "@jupyter-widgets/controls",
          "model_name": "DescriptionStyleModel",
          "state": {
            "_view_name": "StyleView",
            "_model_name": "DescriptionStyleModel",
            "description_width": "",
            "_view_module": "@jupyter-widgets/base",
            "_model_module_version": "1.5.0",
            "_view_count": null,
            "_view_module_version": "1.2.0",
            "_model_module": "@jupyter-widgets/controls"
          }
        },
        "d6cda5083b2e4389a1c48f7a8c4f4e21": {
          "model_module": "@jupyter-widgets/base",
          "model_name": "LayoutModel",
          "state": {
            "_view_name": "LayoutView",
            "grid_template_rows": null,
            "right": null,
            "justify_content": null,
            "_view_module": "@jupyter-widgets/base",
            "overflow": null,
            "_model_module_version": "1.2.0",
            "_view_count": null,
            "flex_flow": null,
            "width": null,
            "min_width": null,
            "border": null,
            "align_items": null,
            "bottom": null,
            "_model_module": "@jupyter-widgets/base",
            "top": null,
            "grid_column": null,
            "overflow_y": null,
            "overflow_x": null,
            "grid_auto_flow": null,
            "grid_area": null,
            "grid_template_columns": null,
            "flex": null,
            "_model_name": "LayoutModel",
            "justify_items": null,
            "grid_row": null,
            "max_height": null,
            "align_content": null,
            "visibility": null,
            "align_self": null,
            "height": null,
            "min_height": null,
            "padding": null,
            "grid_auto_rows": null,
            "grid_gap": null,
            "max_width": null,
            "order": null,
            "_view_module_version": "1.2.0",
            "grid_template_areas": null,
            "object_position": null,
            "object_fit": null,
            "grid_auto_columns": null,
            "margin": null,
            "display": null,
            "left": null
          }
        },
        "6cba80d8bc3149f69ae499468daa97ef": {
          "model_module": "@jupyter-widgets/controls",
          "model_name": "HBoxModel",
          "state": {
            "_view_name": "HBoxView",
            "_dom_classes": [],
            "_model_name": "HBoxModel",
            "_view_module": "@jupyter-widgets/controls",
            "_model_module_version": "1.5.0",
            "_view_count": null,
            "_view_module_version": "1.5.0",
            "box_style": "",
            "layout": "IPY_MODEL_98316a66915f4270ad43c486ed826bfa",
            "_model_module": "@jupyter-widgets/controls",
            "children": [
              "IPY_MODEL_b81a8f2689cd4915b99920cd73b2369b",
              "IPY_MODEL_2c833c05087a4f14b2410df7c8dc1ab2"
            ]
          }
        },
        "98316a66915f4270ad43c486ed826bfa": {
          "model_module": "@jupyter-widgets/base",
          "model_name": "LayoutModel",
          "state": {
            "_view_name": "LayoutView",
            "grid_template_rows": null,
            "right": null,
            "justify_content": null,
            "_view_module": "@jupyter-widgets/base",
            "overflow": null,
            "_model_module_version": "1.2.0",
            "_view_count": null,
            "flex_flow": null,
            "width": null,
            "min_width": null,
            "border": null,
            "align_items": null,
            "bottom": null,
            "_model_module": "@jupyter-widgets/base",
            "top": null,
            "grid_column": null,
            "overflow_y": null,
            "overflow_x": null,
            "grid_auto_flow": null,
            "grid_area": null,
            "grid_template_columns": null,
            "flex": null,
            "_model_name": "LayoutModel",
            "justify_items": null,
            "grid_row": null,
            "max_height": null,
            "align_content": null,
            "visibility": null,
            "align_self": null,
            "height": null,
            "min_height": null,
            "padding": null,
            "grid_auto_rows": null,
            "grid_gap": null,
            "max_width": null,
            "order": null,
            "_view_module_version": "1.2.0",
            "grid_template_areas": null,
            "object_position": null,
            "object_fit": null,
            "grid_auto_columns": null,
            "margin": null,
            "display": null,
            "left": null
          }
        },
        "b81a8f2689cd4915b99920cd73b2369b": {
          "model_module": "@jupyter-widgets/controls",
          "model_name": "FloatProgressModel",
          "state": {
            "_view_name": "ProgressView",
            "style": "IPY_MODEL_bed1ae8a673c4f8287d4480b61ab659e",
            "_dom_classes": [],
            "description": "100%",
            "_model_name": "FloatProgressModel",
            "bar_style": "",
            "max": 8800,
            "_view_module": "@jupyter-widgets/controls",
            "_model_module_version": "1.5.0",
            "value": 8800,
            "_view_count": null,
            "_view_module_version": "1.5.0",
            "orientation": "horizontal",
            "min": 0,
            "description_tooltip": null,
            "_model_module": "@jupyter-widgets/controls",
            "layout": "IPY_MODEL_25b175d1160942b4a46a13e44c781d73"
          }
        },
        "2c833c05087a4f14b2410df7c8dc1ab2": {
          "model_module": "@jupyter-widgets/controls",
          "model_name": "HTMLModel",
          "state": {
            "_view_name": "HTMLView",
            "style": "IPY_MODEL_bfe9118affc743679bd1dfc525fa1d26",
            "_dom_classes": [],
            "description": "",
            "_model_name": "HTMLModel",
            "placeholder": "​",
            "_view_module": "@jupyter-widgets/controls",
            "_model_module_version": "1.5.0",
            "value": " 8800/8800 [21:35&lt;00:00,  7.08it/s]",
            "_view_count": null,
            "_view_module_version": "1.5.0",
            "description_tooltip": null,
            "_model_module": "@jupyter-widgets/controls",
            "layout": "IPY_MODEL_6f8395c317834f4f87aac6cc69e025a5"
          }
        },
        "bed1ae8a673c4f8287d4480b61ab659e": {
          "model_module": "@jupyter-widgets/controls",
          "model_name": "ProgressStyleModel",
          "state": {
            "_view_name": "StyleView",
            "_model_name": "ProgressStyleModel",
            "description_width": "initial",
            "_view_module": "@jupyter-widgets/base",
            "_model_module_version": "1.5.0",
            "_view_count": null,
            "_view_module_version": "1.2.0",
            "bar_color": null,
            "_model_module": "@jupyter-widgets/controls"
          }
        },
        "25b175d1160942b4a46a13e44c781d73": {
          "model_module": "@jupyter-widgets/base",
          "model_name": "LayoutModel",
          "state": {
            "_view_name": "LayoutView",
            "grid_template_rows": null,
            "right": null,
            "justify_content": null,
            "_view_module": "@jupyter-widgets/base",
            "overflow": null,
            "_model_module_version": "1.2.0",
            "_view_count": null,
            "flex_flow": null,
            "width": null,
            "min_width": null,
            "border": null,
            "align_items": null,
            "bottom": null,
            "_model_module": "@jupyter-widgets/base",
            "top": null,
            "grid_column": null,
            "overflow_y": null,
            "overflow_x": null,
            "grid_auto_flow": null,
            "grid_area": null,
            "grid_template_columns": null,
            "flex": null,
            "_model_name": "LayoutModel",
            "justify_items": null,
            "grid_row": null,
            "max_height": null,
            "align_content": null,
            "visibility": null,
            "align_self": null,
            "height": null,
            "min_height": null,
            "padding": null,
            "grid_auto_rows": null,
            "grid_gap": null,
            "max_width": null,
            "order": null,
            "_view_module_version": "1.2.0",
            "grid_template_areas": null,
            "object_position": null,
            "object_fit": null,
            "grid_auto_columns": null,
            "margin": null,
            "display": null,
            "left": null
          }
        },
        "bfe9118affc743679bd1dfc525fa1d26": {
          "model_module": "@jupyter-widgets/controls",
          "model_name": "DescriptionStyleModel",
          "state": {
            "_view_name": "StyleView",
            "_model_name": "DescriptionStyleModel",
            "description_width": "",
            "_view_module": "@jupyter-widgets/base",
            "_model_module_version": "1.5.0",
            "_view_count": null,
            "_view_module_version": "1.2.0",
            "_model_module": "@jupyter-widgets/controls"
          }
        },
        "6f8395c317834f4f87aac6cc69e025a5": {
          "model_module": "@jupyter-widgets/base",
          "model_name": "LayoutModel",
          "state": {
            "_view_name": "LayoutView",
            "grid_template_rows": null,
            "right": null,
            "justify_content": null,
            "_view_module": "@jupyter-widgets/base",
            "overflow": null,
            "_model_module_version": "1.2.0",
            "_view_count": null,
            "flex_flow": null,
            "width": null,
            "min_width": null,
            "border": null,
            "align_items": null,
            "bottom": null,
            "_model_module": "@jupyter-widgets/base",
            "top": null,
            "grid_column": null,
            "overflow_y": null,
            "overflow_x": null,
            "grid_auto_flow": null,
            "grid_area": null,
            "grid_template_columns": null,
            "flex": null,
            "_model_name": "LayoutModel",
            "justify_items": null,
            "grid_row": null,
            "max_height": null,
            "align_content": null,
            "visibility": null,
            "align_self": null,
            "height": null,
            "min_height": null,
            "padding": null,
            "grid_auto_rows": null,
            "grid_gap": null,
            "max_width": null,
            "order": null,
            "_view_module_version": "1.2.0",
            "grid_template_areas": null,
            "object_position": null,
            "object_fit": null,
            "grid_auto_columns": null,
            "margin": null,
            "display": null,
            "left": null
          }
        },
        "7aa4083e081349409fe626b628cfbf20": {
          "model_module": "@jupyter-widgets/controls",
          "model_name": "HBoxModel",
          "state": {
            "_view_name": "HBoxView",
            "_dom_classes": [],
            "_model_name": "HBoxModel",
            "_view_module": "@jupyter-widgets/controls",
            "_model_module_version": "1.5.0",
            "_view_count": null,
            "_view_module_version": "1.5.0",
            "box_style": "",
            "layout": "IPY_MODEL_701e34d629f94327adcc0d040c5534b8",
            "_model_module": "@jupyter-widgets/controls",
            "children": [
              "IPY_MODEL_e38ede2576754334b81e2aea893b780f",
              "IPY_MODEL_540c58fc19384cb9b6e19d3c8c1bb279"
            ]
          }
        },
        "701e34d629f94327adcc0d040c5534b8": {
          "model_module": "@jupyter-widgets/base",
          "model_name": "LayoutModel",
          "state": {
            "_view_name": "LayoutView",
            "grid_template_rows": null,
            "right": null,
            "justify_content": null,
            "_view_module": "@jupyter-widgets/base",
            "overflow": null,
            "_model_module_version": "1.2.0",
            "_view_count": null,
            "flex_flow": null,
            "width": null,
            "min_width": null,
            "border": null,
            "align_items": null,
            "bottom": null,
            "_model_module": "@jupyter-widgets/base",
            "top": null,
            "grid_column": null,
            "overflow_y": null,
            "overflow_x": null,
            "grid_auto_flow": null,
            "grid_area": null,
            "grid_template_columns": null,
            "flex": null,
            "_model_name": "LayoutModel",
            "justify_items": null,
            "grid_row": null,
            "max_height": null,
            "align_content": null,
            "visibility": null,
            "align_self": null,
            "height": null,
            "min_height": null,
            "padding": null,
            "grid_auto_rows": null,
            "grid_gap": null,
            "max_width": null,
            "order": null,
            "_view_module_version": "1.2.0",
            "grid_template_areas": null,
            "object_position": null,
            "object_fit": null,
            "grid_auto_columns": null,
            "margin": null,
            "display": null,
            "left": null
          }
        },
        "e38ede2576754334b81e2aea893b780f": {
          "model_module": "@jupyter-widgets/controls",
          "model_name": "FloatProgressModel",
          "state": {
            "_view_name": "ProgressView",
            "style": "IPY_MODEL_dc6284f485eb4717a2b703acad21872c",
            "_dom_classes": [],
            "description": "100%",
            "_model_name": "FloatProgressModel",
            "bar_style": "",
            "max": 8800,
            "_view_module": "@jupyter-widgets/controls",
            "_model_module_version": "1.5.0",
            "value": 8799,
            "_view_count": null,
            "_view_module_version": "1.5.0",
            "orientation": "horizontal",
            "min": 0,
            "description_tooltip": null,
            "_model_module": "@jupyter-widgets/controls",
            "layout": "IPY_MODEL_f4b98090a4564796a48dd96e2a6df6c4"
          }
        },
        "540c58fc19384cb9b6e19d3c8c1bb279": {
          "model_module": "@jupyter-widgets/controls",
          "model_name": "HTMLModel",
          "state": {
            "_view_name": "HTMLView",
            "style": "IPY_MODEL_d174e4184d7e4d75a7a560707c7abe58",
            "_dom_classes": [],
            "description": "",
            "_model_name": "HTMLModel",
            "placeholder": "​",
            "_view_module": "@jupyter-widgets/controls",
            "_model_module_version": "1.5.0",
            "value": " 8799/8800 [22:25&lt;00:00,  7.35it/s]",
            "_view_count": null,
            "_view_module_version": "1.5.0",
            "description_tooltip": null,
            "_model_module": "@jupyter-widgets/controls",
            "layout": "IPY_MODEL_e8f39d2429e344c2a1a5fc8d0926dcb5"
          }
        },
        "dc6284f485eb4717a2b703acad21872c": {
          "model_module": "@jupyter-widgets/controls",
          "model_name": "ProgressStyleModel",
          "state": {
            "_view_name": "StyleView",
            "_model_name": "ProgressStyleModel",
            "description_width": "initial",
            "_view_module": "@jupyter-widgets/base",
            "_model_module_version": "1.5.0",
            "_view_count": null,
            "_view_module_version": "1.2.0",
            "bar_color": null,
            "_model_module": "@jupyter-widgets/controls"
          }
        },
        "f4b98090a4564796a48dd96e2a6df6c4": {
          "model_module": "@jupyter-widgets/base",
          "model_name": "LayoutModel",
          "state": {
            "_view_name": "LayoutView",
            "grid_template_rows": null,
            "right": null,
            "justify_content": null,
            "_view_module": "@jupyter-widgets/base",
            "overflow": null,
            "_model_module_version": "1.2.0",
            "_view_count": null,
            "flex_flow": null,
            "width": null,
            "min_width": null,
            "border": null,
            "align_items": null,
            "bottom": null,
            "_model_module": "@jupyter-widgets/base",
            "top": null,
            "grid_column": null,
            "overflow_y": null,
            "overflow_x": null,
            "grid_auto_flow": null,
            "grid_area": null,
            "grid_template_columns": null,
            "flex": null,
            "_model_name": "LayoutModel",
            "justify_items": null,
            "grid_row": null,
            "max_height": null,
            "align_content": null,
            "visibility": null,
            "align_self": null,
            "height": null,
            "min_height": null,
            "padding": null,
            "grid_auto_rows": null,
            "grid_gap": null,
            "max_width": null,
            "order": null,
            "_view_module_version": "1.2.0",
            "grid_template_areas": null,
            "object_position": null,
            "object_fit": null,
            "grid_auto_columns": null,
            "margin": null,
            "display": null,
            "left": null
          }
        },
        "d174e4184d7e4d75a7a560707c7abe58": {
          "model_module": "@jupyter-widgets/controls",
          "model_name": "DescriptionStyleModel",
          "state": {
            "_view_name": "StyleView",
            "_model_name": "DescriptionStyleModel",
            "description_width": "",
            "_view_module": "@jupyter-widgets/base",
            "_model_module_version": "1.5.0",
            "_view_count": null,
            "_view_module_version": "1.2.0",
            "_model_module": "@jupyter-widgets/controls"
          }
        },
        "e8f39d2429e344c2a1a5fc8d0926dcb5": {
          "model_module": "@jupyter-widgets/base",
          "model_name": "LayoutModel",
          "state": {
            "_view_name": "LayoutView",
            "grid_template_rows": null,
            "right": null,
            "justify_content": null,
            "_view_module": "@jupyter-widgets/base",
            "overflow": null,
            "_model_module_version": "1.2.0",
            "_view_count": null,
            "flex_flow": null,
            "width": null,
            "min_width": null,
            "border": null,
            "align_items": null,
            "bottom": null,
            "_model_module": "@jupyter-widgets/base",
            "top": null,
            "grid_column": null,
            "overflow_y": null,
            "overflow_x": null,
            "grid_auto_flow": null,
            "grid_area": null,
            "grid_template_columns": null,
            "flex": null,
            "_model_name": "LayoutModel",
            "justify_items": null,
            "grid_row": null,
            "max_height": null,
            "align_content": null,
            "visibility": null,
            "align_self": null,
            "height": null,
            "min_height": null,
            "padding": null,
            "grid_auto_rows": null,
            "grid_gap": null,
            "max_width": null,
            "order": null,
            "_view_module_version": "1.2.0",
            "grid_template_areas": null,
            "object_position": null,
            "object_fit": null,
            "grid_auto_columns": null,
            "margin": null,
            "display": null,
            "left": null
          }
        }
      }
    }
  },
  "cells": [
    {
      "cell_type": "markdown",
      "metadata": {
        "id": "view-in-github",
        "colab_type": "text"
      },
      "source": [
        "<a href=\"https://colab.research.google.com/github/dongr0510/deep-learning-coursera/blob/master/DL_HW1.ipynb\" target=\"_parent\"><img src=\"https://colab.research.google.com/assets/colab-badge.svg\" alt=\"Open In Colab\"/></a>"
      ]
    },
    {
      "cell_type": "code",
      "metadata": {
        "id": "QO7iXnFRBG3V",
        "colab_type": "code",
        "colab": {}
      },
      "source": [
        "%reload_ext autoreload\n",
        "%autoreload 2\n",
        "%matplotlib inline\n",
        "\n",
        "from sklearn.ensemble import RandomForestRegressor\n",
        "from sklearn.model_selection import train_test_split, RandomizedSearchCV, GridSearchCV\n",
        "\n",
        "from sklearn.preprocessing import StandardScaler\n",
        "from sklearn import metrics\n",
        "from tqdm import tqdm_notebook\n",
        "\n",
        "import matplotlib.pyplot as plt"
      ],
      "execution_count": 0,
      "outputs": []
    },
    {
      "cell_type": "code",
      "metadata": {
        "id": "JEHuh7NEBfx9",
        "colab_type": "code",
        "colab": {}
      },
      "source": [
        "import pandas as pd\n",
        "import numpy as np\n",
        "import torch\n",
        "from pathlib import Path\n",
        "from torch.utils.data import Dataset, DataLoader\n",
        "import torch.optim as optim\n",
        "import torch.nn as nn\n",
        "import torch.nn.functional as F\n",
        "import random\n",
        "import math\n",
        "\n",
        "from pathlib import Path"
      ],
      "execution_count": 0,
      "outputs": []
    },
    {
      "cell_type": "code",
      "metadata": {
        "id": "f3hT7yotBn56",
        "colab_type": "code",
        "colab": {}
      },
      "source": [
        "import xgboost as xgb\n",
        "from sklearn.metrics import r2_score"
      ],
      "execution_count": 0,
      "outputs": []
    },
    {
      "cell_type": "code",
      "metadata": {
        "id": "eM2QwQf0Bpfu",
        "colab_type": "code",
        "colab": {}
      },
      "source": [
        "PATH = Path('/content')"
      ],
      "execution_count": 0,
      "outputs": []
    },
    {
      "cell_type": "code",
      "metadata": {
        "id": "QgLOqO0UB91C",
        "colab_type": "code",
        "colab": {
          "base_uri": "https://localhost:8080/",
          "height": 255
        },
        "outputId": "6940cb6d-76b6-444f-d7f5-976d58ecad1b"
      },
      "source": [
        "pip install pmlb"
      ],
      "execution_count": 7,
      "outputs": [
        {
          "output_type": "stream",
          "text": [
            "Collecting pmlb\n",
            "  Downloading https://files.pythonhosted.org/packages/0d/38/bb7bf1785add978af1e6c2bd27926405959c71ebaeefa6ff610bf53d8b25/pmlb-0.3.tar.gz\n",
            "Requirement already satisfied: pandas in /usr/local/lib/python3.6/dist-packages (from pmlb) (1.0.3)\n",
            "Requirement already satisfied: numpy>=1.13.3 in /usr/local/lib/python3.6/dist-packages (from pandas->pmlb) (1.18.4)\n",
            "Requirement already satisfied: python-dateutil>=2.6.1 in /usr/local/lib/python3.6/dist-packages (from pandas->pmlb) (2.8.1)\n",
            "Requirement already satisfied: pytz>=2017.2 in /usr/local/lib/python3.6/dist-packages (from pandas->pmlb) (2018.9)\n",
            "Requirement already satisfied: six>=1.5 in /usr/local/lib/python3.6/dist-packages (from python-dateutil>=2.6.1->pandas->pmlb) (1.12.0)\n",
            "Building wheels for collected packages: pmlb\n",
            "  Building wheel for pmlb (setup.py) ... \u001b[?25l\u001b[?25hdone\n",
            "  Created wheel for pmlb: filename=pmlb-0.3-cp36-none-any.whl size=11918 sha256=6c6970915bc9a681acd5ae9ce26ded390d28fbde4fb9993334ed66e18a49e38a\n",
            "  Stored in directory: /root/.cache/pip/wheels/5a/c7/a4/be59e63a2cb56f6c58f068305b95c212e0aac1a930fd77d6b0\n",
            "Successfully built pmlb\n",
            "Installing collected packages: pmlb\n",
            "Successfully installed pmlb-0.3\n"
          ],
          "name": "stdout"
        }
      ]
    },
    {
      "cell_type": "code",
      "metadata": {
        "id": "BXg9GwWJB6FT",
        "colab_type": "code",
        "colab": {}
      },
      "source": [
        "from pmlb import fetch_data, regression_dataset_names"
      ],
      "execution_count": 0,
      "outputs": []
    },
    {
      "cell_type": "code",
      "metadata": {
        "id": "JT_viOzmB7LC",
        "colab_type": "code",
        "colab": {}
      },
      "source": [
        "list_dataset = {}\n",
        "X, y = fetch_data('1595_poker', return_X_y=True, local_cache_dir='/content')\n",
        "\n",
        "list_dataset['1595_poker'] = (X.shape[0], X.shape[1])"
      ],
      "execution_count": 0,
      "outputs": []
    },
    {
      "cell_type": "code",
      "metadata": {
        "id": "w8E2Bd34CH5q",
        "colab_type": "code",
        "colab": {
          "base_uri": "https://localhost:8080/",
          "height": 34
        },
        "outputId": "df45d295-60bf-40ab-bddd-321f5d5404fd"
      },
      "source": [
        "list_dataset"
      ],
      "execution_count": 15,
      "outputs": [
        {
          "output_type": "execute_result",
          "data": {
            "text/plain": [
              "{'1595_poker': (1025010, 10)}"
            ]
          },
          "metadata": {
            "tags": []
          },
          "execution_count": 15
        }
      ]
    },
    {
      "cell_type": "code",
      "metadata": {
        "id": "JNwIA6daCx-e",
        "colab_type": "code",
        "colab": {}
      },
      "source": [
        "datasets = list(list_dataset.keys())"
      ],
      "execution_count": 0,
      "outputs": []
    },
    {
      "cell_type": "code",
      "metadata": {
        "id": "Q2HOfZ_8CzkD",
        "colab_type": "code",
        "colab": {
          "base_uri": "https://localhost:8080/",
          "height": 34
        },
        "outputId": "c2011616-4c8c-47e1-b7d1-aeaf9a84c5ea"
      },
      "source": [
        "dataset = datasets[0]\n",
        "dataset"
      ],
      "execution_count": 17,
      "outputs": [
        {
          "output_type": "execute_result",
          "data": {
            "text/plain": [
              "'1595_poker'"
            ]
          },
          "metadata": {
            "tags": []
          },
          "execution_count": 17
        }
      ]
    },
    {
      "cell_type": "markdown",
      "metadata": {
        "id": "hG-rWFGgDD9L",
        "colab_type": "text"
      },
      "source": [
        "# Split train / valid / test"
      ]
    },
    {
      "cell_type": "code",
      "metadata": {
        "id": "_yb-EHXNC3QE",
        "colab_type": "code",
        "colab": {}
      },
      "source": [
        "def split_dataset(dataset, seed=1):\n",
        "    X, y = fetch_data(dataset, return_X_y=True, local_cache_dir=PATH)\n",
        "    train_X, test_X, train_y, test_y = train_test_split(X, y, test_size=0.3, random_state=seed)\n",
        "    valid_X, test_X, valid_y, test_y = train_test_split(test_X, test_y, test_size=0.5, random_state=seed)\n",
        "    return train_X, valid_X, test_X, train_y, valid_y, test_y"
      ],
      "execution_count": 0,
      "outputs": []
    },
    {
      "cell_type": "code",
      "metadata": {
        "id": "ktvIXgrWDZ-U",
        "colab_type": "code",
        "colab": {}
      },
      "source": [
        "train_X, valid_X, test_X, train_y, valid_y, test_y = split_dataset(dataset)"
      ],
      "execution_count": 0,
      "outputs": []
    },
    {
      "cell_type": "code",
      "metadata": {
        "id": "0YToczA2DbNs",
        "colab_type": "code",
        "colab": {}
      },
      "source": [
        "def GB_scores(train_X, valid_X, train_y, valid_y):\n",
        "    xgb_pars = {'min_child_weight': 50, 'eta': 0.01, 'colsample_bytree': 0.5, 'max_depth': 5,\n",
        "            'subsample': 0.8, 'lambda': 1., 'nthread': -1, 'booster' : 'gbtree', 'silent': 1,\n",
        "            'eval_metric': 'rmse', 'objective': 'reg:linear'}\n",
        "    dtrain = xgb.DMatrix(train_X, label=train_y)\n",
        "    dvalid = xgb.DMatrix(valid_X, label=valid_y)\n",
        "    watchlist = [(dtrain, 'train'), (dvalid, 'valid')]\n",
        "    gbm = xgb.train(xgb_pars, dtrain, 1000, watchlist, early_stopping_rounds=50,\n",
        "                maximize=False, verbose_eval=200)\n",
        "    y_pred = gbm.predict(dvalid)\n",
        "    return r2_score(valid_y, y_pred), gbm"
      ],
      "execution_count": 0,
      "outputs": []
    },
    {
      "cell_type": "code",
      "metadata": {
        "id": "2fDZ3Lx9DlGT",
        "colab_type": "code",
        "colab": {
          "base_uri": "https://localhost:8080/",
          "height": 170
        },
        "outputId": "5dc763ea-6d4d-4d02-ca23-8c30c3fd6a25"
      },
      "source": [
        "score, gbm = GB_scores(train_X, valid_X, train_y, valid_y)"
      ],
      "execution_count": 26,
      "outputs": [
        {
          "output_type": "stream",
          "text": [
            "[0]\ttrain-rmse:0.784316\tvalid-rmse:0.775518\n",
            "Multiple eval metrics have been passed: 'valid-rmse' will be used for early stopping.\n",
            "\n",
            "Will train until valid-rmse hasn't improved in 50 rounds.\n",
            "[200]\ttrain-rmse:0.749144\tvalid-rmse:0.741102\n",
            "[400]\ttrain-rmse:0.727816\tvalid-rmse:0.719965\n",
            "[600]\ttrain-rmse:0.711204\tvalid-rmse:0.703554\n",
            "[800]\ttrain-rmse:0.696025\tvalid-rmse:0.688501\n",
            "[999]\ttrain-rmse:0.682363\tvalid-rmse:0.675066\n"
          ],
          "name": "stdout"
        }
      ]
    },
    {
      "cell_type": "code",
      "metadata": {
        "id": "qq77R1CmLFO-",
        "colab_type": "code",
        "colab": {}
      },
      "source": [
        "dtest = xgb.DMatrix(test_X, test_y)\n",
        "y_test_pred = gbm.predict(dtest)"
      ],
      "execution_count": 0,
      "outputs": []
    },
    {
      "cell_type": "code",
      "metadata": {
        "id": "ijTXCa9YLOQT",
        "colab_type": "code",
        "colab": {
          "base_uri": "https://localhost:8080/",
          "height": 34
        },
        "outputId": "c5712ca3-0d95-4428-8e78-347a0d4dac49"
      },
      "source": [
        "r2_score(test_y, y_test_pred)"
      ],
      "execution_count": 279,
      "outputs": [
        {
          "output_type": "execute_result",
          "data": {
            "text/plain": [
              "0.22612195303843097"
            ]
          },
          "metadata": {
            "tags": []
          },
          "execution_count": 279
        }
      ]
    },
    {
      "cell_type": "markdown",
      "metadata": {
        "id": "WBJmltzHDo2M",
        "colab_type": "text"
      },
      "source": [
        "## Encoding features"
      ]
    },
    {
      "cell_type": "code",
      "metadata": {
        "id": "rIqG1KxUE76X",
        "colab_type": "code",
        "colab": {}
      },
      "source": [
        "def encode_cat_variables(x, help_dict = None, N = 100):\n",
        "    \"\"\"Encodes a categorical variable\n",
        "    \n",
        "    The index 0 is left for values not in training\n",
        "    \"\"\"\n",
        "    uniqs = np.unique(x)\n",
        "    if help_dict is None: help_dict = {v:k+1 for k, v in enumerate(uniqs)}\n",
        "    levels = len(help_dict.keys()) + 1\n",
        "    x_t = np.array([help_dict.get(x_i, 0) for x_i in x])\n",
        "    return x_t, help_dict, levels"
      ],
      "execution_count": 0,
      "outputs": []
    },
    {
      "cell_type": "code",
      "metadata": {
        "id": "SgXyyA27FFfi",
        "colab_type": "code",
        "colab": {}
      },
      "source": [
        "def split_num_cat_columns_all_cat(X):\n",
        "    \"\"\"Splits variables into: categorical and numeric\n",
        "    \n",
        "    Heuristic to determine which variable is categorical.\n",
        "    Returns:\n",
        "       cat_ind: array of indices for categorical variables\n",
        "       cont_ind: array of indices for continous variables\n",
        "    \"\"\"\n",
        "    cat_ind = []\n",
        "    cont_ind = []\n",
        "    for i in range(X.shape[1]):\n",
        "#         uniqs_len = len(np.unique(X[:,i]))\n",
        "#         fraction = uniqs_len/X.shape[0]\n",
        "#         if fraction > 0.01: # you can change this rule\n",
        "#             cont_ind.append(i)\n",
        "        cat_ind.append(i)\n",
        "    return cat_ind, cont_ind"
      ],
      "execution_count": 0,
      "outputs": []
    },
    {
      "cell_type": "code",
      "metadata": {
        "id": "uzL1grKWFJQh",
        "colab_type": "code",
        "colab": {}
      },
      "source": [
        "def split_num_cat_columns_all_con(X):\n",
        "    \"\"\"Splits variables into: categorical and numeric\n",
        "    \n",
        "    Heuristic to determine which variable is categorical.\n",
        "    Returns:\n",
        "       cat_ind: array of indices for categorical variables\n",
        "       cont_ind: array of indices for continous variables\n",
        "    \"\"\"\n",
        "    cat_ind = []\n",
        "    cont_ind = []\n",
        "    for i in range(X.shape[1]):\n",
        "#         uniqs_len = len(np.unique(X[:,i]))\n",
        "#         fraction = uniqs_len/X.shape[0]\n",
        "#         if uniqs_len == 2 or fraction > 0.01: # you can change this rule\n",
        "        cont_ind.append(i)\n",
        "#         else:\n",
        "#             cat_ind.append(i)\n",
        "    return cat_ind, cont_ind   "
      ],
      "execution_count": 0,
      "outputs": []
    },
    {
      "cell_type": "code",
      "metadata": {
        "id": "KD306ARPFK0S",
        "colab_type": "code",
        "colab": {}
      },
      "source": [
        "def split_num_cat_columns_4(X):\n",
        "    \"\"\"Splits variables into: categorical and numeric\n",
        "    \n",
        "    Heuristic to determine which variable is categorical.\n",
        "    Returns:\n",
        "       cat_ind: array of indices for categorical variables\n",
        "       cont_ind: array of indices for continous variables\n",
        "    \"\"\"\n",
        "    cat_ind = []\n",
        "    cont_ind = []\n",
        "    for i in range(X.shape[1]):\n",
        "        uniqs_len = len(np.unique(X[:,i]))\n",
        "        fraction = uniqs_len/X.shape[0]\n",
        "        if uniqs_len > 4: # you can change this rule\n",
        "            cont_ind.append(i)\n",
        "        else:\n",
        "            cat_ind.append(i)\n",
        "    return cat_ind, cont_ind "
      ],
      "execution_count": 0,
      "outputs": []
    },
    {
      "cell_type": "code",
      "metadata": {
        "id": "zMJbnSOIFMwa",
        "colab_type": "code",
        "colab": {}
      },
      "source": [
        "def transform_dataset(train_X, valid_X, test_X):\n",
        "    \n",
        "    cat_ind, cont_ind = split_num_cat_columns_4(train_X)\n",
        "    \n",
        "    train_X_cat = train_X[:, cat_ind]\n",
        "    train_X_cont = train_X[:, cont_ind]\n",
        "    \n",
        "    valid_X_cat = valid_X[:, cat_ind]\n",
        "    valid_X_cont = valid_X[:, cont_ind]\n",
        "    \n",
        "    test_X_cat = test_X[:, cat_ind]\n",
        "    test_X_cont = test_X[:, cont_ind]\n",
        "    \n",
        "    scaler = StandardScaler()\n",
        "    train_X_cont = scaler.fit_transform(train_X_cont)\n",
        "    valid_X_cont = scaler.transform(valid_X_cont)\n",
        "    test_X_cont = scaler.transform(test_X_cont)\n",
        "    \n",
        "    level_arr = [0]*train_X_cat.shape[1]\n",
        "    for i in range(train_X_cat.shape[1]):\n",
        "        x, help_arr, levels = encode_cat_variables(train_X_cat[:,i])\n",
        "        train_X_cat[:,i] = x\n",
        "        level_arr[i] = levels\n",
        "        x, _, _ = encode_cat_variables(valid_X_cat[:,i], help_arr)\n",
        "        valid_X_cat[:,i] = x\n",
        "        x, _, _ = encode_cat_variables(test_X_cat[:,i], help_arr)\n",
        "        test_X_cat[:,i] = x\n",
        "    return (train_X_cat, train_X_cont, valid_X_cat, valid_X_cont, test_X_cat, test_X_cont), level_arr"
      ],
      "execution_count": 0,
      "outputs": []
    },
    {
      "cell_type": "code",
      "metadata": {
        "id": "G4vZN3O1FOay",
        "colab_type": "code",
        "colab": {}
      },
      "source": [
        "def scale_dataset(train_X, valid_X, test_X):\n",
        "    scaler = StandardScaler()\n",
        "    train_X = scaler.fit_transform(train_X)\n",
        "    valid_X = scaler.transform(valid_X)\n",
        "    test_X = scaler.transform(test_X)\n",
        "    return train_X, valid_X, test_X"
      ],
      "execution_count": 0,
      "outputs": []
    },
    {
      "cell_type": "code",
      "metadata": {
        "id": "0C5NWrfiFPmi",
        "colab_type": "code",
        "colab": {}
      },
      "source": [
        "def label_encode(train_X, valid_X, test_X):\n",
        "    \n",
        "    level_arr = [0]*train_X.shape[1]\n",
        "    \n",
        "    for i in range(train_X.shape[1]):\n",
        "        x, help_arr, levels = encode_cat_variables(train_X[:,i])\n",
        "        train_X[:,i] = x\n",
        "        level_arr[i] = levels\n",
        "        x, _, _ = encode_cat_variables(valid_X[:,i], help_arr)\n",
        "        valid_X[:,i] = x\n",
        "        x, _, _ = encode_cat_variables(test_X[:,i], help_arr)\n",
        "        test_X[:,i] = x\n",
        "    return train_X, valid_X, test_X, level_arr"
      ],
      "execution_count": 0,
      "outputs": []
    },
    {
      "cell_type": "markdown",
      "metadata": {
        "id": "23YqKNSSFQxa",
        "colab_type": "text"
      },
      "source": [
        "### variables with 4 unique values or less are categorical and the rest are continuous"
      ]
    },
    {
      "cell_type": "code",
      "metadata": {
        "id": "7XXBaI7SFWnS",
        "colab_type": "code",
        "colab": {
          "base_uri": "https://localhost:8080/",
          "height": 34
        },
        "outputId": "9b67d83f-9f5a-4753-b87e-d8dcdeb53968"
      },
      "source": [
        "cat_ind, cont_ind  = split_num_cat_columns_4(train_X)\n",
        "cat_ind, cont_ind"
      ],
      "execution_count": 34,
      "outputs": [
        {
          "output_type": "execute_result",
          "data": {
            "text/plain": [
              "([0, 2, 4, 6, 8], [1, 3, 5, 7, 9])"
            ]
          },
          "metadata": {
            "tags": []
          },
          "execution_count": 34
        }
      ]
    },
    {
      "cell_type": "code",
      "metadata": {
        "id": "9RsCj4FHFXxy",
        "colab_type": "code",
        "colab": {}
      },
      "source": [
        "# transforms variables\n",
        "(train_X_cat, train_X_cont, valid_X_cat, valid_X_cont, test_X_cat, test_X_cont), level_arr \\\n",
        "= transform_dataset(train_X, valid_X, test_X)"
      ],
      "execution_count": 0,
      "outputs": []
    },
    {
      "cell_type": "code",
      "metadata": {
        "id": "DDq6kdfdFaU6",
        "colab_type": "code",
        "colab": {}
      },
      "source": [
        "class TabularDataSet(Dataset):\n",
        "    def __init__(self, X_cat, X_cont, Y):\n",
        "        self.X_cat = X_cat\n",
        "        self.X_cont = X_cont\n",
        "        self.Y = Y\n",
        "\n",
        "    def __getitem__(self, index):\n",
        "        return self.X_cat[index], self.X_cont[index], self.Y[index]\n",
        "\n",
        "    def __len__(self):\n",
        "        return len(self.Y)"
      ],
      "execution_count": 0,
      "outputs": []
    },
    {
      "cell_type": "code",
      "metadata": {
        "id": "VMRFQNZGFcUa",
        "colab_type": "code",
        "colab": {}
      },
      "source": [
        "batch_size = 8192\n",
        "train_ds = TabularDataSet(train_X_cat, train_X_cont, train_y)\n",
        "valid_ds = TabularDataSet(valid_X_cat, valid_X_cont, valid_y)\n",
        "test_ds = TabularDataSet(test_X_cat, test_X_cont, valid_y)\n",
        "\n",
        "train_dl = DataLoader(train_ds, batch_size=batch_size, shuffle=True)\n",
        "valid_dl = DataLoader(valid_ds, batch_size=batch_size)\n",
        "test_dl = DataLoader(test_ds, batch_size=batch_size)"
      ],
      "execution_count": 0,
      "outputs": []
    },
    {
      "cell_type": "code",
      "metadata": {
        "id": "0uVT7YjBFwHm",
        "colab_type": "code",
        "colab": {}
      },
      "source": [
        "def save_model(m, p): torch.save(m.state_dict(), p)\n",
        "    \n",
        "def load_model(m, p): m.load_state_dict(torch.load(p))"
      ],
      "execution_count": 0,
      "outputs": []
    },
    {
      "cell_type": "code",
      "metadata": {
        "id": "quraYAJuGSNy",
        "colab_type": "code",
        "colab": {}
      },
      "source": [
        "def cosine_segment(start_lr, end_lr, iterations):\n",
        "    i = np.arange(iterations)\n",
        "    c_i = 1 + np.cos(i*np.pi/iterations)\n",
        "    return end_lr + (start_lr - end_lr)/2 *c_i\n",
        "\n",
        "def get_cosine_triangular_lr(max_lr, iterations, div_start=5, div_end=5):\n",
        "    min_start, min_end = max_lr/div_start, max_lr/div_end\n",
        "    iter1 = int(0.3*iterations)\n",
        "    iter2 = iterations - iter1\n",
        "    segs = [cosine_segment(min_start, max_lr, iter1), cosine_segment(max_lr, min_end, iter2)]\n",
        "    return np.concatenate(segs)"
      ],
      "execution_count": 0,
      "outputs": []
    },
    {
      "cell_type": "code",
      "metadata": {
        "id": "xY5QZi0jFwnA",
        "colab_type": "code",
        "colab": {}
      },
      "source": [
        "def update_optimizer(optimizer, lr):\n",
        "    for i, param_group in enumerate(optimizer.param_groups):\n",
        "        param_group[\"lr\"] = lr"
      ],
      "execution_count": 0,
      "outputs": []
    },
    {
      "cell_type": "code",
      "metadata": {
        "id": "zrBQDq18F0ay",
        "colab_type": "code",
        "colab": {}
      },
      "source": [
        "def val_metrics(model, valid_dl):\n",
        "    model.eval()\n",
        "    total = 0\n",
        "    sum_loss = 0\n",
        "    y_hat = []\n",
        "    ys = []\n",
        "    for x1, x2, y in valid_dl:\n",
        "        batch = y.shape[0]\n",
        "        y = y.unsqueeze(1).float()\n",
        "        out = model(x1.long().cuda(), x2.float().cuda())\n",
        "        loss = F.mse_loss(out, y.cuda())\n",
        "        sum_loss += batch*(loss.item())\n",
        "        total += batch\n",
        "        y_hat.append(out.detach().cpu().numpy())\n",
        "        ys.append(y)\n",
        "    \n",
        "    y_hat = np.vstack(y_hat)\n",
        "    ys = np.vstack(ys)\n",
        "    r2 = metrics.r2_score(ys, y_hat)\n",
        "    return sum_loss/total, r2"
      ],
      "execution_count": 0,
      "outputs": []
    },
    {
      "cell_type": "code",
      "metadata": {
        "id": "Rde-Ip8cF3rQ",
        "colab_type": "code",
        "colab": {}
      },
      "source": [
        "def train_model(model, train_dl, valid_dl, optimizer, max_lr=0.05, epochs=100):\n",
        "    device = torch.device(\"cuda:0\" if torch.cuda.is_available() else \"cpu\")\n",
        "    model.to(device)\n",
        "    iterations = epochs*len(train_dl)\n",
        "    pbar = tqdm_notebook(total=iterations)\n",
        "    idx = 0\n",
        "    best_val_r2 = 0\n",
        "    lrs = get_cosine_triangular_lr(max_lr, iterations)\n",
        "    for t in range(epochs):\n",
        "        model.train()\n",
        "        total_loss = 0\n",
        "        total = 0\n",
        "        for x1, x2, y in train_dl:\n",
        "            update_optimizer(optimizer, lrs[idx])\n",
        "            x1 = x1.long().cuda()\n",
        "            x2 = x2.float().cuda()\n",
        "            y = y.unsqueeze(1).float().cuda()\n",
        "            y_hat = model(x1, x2)\n",
        "            loss = F.mse_loss(y_hat, y)\n",
        "            optimizer.zero_grad()\n",
        "            loss.backward()\n",
        "            optimizer.step()\n",
        "            total_loss += loss.item()*y.size(0)\n",
        "            total += y.size(0)\n",
        "            idx +=1\n",
        "            pbar.update()\n",
        "        val_loss, val_r2 = val_metrics(model, valid_dl)\n",
        "        print(\"\\tTrain loss: {:.3f} \\t Valid loss: {:.3f} \\t Valid R2:  {:.3f}\".format(\n",
        "            total_loss/total, val_loss, val_r2))  \n",
        "        if best_val_r2 < val_r2:\n",
        "            best_val_r2 = val_r2\n",
        "            path = \"{0}/models/model_{1}_acc_{2:.0f}.pth\".format(PATH, dataset, 100*val_r2) \n",
        "            save_model(model, path)\n",
        "            print(path)\n",
        "            \n",
        "    print(\"Best valid r2: {:.3f}\".format(best_val_r2))\n",
        "    return best_val_r2"
      ],
      "execution_count": 0,
      "outputs": []
    },
    {
      "cell_type": "code",
      "metadata": {
        "id": "lv2EcXVVF-p-",
        "colab_type": "code",
        "colab": {}
      },
      "source": [
        "class TabularNet_4_first(nn.Module):\n",
        "    def __init__(self, num_cont, num_cat, level_arr, hidden_dim=1000, hidden_dim2=1000):\n",
        "        super(TabularNet_4_first, self).__init__()\n",
        "        in_dim = num_cont + 2*num_cat\n",
        "        self.embs = nn.ModuleList([nn.Embedding(level_arr[i], 2) for i in range(len(level_arr))])\n",
        "        self.bn1 = nn.BatchNorm1d(hidden_dim)\n",
        "        self.bn2 = nn.BatchNorm1d(hidden_dim2)\n",
        "        self.linear1 = nn.Linear(in_dim, hidden_dim)\n",
        "        self.linear2 = nn.Linear(hidden_dim, hidden_dim2)\n",
        "        self.linear3 = nn.Linear(hidden_dim2, 1)\n",
        "        self.dropout = nn.Dropout(0.2)\n",
        "                                  \n",
        "    def forward(self, x_cat, x_cont):\n",
        "        x_cat = [self.embs[i](x_cat[:,i]) for i in range(x_cat.size(1))]\n",
        "        x_cat = torch.cat(x_cat, dim=1)\n",
        "        x_cat = self.dropout(x_cat)\n",
        "        x = torch.cat([x_cont, x_cat], dim=1)\n",
        "        x = self.bn1(F.relu(self.linear1(x)))\n",
        "        x = self.dropout(x)\n",
        "        x = self.bn2(F.relu(self.linear2(x)))\n",
        "        return self.linear3(x)"
      ],
      "execution_count": 0,
      "outputs": []
    },
    {
      "cell_type": "code",
      "metadata": {
        "id": "RvPdmeIXGA7B",
        "colab_type": "code",
        "colab": {}
      },
      "source": [
        "class TabularNet_4_second(nn.Module):\n",
        "    def __init__(self, num_cont, num_cat, level_arr, hidden_dim=1000, hidden_dim2=1000):\n",
        "        super(TabularNet_4_second, self).__init__()\n",
        "        in_dim = num_cont + 2*num_cat\n",
        "        self.embs = nn.ModuleList([nn.Embedding(level_arr[i], 2) for i in range(len(level_arr))])\n",
        "        self.bn1 = nn.BatchNorm1d(hidden_dim)\n",
        "        self.bn2 = nn.BatchNorm1d(hidden_dim2)\n",
        "        self.linear1 = nn.Linear(in_dim, hidden_dim)\n",
        "        self.linear2 = nn.Linear(hidden_dim+in_dim, hidden_dim2)\n",
        "        self.linear3 = nn.Linear(hidden_dim2+in_dim, 1)\n",
        "        self.dropout = nn.Dropout(0.2)\n",
        "                                  \n",
        "    def forward(self, x_cat, x_cont):\n",
        "        x_cat = [self.embs[i](x_cat[:,i]) for i in range(x_cat.size(1))]\n",
        "        x_cat = torch.cat(x_cat, dim=1)\n",
        "        x_cat = self.dropout(x_cat)\n",
        "        x1 = torch.cat([x_cont, x_cat], dim=1)\n",
        "        x = self.bn1(F.relu(self.linear1(x1)))\n",
        "        x = torch.cat([x, x1], dim=1)\n",
        "        x = self.dropout(x)\n",
        "        x = self.bn2(F.relu(self.linear2(x)))\n",
        "        x = torch.cat([x, x1], dim=1)\n",
        "        return self.linear3(x)"
      ],
      "execution_count": 0,
      "outputs": []
    },
    {
      "cell_type": "code",
      "metadata": {
        "id": "r34xPxi5GCJq",
        "colab_type": "code",
        "colab": {}
      },
      "source": [
        "batch_size = 8192\n",
        "\n",
        "num_cont = train_X_cont.shape[1]\n",
        "num_cat = train_X_cat.shape[1]\n",
        "\n",
        "train_dl = DataLoader(train_ds, batch_size=batch_size, shuffle=True)\n",
        "valid_dl = DataLoader(valid_ds, batch_size=batch_size)"
      ],
      "execution_count": 0,
      "outputs": []
    },
    {
      "cell_type": "code",
      "metadata": {
        "id": "ni7Nve8wGFXe",
        "colab_type": "code",
        "colab": {}
      },
      "source": [
        "model = TabularNet_4_first(num_cont, num_cat, level_arr).cuda()"
      ],
      "execution_count": 0,
      "outputs": []
    },
    {
      "cell_type": "code",
      "metadata": {
        "id": "4BUhCi7IGGQB",
        "colab_type": "code",
        "colab": {
          "base_uri": "https://localhost:8080/",
          "height": 1000,
          "referenced_widgets": [
            "6f1472fc9a2145ec8409200cced58576",
            "ee02d882258c4ea7bc0c390830d41b0b",
            "ba15e13de2ef41feacb47f094bc6bf22",
            "774f6da5f1ee445eb2dc0816248be6a9",
            "7fd9461c37894eb89ec29ea4b30194b1",
            "3b6d531cd5124ebb9cd7673916957dd5",
            "ec8bcdfcf77b4871b3ee0d9ce8098ded",
            "7f586fbc10b04ff8bbc6789e15e30b5c"
          ]
        },
        "outputId": "6db4e3cf-8611-4af3-ae67-c444303f2f16"
      },
      "source": [
        "optimizer = torch.optim.Adam(model.parameters(), lr=0.5, weight_decay=1e-5)\n",
        "best_val = train_model(model, train_dl, valid_dl, optimizer, epochs=100)"
      ],
      "execution_count": 215,
      "outputs": [
        {
          "output_type": "stream",
          "text": [
            "/usr/local/lib/python3.6/dist-packages/ipykernel_launcher.py:5: TqdmDeprecationWarning: This function will be removed in tqdm==5.0.0\n",
            "Please use `tqdm.notebook.tqdm` instead of `tqdm.tqdm_notebook`\n",
            "  \"\"\"\n"
          ],
          "name": "stderr"
        },
        {
          "output_type": "display_data",
          "data": {
            "application/vnd.jupyter.widget-view+json": {
              "model_id": "6f1472fc9a2145ec8409200cced58576",
              "version_minor": 0,
              "version_major": 2
            },
            "text/plain": [
              "HBox(children=(FloatProgress(value=0.0, max=8800.0), HTML(value='')))"
            ]
          },
          "metadata": {
            "tags": []
          }
        },
        {
          "output_type": "stream",
          "text": [
            "\tTrain loss: 1.322 \t Valid loss: 0.554 \t Valid R2:  0.060\n",
            "/content/models/model_1595_poker_acc_6.pth\n",
            "\tTrain loss: 0.566 \t Valid loss: 0.552 \t Valid R2:  0.063\n",
            "/content/models/model_1595_poker_acc_6.pth\n",
            "\tTrain loss: 0.565 \t Valid loss: 0.553 \t Valid R2:  0.061\n",
            "\tTrain loss: 0.575 \t Valid loss: 0.540 \t Valid R2:  0.084\n",
            "/content/models/model_1595_poker_acc_8.pth\n",
            "\tTrain loss: 0.549 \t Valid loss: 0.508 \t Valid R2:  0.138\n",
            "/content/models/model_1595_poker_acc_14.pth\n",
            "\tTrain loss: 0.537 \t Valid loss: 0.530 \t Valid R2:  0.101\n",
            "\tTrain loss: 0.525 \t Valid loss: 0.500 \t Valid R2:  0.151\n",
            "/content/models/model_1595_poker_acc_15.pth\n",
            "\tTrain loss: 0.516 \t Valid loss: 0.485 \t Valid R2:  0.176\n",
            "/content/models/model_1595_poker_acc_18.pth\n",
            "\tTrain loss: 0.487 \t Valid loss: 0.432 \t Valid R2:  0.266\n",
            "/content/models/model_1595_poker_acc_27.pth\n",
            "\tTrain loss: 0.447 \t Valid loss: 0.398 \t Valid R2:  0.326\n",
            "/content/models/model_1595_poker_acc_33.pth\n",
            "\tTrain loss: 0.411 \t Valid loss: 0.485 \t Valid R2:  0.178\n",
            "\tTrain loss: 0.371 \t Valid loss: 0.290 \t Valid R2:  0.508\n",
            "/content/models/model_1595_poker_acc_51.pth\n",
            "\tTrain loss: 0.279 \t Valid loss: 0.211 \t Valid R2:  0.641\n",
            "/content/models/model_1595_poker_acc_64.pth\n",
            "\tTrain loss: 0.220 \t Valid loss: 0.186 \t Valid R2:  0.684\n",
            "/content/models/model_1595_poker_acc_68.pth\n",
            "\tTrain loss: 0.172 \t Valid loss: 0.168 \t Valid R2:  0.716\n",
            "/content/models/model_1595_poker_acc_72.pth\n",
            "\tTrain loss: 0.157 \t Valid loss: 0.142 \t Valid R2:  0.759\n",
            "/content/models/model_1595_poker_acc_76.pth\n",
            "\tTrain loss: 0.146 \t Valid loss: 0.177 \t Valid R2:  0.700\n",
            "\tTrain loss: 0.139 \t Valid loss: 0.144 \t Valid R2:  0.755\n",
            "\tTrain loss: 0.143 \t Valid loss: 0.151 \t Valid R2:  0.744\n",
            "\tTrain loss: 0.142 \t Valid loss: 0.281 \t Valid R2:  0.523\n",
            "\tTrain loss: 0.140 \t Valid loss: 0.131 \t Valid R2:  0.778\n",
            "/content/models/model_1595_poker_acc_78.pth\n",
            "\tTrain loss: 0.136 \t Valid loss: 0.128 \t Valid R2:  0.783\n",
            "/content/models/model_1595_poker_acc_78.pth\n",
            "\tTrain loss: 0.143 \t Valid loss: 0.169 \t Valid R2:  0.713\n",
            "\tTrain loss: 0.137 \t Valid loss: 0.157 \t Valid R2:  0.733\n",
            "\tTrain loss: 0.136 \t Valid loss: 0.129 \t Valid R2:  0.781\n",
            "\tTrain loss: 0.136 \t Valid loss: 0.246 \t Valid R2:  0.582\n",
            "\tTrain loss: 0.138 \t Valid loss: 0.123 \t Valid R2:  0.791\n",
            "/content/models/model_1595_poker_acc_79.pth\n",
            "\tTrain loss: 0.140 \t Valid loss: 0.132 \t Valid R2:  0.776\n",
            "\tTrain loss: 0.138 \t Valid loss: 0.142 \t Valid R2:  0.760\n",
            "\tTrain loss: 0.134 \t Valid loss: 0.154 \t Valid R2:  0.739\n",
            "\tTrain loss: 0.139 \t Valid loss: 0.162 \t Valid R2:  0.725\n",
            "\tTrain loss: 0.135 \t Valid loss: 0.188 \t Valid R2:  0.681\n",
            "\tTrain loss: 0.134 \t Valid loss: 0.142 \t Valid R2:  0.760\n",
            "\tTrain loss: 0.137 \t Valid loss: 0.134 \t Valid R2:  0.773\n",
            "\tTrain loss: 0.138 \t Valid loss: 0.141 \t Valid R2:  0.760\n",
            "\tTrain loss: 0.133 \t Valid loss: 0.151 \t Valid R2:  0.744\n",
            "\tTrain loss: 0.133 \t Valid loss: 0.190 \t Valid R2:  0.678\n",
            "\tTrain loss: 0.133 \t Valid loss: 0.174 \t Valid R2:  0.705\n",
            "\tTrain loss: 0.134 \t Valid loss: 0.147 \t Valid R2:  0.750\n",
            "\tTrain loss: 0.134 \t Valid loss: 0.142 \t Valid R2:  0.759\n",
            "\tTrain loss: 0.133 \t Valid loss: 0.130 \t Valid R2:  0.780\n",
            "\tTrain loss: 0.135 \t Valid loss: 0.374 \t Valid R2:  0.365\n",
            "\tTrain loss: 0.134 \t Valid loss: 0.179 \t Valid R2:  0.696\n",
            "\tTrain loss: 0.133 \t Valid loss: 0.128 \t Valid R2:  0.782\n",
            "\tTrain loss: 0.131 \t Valid loss: 0.131 \t Valid R2:  0.777\n",
            "\tTrain loss: 0.135 \t Valid loss: 0.131 \t Valid R2:  0.777\n",
            "\tTrain loss: 0.129 \t Valid loss: 0.134 \t Valid R2:  0.772\n",
            "\tTrain loss: 0.133 \t Valid loss: 0.138 \t Valid R2:  0.767\n",
            "\tTrain loss: 0.130 \t Valid loss: 0.125 \t Valid R2:  0.787\n",
            "\tTrain loss: 0.132 \t Valid loss: 0.132 \t Valid R2:  0.777\n",
            "\tTrain loss: 0.129 \t Valid loss: 0.146 \t Valid R2:  0.752\n",
            "\tTrain loss: 0.129 \t Valid loss: 0.136 \t Valid R2:  0.770\n",
            "\tTrain loss: 0.130 \t Valid loss: 0.119 \t Valid R2:  0.799\n",
            "/content/models/model_1595_poker_acc_80.pth\n",
            "\tTrain loss: 0.128 \t Valid loss: 0.132 \t Valid R2:  0.776\n",
            "\tTrain loss: 0.129 \t Valid loss: 0.125 \t Valid R2:  0.788\n",
            "\tTrain loss: 0.131 \t Valid loss: 0.130 \t Valid R2:  0.779\n",
            "\tTrain loss: 0.130 \t Valid loss: 0.146 \t Valid R2:  0.752\n",
            "\tTrain loss: 0.128 \t Valid loss: 0.136 \t Valid R2:  0.769\n",
            "\tTrain loss: 0.128 \t Valid loss: 0.156 \t Valid R2:  0.736\n",
            "\tTrain loss: 0.128 \t Valid loss: 0.136 \t Valid R2:  0.770\n",
            "\tTrain loss: 0.127 \t Valid loss: 0.150 \t Valid R2:  0.746\n",
            "\tTrain loss: 0.128 \t Valid loss: 0.130 \t Valid R2:  0.780\n",
            "\tTrain loss: 0.125 \t Valid loss: 0.125 \t Valid R2:  0.787\n",
            "\tTrain loss: 0.126 \t Valid loss: 0.136 \t Valid R2:  0.770\n",
            "\tTrain loss: 0.126 \t Valid loss: 0.126 \t Valid R2:  0.785\n",
            "\tTrain loss: 0.126 \t Valid loss: 0.144 \t Valid R2:  0.756\n",
            "\tTrain loss: 0.126 \t Valid loss: 0.121 \t Valid R2:  0.794\n",
            "\tTrain loss: 0.123 \t Valid loss: 0.127 \t Valid R2:  0.785\n",
            "\tTrain loss: 0.124 \t Valid loss: 0.119 \t Valid R2:  0.798\n",
            "\tTrain loss: 0.125 \t Valid loss: 0.117 \t Valid R2:  0.801\n",
            "/content/models/model_1595_poker_acc_80.pth\n",
            "\tTrain loss: 0.124 \t Valid loss: 0.120 \t Valid R2:  0.796\n",
            "\tTrain loss: 0.122 \t Valid loss: 0.118 \t Valid R2:  0.800\n",
            "\tTrain loss: 0.122 \t Valid loss: 0.139 \t Valid R2:  0.764\n",
            "\tTrain loss: 0.122 \t Valid loss: 0.111 \t Valid R2:  0.812\n",
            "/content/models/model_1595_poker_acc_81.pth\n",
            "\tTrain loss: 0.121 \t Valid loss: 0.131 \t Valid R2:  0.778\n",
            "\tTrain loss: 0.121 \t Valid loss: 0.113 \t Valid R2:  0.809\n",
            "\tTrain loss: 0.121 \t Valid loss: 0.114 \t Valid R2:  0.807\n",
            "\tTrain loss: 0.120 \t Valid loss: 0.122 \t Valid R2:  0.794\n",
            "\tTrain loss: 0.119 \t Valid loss: 0.110 \t Valid R2:  0.814\n",
            "/content/models/model_1595_poker_acc_81.pth\n",
            "\tTrain loss: 0.119 \t Valid loss: 0.107 \t Valid R2:  0.819\n",
            "/content/models/model_1595_poker_acc_82.pth\n",
            "\tTrain loss: 0.118 \t Valid loss: 0.108 \t Valid R2:  0.817\n",
            "\tTrain loss: 0.118 \t Valid loss: 0.110 \t Valid R2:  0.813\n",
            "\tTrain loss: 0.117 \t Valid loss: 0.112 \t Valid R2:  0.811\n",
            "\tTrain loss: 0.117 \t Valid loss: 0.113 \t Valid R2:  0.808\n",
            "\tTrain loss: 0.116 \t Valid loss: 0.106 \t Valid R2:  0.820\n",
            "/content/models/model_1595_poker_acc_82.pth\n",
            "\tTrain loss: 0.115 \t Valid loss: 0.110 \t Valid R2:  0.814\n",
            "\tTrain loss: 0.116 \t Valid loss: 0.105 \t Valid R2:  0.822\n",
            "/content/models/model_1595_poker_acc_82.pth\n",
            "\tTrain loss: 0.114 \t Valid loss: 0.105 \t Valid R2:  0.821\n",
            "\tTrain loss: 0.114 \t Valid loss: 0.099 \t Valid R2:  0.831\n",
            "/content/models/model_1595_poker_acc_83.pth\n",
            "\tTrain loss: 0.112 \t Valid loss: 0.102 \t Valid R2:  0.827\n",
            "\tTrain loss: 0.113 \t Valid loss: 0.104 \t Valid R2:  0.823\n",
            "\tTrain loss: 0.112 \t Valid loss: 0.100 \t Valid R2:  0.830\n",
            "\tTrain loss: 0.111 \t Valid loss: 0.096 \t Valid R2:  0.837\n",
            "/content/models/model_1595_poker_acc_84.pth\n",
            "\tTrain loss: 0.111 \t Valid loss: 0.093 \t Valid R2:  0.843\n",
            "/content/models/model_1595_poker_acc_84.pth\n",
            "\tTrain loss: 0.110 \t Valid loss: 0.112 \t Valid R2:  0.809\n",
            "\tTrain loss: 0.110 \t Valid loss: 0.105 \t Valid R2:  0.822\n",
            "\tTrain loss: 0.109 \t Valid loss: 0.101 \t Valid R2:  0.829\n",
            "\tTrain loss: 0.109 \t Valid loss: 0.098 \t Valid R2:  0.834\n",
            "\tTrain loss: 0.109 \t Valid loss: 0.096 \t Valid R2:  0.836\n",
            "\tTrain loss: 0.109 \t Valid loss: 0.101 \t Valid R2:  0.828\n",
            "Best valid r2: 0.843\n"
          ],
          "name": "stdout"
        }
      ]
    },
    {
      "cell_type": "markdown",
      "metadata": {
        "id": "zRe0tiK2gV24",
        "colab_type": "text"
      },
      "source": [
        "## BEST Valid r2 is 0.843"
      ]
    },
    {
      "cell_type": "code",
      "metadata": {
        "id": "MQlqYmXcGJSu",
        "colab_type": "code",
        "colab": {}
      },
      "source": [
        "model = TabularNet_4_second(num_cont, num_cat, level_arr).cuda()"
      ],
      "execution_count": 0,
      "outputs": []
    },
    {
      "cell_type": "code",
      "metadata": {
        "id": "QCta7xGjTmup",
        "colab_type": "code",
        "colab": {
          "base_uri": "https://localhost:8080/",
          "height": 1000,
          "referenced_widgets": [
            "49c66949cce74f0f89dbb08240eeb727",
            "d0641b1a698243ff88bca1a811c1f7c7",
            "d3a529ed234645f1abb37197cf7fbe2f",
            "9423100b2a7445b1868ff3fe6668aeec",
            "858dfd8284b54615af3640f562209227",
            "504157b7e3fb4e4994e27bbf8a676155",
            "f77703bd454b48249a4527b136cdd350",
            "4861dc86e3a948b0ba286cbe4c39b0c0"
          ]
        },
        "outputId": "efb792a0-7508-41d2-86c2-f8e002274611"
      },
      "source": [
        "optimizer = torch.optim.Adam(model.parameters(), lr=0.05, weight_decay=1e-5)\n",
        "best_val = train_model(model, train_dl, valid_dl, optimizer, epochs=100)"
      ],
      "execution_count": 230,
      "outputs": [
        {
          "output_type": "stream",
          "text": [
            "/usr/local/lib/python3.6/dist-packages/ipykernel_launcher.py:5: TqdmDeprecationWarning: This function will be removed in tqdm==5.0.0\n",
            "Please use `tqdm.notebook.tqdm` instead of `tqdm.tqdm_notebook`\n",
            "  \"\"\"\n"
          ],
          "name": "stderr"
        },
        {
          "output_type": "display_data",
          "data": {
            "application/vnd.jupyter.widget-view+json": {
              "model_id": "49c66949cce74f0f89dbb08240eeb727",
              "version_minor": 0,
              "version_major": 2
            },
            "text/plain": [
              "HBox(children=(FloatProgress(value=0.0, max=8800.0), HTML(value='')))"
            ]
          },
          "metadata": {
            "tags": []
          }
        },
        {
          "output_type": "stream",
          "text": [
            "\tTrain loss: 4.040 \t Valid loss: 0.552 \t Valid R2:  0.064\n",
            "/content/models/model_1595_poker_acc_6.pth\n",
            "\tTrain loss: 0.568 \t Valid loss: 0.547 \t Valid R2:  0.072\n",
            "/content/models/model_1595_poker_acc_7.pth\n",
            "\tTrain loss: 0.563 \t Valid loss: 0.545 \t Valid R2:  0.075\n",
            "/content/models/model_1595_poker_acc_8.pth\n",
            "\tTrain loss: 0.560 \t Valid loss: 0.542 \t Valid R2:  0.081\n",
            "/content/models/model_1595_poker_acc_8.pth\n",
            "\tTrain loss: 0.554 \t Valid loss: 0.532 \t Valid R2:  0.097\n",
            "/content/models/model_1595_poker_acc_10.pth\n",
            "\tTrain loss: 0.537 \t Valid loss: 0.514 \t Valid R2:  0.128\n",
            "/content/models/model_1595_poker_acc_13.pth\n",
            "\tTrain loss: 0.525 \t Valid loss: 0.500 \t Valid R2:  0.152\n",
            "/content/models/model_1595_poker_acc_15.pth\n",
            "\tTrain loss: 0.514 \t Valid loss: 0.482 \t Valid R2:  0.182\n",
            "/content/models/model_1595_poker_acc_18.pth\n",
            "\tTrain loss: 0.504 \t Valid loss: 0.469 \t Valid R2:  0.204\n",
            "/content/models/model_1595_poker_acc_20.pth\n",
            "\tTrain loss: 0.488 \t Valid loss: 0.449 \t Valid R2:  0.238\n",
            "/content/models/model_1595_poker_acc_24.pth\n",
            "\tTrain loss: 0.476 \t Valid loss: 0.423 \t Valid R2:  0.282\n",
            "/content/models/model_1595_poker_acc_28.pth\n",
            "\tTrain loss: 0.450 \t Valid loss: 0.412 \t Valid R2:  0.302\n",
            "/content/models/model_1595_poker_acc_30.pth\n",
            "\tTrain loss: 0.418 \t Valid loss: 0.352 \t Valid R2:  0.402\n",
            "/content/models/model_1595_poker_acc_40.pth\n",
            "\tTrain loss: 0.379 \t Valid loss: 0.333 \t Valid R2:  0.434\n",
            "/content/models/model_1595_poker_acc_43.pth\n",
            "\tTrain loss: 0.337 \t Valid loss: 0.308 \t Valid R2:  0.478\n",
            "/content/models/model_1595_poker_acc_48.pth\n",
            "\tTrain loss: 0.290 \t Valid loss: 0.271 \t Valid R2:  0.540\n",
            "/content/models/model_1595_poker_acc_54.pth\n",
            "\tTrain loss: 0.245 \t Valid loss: 0.174 \t Valid R2:  0.704\n",
            "/content/models/model_1595_poker_acc_70.pth\n",
            "\tTrain loss: 0.211 \t Valid loss: 0.264 \t Valid R2:  0.552\n",
            "\tTrain loss: 0.182 \t Valid loss: 0.159 \t Valid R2:  0.730\n",
            "/content/models/model_1595_poker_acc_73.pth\n",
            "\tTrain loss: 0.165 \t Valid loss: 0.148 \t Valid R2:  0.749\n",
            "/content/models/model_1595_poker_acc_75.pth\n",
            "\tTrain loss: 0.162 \t Valid loss: 0.133 \t Valid R2:  0.775\n",
            "/content/models/model_1595_poker_acc_77.pth\n",
            "\tTrain loss: 0.158 \t Valid loss: 0.288 \t Valid R2:  0.511\n",
            "\tTrain loss: 0.150 \t Valid loss: 0.141 \t Valid R2:  0.761\n",
            "\tTrain loss: 0.152 \t Valid loss: 0.144 \t Valid R2:  0.755\n",
            "\tTrain loss: 0.155 \t Valid loss: 0.177 \t Valid R2:  0.699\n",
            "\tTrain loss: 0.146 \t Valid loss: 0.140 \t Valid R2:  0.762\n",
            "\tTrain loss: 0.154 \t Valid loss: 0.183 \t Valid R2:  0.689\n",
            "\tTrain loss: 0.151 \t Valid loss: 0.208 \t Valid R2:  0.646\n",
            "\tTrain loss: 0.140 \t Valid loss: 0.149 \t Valid R2:  0.746\n",
            "\tTrain loss: 0.142 \t Valid loss: 0.131 \t Valid R2:  0.777\n",
            "/content/models/model_1595_poker_acc_78.pth\n",
            "\tTrain loss: 0.143 \t Valid loss: 0.296 \t Valid R2:  0.498\n",
            "\tTrain loss: 0.141 \t Valid loss: 0.139 \t Valid R2:  0.764\n",
            "\tTrain loss: 0.135 \t Valid loss: 0.158 \t Valid R2:  0.732\n",
            "\tTrain loss: 0.135 \t Valid loss: 0.127 \t Valid R2:  0.784\n",
            "/content/models/model_1595_poker_acc_78.pth\n",
            "\tTrain loss: 0.133 \t Valid loss: 0.171 \t Valid R2:  0.711\n",
            "\tTrain loss: 0.134 \t Valid loss: 0.134 \t Valid R2:  0.772\n",
            "\tTrain loss: 0.135 \t Valid loss: 0.171 \t Valid R2:  0.711\n",
            "\tTrain loss: 0.136 \t Valid loss: 0.139 \t Valid R2:  0.763\n",
            "\tTrain loss: 0.135 \t Valid loss: 0.142 \t Valid R2:  0.760\n",
            "\tTrain loss: 0.136 \t Valid loss: 0.264 \t Valid R2:  0.551\n",
            "\tTrain loss: 0.134 \t Valid loss: 0.293 \t Valid R2:  0.503\n",
            "\tTrain loss: 0.137 \t Valid loss: 0.136 \t Valid R2:  0.770\n",
            "\tTrain loss: 0.135 \t Valid loss: 3.279 \t Valid R2:  -4.564\n",
            "\tTrain loss: 0.133 \t Valid loss: 0.134 \t Valid R2:  0.772\n",
            "\tTrain loss: 0.133 \t Valid loss: 0.122 \t Valid R2:  0.792\n",
            "/content/models/model_1595_poker_acc_79.pth\n",
            "\tTrain loss: 0.136 \t Valid loss: 0.149 \t Valid R2:  0.747\n",
            "\tTrain loss: 0.134 \t Valid loss: 0.141 \t Valid R2:  0.761\n",
            "\tTrain loss: 0.131 \t Valid loss: 0.121 \t Valid R2:  0.795\n",
            "/content/models/model_1595_poker_acc_79.pth\n",
            "\tTrain loss: 0.134 \t Valid loss: 0.135 \t Valid R2:  0.771\n",
            "\tTrain loss: 0.131 \t Valid loss: 0.130 \t Valid R2:  0.779\n",
            "\tTrain loss: 0.131 \t Valid loss: 0.125 \t Valid R2:  0.788\n",
            "\tTrain loss: 0.138 \t Valid loss: 0.161 \t Valid R2:  0.727\n",
            "\tTrain loss: 0.129 \t Valid loss: 0.153 \t Valid R2:  0.740\n",
            "\tTrain loss: 0.130 \t Valid loss: 0.129 \t Valid R2:  0.780\n",
            "\tTrain loss: 0.129 \t Valid loss: 0.143 \t Valid R2:  0.757\n",
            "\tTrain loss: 0.130 \t Valid loss: 0.122 \t Valid R2:  0.792\n",
            "\tTrain loss: 0.128 \t Valid loss: 0.119 \t Valid R2:  0.799\n",
            "/content/models/model_1595_poker_acc_80.pth\n",
            "\tTrain loss: 0.128 \t Valid loss: 0.141 \t Valid R2:  0.761\n",
            "\tTrain loss: 0.129 \t Valid loss: 0.121 \t Valid R2:  0.795\n",
            "\tTrain loss: 0.127 \t Valid loss: 0.259 \t Valid R2:  0.560\n",
            "\tTrain loss: 0.128 \t Valid loss: 0.130 \t Valid R2:  0.779\n",
            "\tTrain loss: 0.129 \t Valid loss: 0.130 \t Valid R2:  0.779\n",
            "\tTrain loss: 0.126 \t Valid loss: 0.116 \t Valid R2:  0.803\n",
            "/content/models/model_1595_poker_acc_80.pth\n",
            "\tTrain loss: 0.126 \t Valid loss: 0.129 \t Valid R2:  0.782\n",
            "\tTrain loss: 0.126 \t Valid loss: 0.121 \t Valid R2:  0.795\n",
            "\tTrain loss: 0.125 \t Valid loss: 0.128 \t Valid R2:  0.783\n",
            "\tTrain loss: 0.130 \t Valid loss: 0.120 \t Valid R2:  0.796\n",
            "\tTrain loss: 0.125 \t Valid loss: 0.126 \t Valid R2:  0.786\n",
            "\tTrain loss: 0.123 \t Valid loss: 0.147 \t Valid R2:  0.750\n",
            "\tTrain loss: 0.125 \t Valid loss: 0.116 \t Valid R2:  0.804\n",
            "/content/models/model_1595_poker_acc_80.pth\n",
            "\tTrain loss: 0.123 \t Valid loss: 0.123 \t Valid R2:  0.792\n",
            "\tTrain loss: 0.123 \t Valid loss: 0.119 \t Valid R2:  0.799\n",
            "\tTrain loss: 0.123 \t Valid loss: 0.153 \t Valid R2:  0.741\n",
            "\tTrain loss: 0.122 \t Valid loss: 0.127 \t Valid R2:  0.785\n",
            "\tTrain loss: 0.122 \t Valid loss: 0.124 \t Valid R2:  0.790\n",
            "\tTrain loss: 0.121 \t Valid loss: 0.118 \t Valid R2:  0.800\n",
            "\tTrain loss: 0.120 \t Valid loss: 0.114 \t Valid R2:  0.807\n",
            "/content/models/model_1595_poker_acc_81.pth\n",
            "\tTrain loss: 0.121 \t Valid loss: 0.173 \t Valid R2:  0.706\n",
            "\tTrain loss: 0.120 \t Valid loss: 0.114 \t Valid R2:  0.806\n",
            "\tTrain loss: 0.119 \t Valid loss: 0.111 \t Valid R2:  0.812\n",
            "/content/models/model_1595_poker_acc_81.pth\n",
            "\tTrain loss: 0.120 \t Valid loss: 0.108 \t Valid R2:  0.817\n",
            "/content/models/model_1595_poker_acc_82.pth\n",
            "\tTrain loss: 0.118 \t Valid loss: 0.110 \t Valid R2:  0.813\n",
            "\tTrain loss: 0.118 \t Valid loss: 0.114 \t Valid R2:  0.807\n",
            "\tTrain loss: 0.118 \t Valid loss: 0.112 \t Valid R2:  0.810\n",
            "\tTrain loss: 0.117 \t Valid loss: 0.115 \t Valid R2:  0.805\n",
            "\tTrain loss: 0.116 \t Valid loss: 0.114 \t Valid R2:  0.807\n",
            "\tTrain loss: 0.116 \t Valid loss: 0.106 \t Valid R2:  0.820\n",
            "/content/models/model_1595_poker_acc_82.pth\n",
            "\tTrain loss: 0.115 \t Valid loss: 0.119 \t Valid R2:  0.797\n",
            "\tTrain loss: 0.114 \t Valid loss: 0.108 \t Valid R2:  0.817\n",
            "\tTrain loss: 0.115 \t Valid loss: 0.102 \t Valid R2:  0.826\n",
            "/content/models/model_1595_poker_acc_83.pth\n",
            "\tTrain loss: 0.113 \t Valid loss: 0.124 \t Valid R2:  0.789\n",
            "\tTrain loss: 0.113 \t Valid loss: 0.103 \t Valid R2:  0.824\n",
            "\tTrain loss: 0.113 \t Valid loss: 0.101 \t Valid R2:  0.829\n",
            "/content/models/model_1595_poker_acc_83.pth\n",
            "\tTrain loss: 0.112 \t Valid loss: 0.099 \t Valid R2:  0.831\n",
            "/content/models/model_1595_poker_acc_83.pth\n",
            "\tTrain loss: 0.111 \t Valid loss: 0.112 \t Valid R2:  0.810\n",
            "\tTrain loss: 0.112 \t Valid loss: 0.107 \t Valid R2:  0.818\n",
            "\tTrain loss: 0.111 \t Valid loss: 0.100 \t Valid R2:  0.831\n",
            "\tTrain loss: 0.110 \t Valid loss: 0.100 \t Valid R2:  0.830\n",
            "\tTrain loss: 0.110 \t Valid loss: 0.094 \t Valid R2:  0.841\n",
            "/content/models/model_1595_poker_acc_84.pth\n",
            "\tTrain loss: 0.109 \t Valid loss: 0.100 \t Valid R2:  0.830\n",
            "Best valid r2: 0.841\n"
          ],
          "name": "stdout"
        }
      ]
    },
    {
      "cell_type": "markdown",
      "metadata": {
        "id": "V3wxoz4RgIeY",
        "colab_type": "text"
      },
      "source": [
        "## BEST Valid r2 is 0.841"
      ]
    },
    {
      "cell_type": "code",
      "metadata": {
        "id": "0synIIXpgPKh",
        "colab_type": "code",
        "colab": {}
      },
      "source": [
        ""
      ],
      "execution_count": 0,
      "outputs": []
    },
    {
      "cell_type": "markdown",
      "metadata": {
        "id": "85E1f1DiTpjI",
        "colab_type": "text"
      },
      "source": [
        "# Third: First Model + all cat"
      ]
    },
    {
      "cell_type": "code",
      "metadata": {
        "id": "zb4RfbI9gEUc",
        "colab_type": "code",
        "colab": {}
      },
      "source": [
        "train_X, valid_X, test_X, level_arr = label_encode(train_X, valid_X, test_X)"
      ],
      "execution_count": 0,
      "outputs": []
    },
    {
      "cell_type": "code",
      "metadata": {
        "id": "9sUiums5hRGn",
        "colab_type": "code",
        "colab": {}
      },
      "source": [
        "batch_size = 8192\n",
        "train_ds = TabularDataSet(train_X, train_X, train_y)\n",
        "valid_ds = TabularDataSet(valid_X, valid_X, valid_y)\n",
        "test_ds = TabularDataSet(test_X, test_X, valid_y)\n",
        "\n",
        "train_dl = DataLoader(train_ds, batch_size=batch_size, shuffle=True)\n",
        "valid_dl = DataLoader(valid_ds, batch_size=batch_size)\n",
        "test_dl = DataLoader(test_ds, batch_size=batch_size)"
      ],
      "execution_count": 0,
      "outputs": []
    },
    {
      "cell_type": "code",
      "metadata": {
        "id": "PX2DM6TQhoNM",
        "colab_type": "code",
        "colab": {}
      },
      "source": [
        "num_cont = 0\n",
        "num_cat = 10"
      ],
      "execution_count": 0,
      "outputs": []
    },
    {
      "cell_type": "code",
      "metadata": {
        "id": "glQNnjJiiwBX",
        "colab_type": "code",
        "colab": {
          "base_uri": "https://localhost:8080/",
          "height": 34
        },
        "outputId": "d3d87843-f6e0-4fae-d414-849053397a74"
      },
      "source": [
        "level_arr"
      ],
      "execution_count": 247,
      "outputs": [
        {
          "output_type": "execute_result",
          "data": {
            "text/plain": [
              "[5, 14, 5, 14, 5, 14, 5, 14, 5, 14]"
            ]
          },
          "metadata": {
            "tags": []
          },
          "execution_count": 247
        }
      ]
    },
    {
      "cell_type": "code",
      "metadata": {
        "id": "_HowaXVpkeif",
        "colab_type": "code",
        "colab": {}
      },
      "source": [
        "class TabularNet_cat_first(nn.Module):\n",
        "    def __init__(self, num_cont, num_cat, level_arr, hidden_dim=1000, hidden_dim2=1000, all_cat=True):\n",
        "        super(TabularNet_cat_first, self).__init__()\n",
        "        self.all_cat = all_cat\n",
        "        if self.all_cat:\n",
        "            in_dim = 2*num_cat\n",
        "            self.embs = nn.ModuleList([nn.Embedding(level_arr[i], 2) for i in range(len(level_arr))])\n",
        "            self.bn1 = nn.BatchNorm1d(hidden_dim)\n",
        "            self.bn2 = nn.BatchNorm1d(hidden_dim2)\n",
        "            self.linear1 = nn.Linear(in_dim, hidden_dim)\n",
        "            self.linear2 = nn.Linear(hidden_dim, hidden_dim2)\n",
        "            self.linear3 = nn.Linear(hidden_dim2, 1)\n",
        "            self.dropout = nn.Dropout(0.2)\n",
        "\n",
        "        if not self.all_cat:\n",
        "            in_dim =  num_cont\n",
        "            self.bn1 = nn.BatchNorm1d(hidden_dim)\n",
        "            self.bn2 = nn.BatchNorm1d(hidden_dim2)\n",
        "            self.linear1 = nn.Linear(in_dim, hidden_dim)\n",
        "            self.linear2 = nn.Linear(hidden_dim, hidden_dim2)\n",
        "            self.linear3 = nn.Linear(hidden_dim2, 1)\n",
        "            self.dropout = nn.Dropout(0.2)\n",
        "                              \n",
        "    def forward(self, x_cat, x_cont):\n",
        "        if self.all_cat:\n",
        "            x_cat = [self.embs[i](x_cat[:,i]) for i in range(x_cat.size(1))]\n",
        "            x_cat = torch.cat(x_cat, dim=1)\n",
        "            x_cat = self.dropout(x_cat)\n",
        "            x = x_cat\n",
        "            x = self.bn1(F.relu(self.linear1(x)))\n",
        "            x = self.dropout(x)\n",
        "            x = self.bn2(F.relu(self.linear2(x)))\n",
        "            return self.linear3(x)\n",
        "        if not self.all_cat:\n",
        "            x = self.dropout(x_cont)\n",
        "            x = self.bn1(F.relu(self.linear1(x)))\n",
        "            x = self.dropout(x)\n",
        "            x = self.bn2(F.relu(self.linear2(x)))\n",
        "            return self.linear3(x)"
      ],
      "execution_count": 0,
      "outputs": []
    },
    {
      "cell_type": "code",
      "metadata": {
        "id": "8qxzxk_Wu0VF",
        "colab_type": "code",
        "colab": {}
      },
      "source": [
        "class TabularNet_cat_second(nn.Module):\n",
        "    def __init__(self, num_cont, num_cat, level_arr, hidden_dim=1000, hidden_dim2=1000, all_cat=True):\n",
        "        super(TabularNet_cat_second, self).__init__()\n",
        "        self.all_cat = all_cat\n",
        "        if self.all_cat:\n",
        "            in_dim = 2*num_cat\n",
        "            self.embs = nn.ModuleList([nn.Embedding(level_arr[i], 2) for i in range(len(level_arr))])\n",
        "            self.bn1 = nn.BatchNorm1d(hidden_dim)\n",
        "            self.bn2 = nn.BatchNorm1d(hidden_dim2)\n",
        "            self.linear1 = nn.Linear(in_dim, hidden_dim)\n",
        "            self.linear2 = nn.Linear(hidden_dim+in_dim, hidden_dim2)\n",
        "            self.linear3 = nn.Linear(hidden_dim2+in_dim, 1)\n",
        "            self.dropout = nn.Dropout(0.2)\n",
        "\n",
        "        if not self.all_cat:\n",
        "            in_dim =  num_cont\n",
        "            self.bn1 = nn.BatchNorm1d(hidden_dim)\n",
        "            self.bn2 = nn.BatchNorm1d(hidden_dim2)\n",
        "            self.linear1 = nn.Linear(in_dim, hidden_dim)\n",
        "            self.linear2 = nn.Linear(hidden_dim+in_dim, hidden_dim2)\n",
        "            self.linear3 = nn.Linear(hidden_dim2+in_dim, 1)\n",
        "            self.dropout = nn.Dropout(0.2)\n",
        "                                  \n",
        "    def forward(self, x_cat, x_cont):\n",
        "        if self.all_cat:\n",
        "            x_cat = [self.embs[i](x_cat[:,i]) for i in range(x_cat.size(1))]\n",
        "            x_cat = torch.cat(x_cat, dim=1)\n",
        "            x_cat = self.dropout(x_cat)\n",
        "            x1 = x_cat\n",
        "            x = self.bn1(F.relu(self.linear1(x1)))\n",
        "            x = torch.cat([x, x1], dim=1)\n",
        "            x = self.dropout(x)\n",
        "            x = self.bn2(F.relu(self.linear2(x)))\n",
        "            x = torch.cat([x, x1], dim=1)\n",
        "            return self.linear3(x)\n",
        "\n",
        "        if not self.all_cat:\n",
        "            x_con = self.dropout(x_cont)\n",
        "            x1 = x_con\n",
        "            x = self.bn1(F.relu(self.linear1(x1)))\n",
        "            x = torch.cat([x, x1], dim=1)\n",
        "            x = self.dropout(x)\n",
        "            x = self.bn2(F.relu(self.linear2(x)))\n",
        "            x = torch.cat([x, x1], dim=1)\n",
        "            return self.linear3(x)"
      ],
      "execution_count": 0,
      "outputs": []
    },
    {
      "cell_type": "code",
      "metadata": {
        "id": "J_cxMSmjhd_S",
        "colab_type": "code",
        "colab": {}
      },
      "source": [
        "model = TabularNet_cat_first(num_cont, num_cat, level_arr).cuda()"
      ],
      "execution_count": 0,
      "outputs": []
    },
    {
      "cell_type": "code",
      "metadata": {
        "id": "cgPw7VQgifjO",
        "colab_type": "code",
        "colab": {
          "base_uri": "https://localhost:8080/",
          "height": 1000,
          "referenced_widgets": [
            "a8c971f072ce4a4ba7a152be0d847efb",
            "826e487b9b304d5bba0e9da25c09a054",
            "b2bcaec4a38d43c9a6bf530fb35ac4a7",
            "28daac44ddeb4fedbf50bd88e683eeb0",
            "7ff9d20fcb244fe8b4829216fc05013b",
            "6c67bc8c8c46455eb95245df0825b9fc",
            "be512583c37349cc979ea824bc048f40",
            "e1be9af92e4a4b9f926c8eab25955b03"
          ]
        },
        "outputId": "badb175f-bbc4-4432-ec4f-cae4c714470e"
      },
      "source": [
        "optimizer = torch.optim.Adam(model.parameters(), lr=0.05, weight_decay=1e-5)\n",
        "best_val = train_model(model, train_dl, valid_dl, optimizer, epochs=100)"
      ],
      "execution_count": 262,
      "outputs": [
        {
          "output_type": "stream",
          "text": [
            "/usr/local/lib/python3.6/dist-packages/ipykernel_launcher.py:5: TqdmDeprecationWarning: This function will be removed in tqdm==5.0.0\n",
            "Please use `tqdm.notebook.tqdm` instead of `tqdm.tqdm_notebook`\n",
            "  \"\"\"\n"
          ],
          "name": "stderr"
        },
        {
          "output_type": "display_data",
          "data": {
            "application/vnd.jupyter.widget-view+json": {
              "model_id": "a8c971f072ce4a4ba7a152be0d847efb",
              "version_minor": 0,
              "version_major": 2
            },
            "text/plain": [
              "HBox(children=(FloatProgress(value=0.0, max=8800.0), HTML(value='')))"
            ]
          },
          "metadata": {
            "tags": []
          }
        },
        {
          "output_type": "stream",
          "text": [
            "\tTrain loss: 2.309 \t Valid loss: 0.580 \t Valid R2:  0.015\n",
            "/content/models/model_1595_poker_acc_2.pth\n",
            "\tTrain loss: 0.599 \t Valid loss: 0.572 \t Valid R2:  0.030\n",
            "/content/models/model_1595_poker_acc_3.pth\n",
            "\tTrain loss: 0.593 \t Valid loss: 0.564 \t Valid R2:  0.044\n",
            "/content/models/model_1595_poker_acc_4.pth\n",
            "\tTrain loss: 0.590 \t Valid loss: 0.562 \t Valid R2:  0.047\n",
            "/content/models/model_1595_poker_acc_5.pth\n",
            "\tTrain loss: 0.584 \t Valid loss: 0.554 \t Valid R2:  0.060\n",
            "/content/models/model_1595_poker_acc_6.pth\n",
            "\tTrain loss: 0.578 \t Valid loss: 0.545 \t Valid R2:  0.075\n",
            "/content/models/model_1595_poker_acc_7.pth\n",
            "\tTrain loss: 0.570 \t Valid loss: 0.535 \t Valid R2:  0.092\n",
            "/content/models/model_1595_poker_acc_9.pth\n",
            "\tTrain loss: 0.567 \t Valid loss: 0.526 \t Valid R2:  0.108\n",
            "/content/models/model_1595_poker_acc_11.pth\n",
            "\tTrain loss: 0.560 \t Valid loss: 0.528 \t Valid R2:  0.105\n",
            "\tTrain loss: 0.551 \t Valid loss: 0.510 \t Valid R2:  0.134\n",
            "/content/models/model_1595_poker_acc_13.pth\n",
            "\tTrain loss: 0.546 \t Valid loss: 0.510 \t Valid R2:  0.135\n",
            "/content/models/model_1595_poker_acc_13.pth\n",
            "\tTrain loss: 0.537 \t Valid loss: 0.513 \t Valid R2:  0.130\n",
            "\tTrain loss: 0.526 \t Valid loss: 0.477 \t Valid R2:  0.191\n",
            "/content/models/model_1595_poker_acc_19.pth\n",
            "\tTrain loss: 0.516 \t Valid loss: 0.463 \t Valid R2:  0.215\n",
            "/content/models/model_1595_poker_acc_21.pth\n",
            "\tTrain loss: 0.507 \t Valid loss: 0.482 \t Valid R2:  0.183\n",
            "\tTrain loss: 0.497 \t Valid loss: 0.463 \t Valid R2:  0.215\n",
            "/content/models/model_1595_poker_acc_22.pth\n",
            "\tTrain loss: 0.486 \t Valid loss: 0.451 \t Valid R2:  0.236\n",
            "/content/models/model_1595_poker_acc_24.pth\n",
            "\tTrain loss: 0.480 \t Valid loss: 0.454 \t Valid R2:  0.230\n",
            "\tTrain loss: 0.471 \t Valid loss: 0.465 \t Valid R2:  0.212\n",
            "\tTrain loss: 0.469 \t Valid loss: 0.452 \t Valid R2:  0.234\n",
            "\tTrain loss: 0.461 \t Valid loss: 0.451 \t Valid R2:  0.235\n",
            "\tTrain loss: 0.455 \t Valid loss: 0.450 \t Valid R2:  0.236\n",
            "/content/models/model_1595_poker_acc_24.pth\n",
            "\tTrain loss: 0.447 \t Valid loss: 0.437 \t Valid R2:  0.258\n",
            "/content/models/model_1595_poker_acc_26.pth\n",
            "\tTrain loss: 0.441 \t Valid loss: 0.437 \t Valid R2:  0.258\n",
            "/content/models/model_1595_poker_acc_26.pth\n",
            "\tTrain loss: 0.435 \t Valid loss: 0.447 \t Valid R2:  0.241\n",
            "\tTrain loss: 0.431 \t Valid loss: 0.441 \t Valid R2:  0.252\n",
            "\tTrain loss: 0.427 \t Valid loss: 0.447 \t Valid R2:  0.242\n",
            "\tTrain loss: 0.420 \t Valid loss: 0.424 \t Valid R2:  0.281\n",
            "/content/models/model_1595_poker_acc_28.pth\n",
            "\tTrain loss: 0.413 \t Valid loss: 0.436 \t Valid R2:  0.260\n",
            "\tTrain loss: 0.406 \t Valid loss: 0.412 \t Valid R2:  0.300\n",
            "/content/models/model_1595_poker_acc_30.pth\n",
            "\tTrain loss: 0.401 \t Valid loss: 0.421 \t Valid R2:  0.285\n",
            "\tTrain loss: 0.393 \t Valid loss: 0.399 \t Valid R2:  0.323\n",
            "/content/models/model_1595_poker_acc_32.pth\n",
            "\tTrain loss: 0.389 \t Valid loss: 0.402 \t Valid R2:  0.319\n",
            "\tTrain loss: 0.385 \t Valid loss: 0.383 \t Valid R2:  0.351\n",
            "/content/models/model_1595_poker_acc_35.pth\n",
            "\tTrain loss: 0.381 \t Valid loss: 0.372 \t Valid R2:  0.369\n",
            "/content/models/model_1595_poker_acc_37.pth\n",
            "\tTrain loss: 0.377 \t Valid loss: 0.402 \t Valid R2:  0.318\n",
            "\tTrain loss: 0.375 \t Valid loss: 0.407 \t Valid R2:  0.310\n",
            "\tTrain loss: 0.371 \t Valid loss: 0.390 \t Valid R2:  0.339\n",
            "\tTrain loss: 0.370 \t Valid loss: 0.372 \t Valid R2:  0.369\n",
            "/content/models/model_1595_poker_acc_37.pth\n",
            "\tTrain loss: 0.367 \t Valid loss: 0.373 \t Valid R2:  0.368\n",
            "\tTrain loss: 0.366 \t Valid loss: 0.365 \t Valid R2:  0.381\n",
            "/content/models/model_1595_poker_acc_38.pth\n",
            "\tTrain loss: 0.366 \t Valid loss: 0.381 \t Valid R2:  0.354\n",
            "\tTrain loss: 0.364 \t Valid loss: 0.362 \t Valid R2:  0.387\n",
            "/content/models/model_1595_poker_acc_39.pth\n",
            "\tTrain loss: 0.364 \t Valid loss: 0.380 \t Valid R2:  0.356\n",
            "\tTrain loss: 0.363 \t Valid loss: 0.369 \t Valid R2:  0.374\n",
            "\tTrain loss: 0.362 \t Valid loss: 0.373 \t Valid R2:  0.368\n",
            "\tTrain loss: 0.359 \t Valid loss: 0.367 \t Valid R2:  0.377\n",
            "\tTrain loss: 0.359 \t Valid loss: 0.365 \t Valid R2:  0.380\n",
            "\tTrain loss: 0.359 \t Valid loss: 0.367 \t Valid R2:  0.377\n",
            "\tTrain loss: 0.357 \t Valid loss: 0.375 \t Valid R2:  0.365\n",
            "\tTrain loss: 0.356 \t Valid loss: 0.371 \t Valid R2:  0.370\n",
            "\tTrain loss: 0.356 \t Valid loss: 0.353 \t Valid R2:  0.401\n",
            "/content/models/model_1595_poker_acc_40.pth\n",
            "\tTrain loss: 0.356 \t Valid loss: 0.366 \t Valid R2:  0.380\n",
            "\tTrain loss: 0.354 \t Valid loss: 0.374 \t Valid R2:  0.365\n",
            "\tTrain loss: 0.355 \t Valid loss: 0.374 \t Valid R2:  0.366\n",
            "\tTrain loss: 0.352 \t Valid loss: 0.361 \t Valid R2:  0.388\n",
            "\tTrain loss: 0.353 \t Valid loss: 0.362 \t Valid R2:  0.386\n",
            "\tTrain loss: 0.352 \t Valid loss: 0.348 \t Valid R2:  0.410\n",
            "/content/models/model_1595_poker_acc_41.pth\n",
            "\tTrain loss: 0.350 \t Valid loss: 0.349 \t Valid R2:  0.408\n",
            "\tTrain loss: 0.350 \t Valid loss: 0.348 \t Valid R2:  0.410\n",
            "\tTrain loss: 0.349 \t Valid loss: 0.365 \t Valid R2:  0.380\n",
            "\tTrain loss: 0.347 \t Valid loss: 0.368 \t Valid R2:  0.375\n",
            "\tTrain loss: 0.347 \t Valid loss: 0.349 \t Valid R2:  0.408\n",
            "\tTrain loss: 0.347 \t Valid loss: 0.371 \t Valid R2:  0.370\n",
            "\tTrain loss: 0.344 \t Valid loss: 0.353 \t Valid R2:  0.402\n",
            "\tTrain loss: 0.344 \t Valid loss: 0.355 \t Valid R2:  0.398\n",
            "\tTrain loss: 0.344 \t Valid loss: 0.357 \t Valid R2:  0.394\n",
            "\tTrain loss: 0.343 \t Valid loss: 0.370 \t Valid R2:  0.372\n",
            "\tTrain loss: 0.341 \t Valid loss: 0.360 \t Valid R2:  0.390\n",
            "\tTrain loss: 0.339 \t Valid loss: 0.363 \t Valid R2:  0.385\n",
            "\tTrain loss: 0.338 \t Valid loss: 0.361 \t Valid R2:  0.388\n",
            "\tTrain loss: 0.338 \t Valid loss: 0.366 \t Valid R2:  0.378\n",
            "\tTrain loss: 0.336 \t Valid loss: 0.362 \t Valid R2:  0.387\n",
            "\tTrain loss: 0.335 \t Valid loss: 0.355 \t Valid R2:  0.398\n",
            "\tTrain loss: 0.334 \t Valid loss: 0.349 \t Valid R2:  0.407\n",
            "\tTrain loss: 0.334 \t Valid loss: 0.359 \t Valid R2:  0.391\n",
            "\tTrain loss: 0.332 \t Valid loss: 0.344 \t Valid R2:  0.416\n",
            "/content/models/model_1595_poker_acc_42.pth\n",
            "\tTrain loss: 0.331 \t Valid loss: 0.369 \t Valid R2:  0.373\n",
            "\tTrain loss: 0.330 \t Valid loss: 0.364 \t Valid R2:  0.382\n",
            "\tTrain loss: 0.328 \t Valid loss: 0.352 \t Valid R2:  0.404\n",
            "\tTrain loss: 0.328 \t Valid loss: 0.366 \t Valid R2:  0.379\n",
            "\tTrain loss: 0.327 \t Valid loss: 0.354 \t Valid R2:  0.400\n",
            "\tTrain loss: 0.326 \t Valid loss: 0.347 \t Valid R2:  0.411\n",
            "\tTrain loss: 0.323 \t Valid loss: 0.361 \t Valid R2:  0.388\n",
            "\tTrain loss: 0.323 \t Valid loss: 0.349 \t Valid R2:  0.407\n",
            "\tTrain loss: 0.322 \t Valid loss: 0.349 \t Valid R2:  0.408\n",
            "\tTrain loss: 0.321 \t Valid loss: 0.356 \t Valid R2:  0.396\n",
            "\tTrain loss: 0.319 \t Valid loss: 0.357 \t Valid R2:  0.394\n",
            "\tTrain loss: 0.320 \t Valid loss: 0.338 \t Valid R2:  0.426\n",
            "/content/models/model_1595_poker_acc_43.pth\n",
            "\tTrain loss: 0.319 \t Valid loss: 0.360 \t Valid R2:  0.390\n",
            "\tTrain loss: 0.317 \t Valid loss: 0.352 \t Valid R2:  0.403\n",
            "\tTrain loss: 0.317 \t Valid loss: 0.356 \t Valid R2:  0.397\n",
            "\tTrain loss: 0.317 \t Valid loss: 0.350 \t Valid R2:  0.406\n",
            "\tTrain loss: 0.318 \t Valid loss: 0.349 \t Valid R2:  0.409\n",
            "\tTrain loss: 0.317 \t Valid loss: 0.344 \t Valid R2:  0.417\n",
            "\tTrain loss: 0.317 \t Valid loss: 0.354 \t Valid R2:  0.399\n",
            "\tTrain loss: 0.315 \t Valid loss: 0.365 \t Valid R2:  0.380\n",
            "\tTrain loss: 0.314 \t Valid loss: 0.358 \t Valid R2:  0.393\n",
            "\tTrain loss: 0.314 \t Valid loss: 0.367 \t Valid R2:  0.378\n",
            "\tTrain loss: 0.314 \t Valid loss: 0.360 \t Valid R2:  0.389\n",
            "Best valid r2: 0.426\n"
          ],
          "name": "stdout"
        }
      ]
    },
    {
      "cell_type": "markdown",
      "metadata": {
        "id": "c5JHAMsplA8s",
        "colab_type": "text"
      },
      "source": [
        "## Best Valid R2 is 0.426"
      ]
    },
    {
      "cell_type": "markdown",
      "metadata": {
        "id": "Y7ZJav1FuuJM",
        "colab_type": "text"
      },
      "source": [
        "# Fourth second model + all cat"
      ]
    },
    {
      "cell_type": "code",
      "metadata": {
        "id": "DlVmu-VowLVO",
        "colab_type": "code",
        "colab": {}
      },
      "source": [
        "model = TabularNet_cat_second(num_cont, num_cat, level_arr).cuda()"
      ],
      "execution_count": 0,
      "outputs": []
    },
    {
      "cell_type": "code",
      "metadata": {
        "id": "9FaxAi3SwN37",
        "colab_type": "code",
        "colab": {
          "base_uri": "https://localhost:8080/",
          "height": 1000,
          "referenced_widgets": [
            "8d3213d6951e4fa088bd261656971e41",
            "18a2989478dd4f16aa9d1cc1e6338d9a",
            "650dff74db184e4cb678de456a06f06c",
            "4657b8b1b34e428684c5d921595d8101",
            "f67a5cd084bc454582e520571bf3f8ee",
            "f283deec5ca84799924655b14fb393c2",
            "8bcdf2d5a78f4f169b321f2a44379dcd",
            "d6cda5083b2e4389a1c48f7a8c4f4e21"
          ]
        },
        "outputId": "860764b3-161b-41c5-f63e-167442e80750"
      },
      "source": [
        "optimizer = torch.optim.Adam(model.parameters(), lr=0.05, weight_decay=1e-5)\n",
        "best_val = train_model(model, train_dl, valid_dl, optimizer, epochs=100)"
      ],
      "execution_count": 265,
      "outputs": [
        {
          "output_type": "stream",
          "text": [
            "/usr/local/lib/python3.6/dist-packages/ipykernel_launcher.py:5: TqdmDeprecationWarning: This function will be removed in tqdm==5.0.0\n",
            "Please use `tqdm.notebook.tqdm` instead of `tqdm.tqdm_notebook`\n",
            "  \"\"\"\n"
          ],
          "name": "stderr"
        },
        {
          "output_type": "display_data",
          "data": {
            "application/vnd.jupyter.widget-view+json": {
              "model_id": "8d3213d6951e4fa088bd261656971e41",
              "version_minor": 0,
              "version_major": 2
            },
            "text/plain": [
              "HBox(children=(FloatProgress(value=0.0, max=8800.0), HTML(value='')))"
            ]
          },
          "metadata": {
            "tags": []
          }
        },
        {
          "output_type": "stream",
          "text": [
            "\tTrain loss: 2.255 \t Valid loss: 0.585 \t Valid R2:  0.007\n",
            "/content/models/model_1595_poker_acc_1.pth\n",
            "\tTrain loss: 0.605 \t Valid loss: 0.580 \t Valid R2:  0.016\n",
            "/content/models/model_1595_poker_acc_2.pth\n",
            "\tTrain loss: 0.599 \t Valid loss: 0.575 \t Valid R2:  0.024\n",
            "/content/models/model_1595_poker_acc_2.pth\n",
            "\tTrain loss: 0.596 \t Valid loss: 0.576 \t Valid R2:  0.023\n",
            "\tTrain loss: 0.590 \t Valid loss: 0.565 \t Valid R2:  0.042\n",
            "/content/models/model_1595_poker_acc_4.pth\n",
            "\tTrain loss: 0.590 \t Valid loss: 0.589 \t Valid R2:  0.001\n",
            "\tTrain loss: 0.608 \t Valid loss: 0.553 \t Valid R2:  0.062\n",
            "/content/models/model_1595_poker_acc_6.pth\n",
            "\tTrain loss: 0.607 \t Valid loss: 0.574 \t Valid R2:  0.027\n",
            "\tTrain loss: 0.611 \t Valid loss: 0.639 \t Valid R2:  -0.084\n",
            "\tTrain loss: 0.640 \t Valid loss: 0.567 \t Valid R2:  0.038\n",
            "\tTrain loss: 0.608 \t Valid loss: 0.549 \t Valid R2:  0.068\n",
            "/content/models/model_1595_poker_acc_7.pth\n",
            "\tTrain loss: 0.580 \t Valid loss: 0.547 \t Valid R2:  0.073\n",
            "/content/models/model_1595_poker_acc_7.pth\n",
            "\tTrain loss: 0.574 \t Valid loss: 0.787 \t Valid R2:  -0.336\n",
            "\tTrain loss: 0.570 \t Valid loss: 0.543 \t Valid R2:  0.079\n",
            "/content/models/model_1595_poker_acc_8.pth\n",
            "\tTrain loss: 0.560 \t Valid loss: 0.572 \t Valid R2:  0.029\n",
            "\tTrain loss: 0.538 \t Valid loss: 0.503 \t Valid R2:  0.147\n",
            "/content/models/model_1595_poker_acc_15.pth\n",
            "\tTrain loss: 0.521 \t Valid loss: 0.489 \t Valid R2:  0.170\n",
            "/content/models/model_1595_poker_acc_17.pth\n",
            "\tTrain loss: 0.505 \t Valid loss: 0.486 \t Valid R2:  0.175\n",
            "/content/models/model_1595_poker_acc_18.pth\n",
            "\tTrain loss: 0.501 \t Valid loss: 0.481 \t Valid R2:  0.184\n",
            "/content/models/model_1595_poker_acc_18.pth\n",
            "\tTrain loss: 0.487 \t Valid loss: 0.477 \t Valid R2:  0.191\n",
            "/content/models/model_1595_poker_acc_19.pth\n",
            "\tTrain loss: 0.480 \t Valid loss: 0.476 \t Valid R2:  0.193\n",
            "/content/models/model_1595_poker_acc_19.pth\n",
            "\tTrain loss: 0.471 \t Valid loss: 0.475 \t Valid R2:  0.195\n",
            "/content/models/model_1595_poker_acc_19.pth\n",
            "\tTrain loss: 0.467 \t Valid loss: 0.477 \t Valid R2:  0.191\n",
            "\tTrain loss: 0.466 \t Valid loss: 0.471 \t Valid R2:  0.201\n",
            "/content/models/model_1595_poker_acc_20.pth\n",
            "\tTrain loss: 0.460 \t Valid loss: 0.472 \t Valid R2:  0.198\n",
            "\tTrain loss: 0.459 \t Valid loss: 0.476 \t Valid R2:  0.192\n",
            "\tTrain loss: 0.458 \t Valid loss: 0.490 \t Valid R2:  0.168\n",
            "\tTrain loss: 0.454 \t Valid loss: 0.476 \t Valid R2:  0.193\n",
            "\tTrain loss: 0.451 \t Valid loss: 0.480 \t Valid R2:  0.186\n",
            "\tTrain loss: 0.445 \t Valid loss: 0.472 \t Valid R2:  0.199\n",
            "\tTrain loss: 0.440 \t Valid loss: 0.478 \t Valid R2:  0.189\n",
            "\tTrain loss: 0.438 \t Valid loss: 0.466 \t Valid R2:  0.210\n",
            "/content/models/model_1595_poker_acc_21.pth\n",
            "\tTrain loss: 0.434 \t Valid loss: 0.478 \t Valid R2:  0.190\n",
            "\tTrain loss: 0.429 \t Valid loss: 0.457 \t Valid R2:  0.224\n",
            "/content/models/model_1595_poker_acc_22.pth\n",
            "\tTrain loss: 0.424 \t Valid loss: 0.458 \t Valid R2:  0.222\n",
            "\tTrain loss: 0.421 \t Valid loss: 0.459 \t Valid R2:  0.221\n",
            "\tTrain loss: 0.416 \t Valid loss: 0.449 \t Valid R2:  0.239\n",
            "/content/models/model_1595_poker_acc_24.pth\n",
            "\tTrain loss: 0.410 \t Valid loss: 0.435 \t Valid R2:  0.263\n",
            "/content/models/model_1595_poker_acc_26.pth\n",
            "\tTrain loss: 0.408 \t Valid loss: 0.458 \t Valid R2:  0.223\n",
            "\tTrain loss: 0.403 \t Valid loss: 0.446 \t Valid R2:  0.243\n",
            "\tTrain loss: 0.400 \t Valid loss: 0.447 \t Valid R2:  0.242\n",
            "\tTrain loss: 0.397 \t Valid loss: 0.445 \t Valid R2:  0.245\n",
            "\tTrain loss: 0.397 \t Valid loss: 0.458 \t Valid R2:  0.223\n",
            "\tTrain loss: 0.395 \t Valid loss: 0.435 \t Valid R2:  0.261\n",
            "\tTrain loss: 0.397 \t Valid loss: 0.449 \t Valid R2:  0.238\n",
            "\tTrain loss: 0.396 \t Valid loss: 0.462 \t Valid R2:  0.216\n",
            "\tTrain loss: 0.393 \t Valid loss: 0.459 \t Valid R2:  0.221\n",
            "\tTrain loss: 0.390 \t Valid loss: 0.467 \t Valid R2:  0.208\n",
            "\tTrain loss: 0.386 \t Valid loss: 0.438 \t Valid R2:  0.258\n",
            "\tTrain loss: 0.380 \t Valid loss: 0.471 \t Valid R2:  0.200\n",
            "\tTrain loss: 0.378 \t Valid loss: 0.450 \t Valid R2:  0.237\n",
            "\tTrain loss: 0.372 \t Valid loss: 0.434 \t Valid R2:  0.263\n",
            "/content/models/model_1595_poker_acc_26.pth\n",
            "\tTrain loss: 0.365 \t Valid loss: 0.410 \t Valid R2:  0.304\n",
            "/content/models/model_1595_poker_acc_30.pth\n",
            "\tTrain loss: 0.363 \t Valid loss: 0.405 \t Valid R2:  0.312\n",
            "/content/models/model_1595_poker_acc_31.pth\n",
            "\tTrain loss: 0.361 \t Valid loss: 0.427 \t Valid R2:  0.276\n",
            "\tTrain loss: 0.357 \t Valid loss: 0.421 \t Valid R2:  0.286\n",
            "\tTrain loss: 0.356 \t Valid loss: 0.407 \t Valid R2:  0.310\n",
            "\tTrain loss: 0.353 \t Valid loss: 0.414 \t Valid R2:  0.297\n",
            "\tTrain loss: 0.353 \t Valid loss: 0.413 \t Valid R2:  0.299\n",
            "\tTrain loss: 0.353 \t Valid loss: 0.399 \t Valid R2:  0.324\n",
            "/content/models/model_1595_poker_acc_32.pth\n",
            "\tTrain loss: 0.351 \t Valid loss: 0.425 \t Valid R2:  0.279\n",
            "\tTrain loss: 0.350 \t Valid loss: 0.413 \t Valid R2:  0.300\n",
            "\tTrain loss: 0.349 \t Valid loss: 0.470 \t Valid R2:  0.203\n",
            "\tTrain loss: 0.347 \t Valid loss: 0.411 \t Valid R2:  0.302\n",
            "\tTrain loss: 0.346 \t Valid loss: 0.436 \t Valid R2:  0.260\n",
            "\tTrain loss: 0.345 \t Valid loss: 0.455 \t Valid R2:  0.228\n",
            "\tTrain loss: 0.344 \t Valid loss: 0.424 \t Valid R2:  0.281\n",
            "\tTrain loss: 0.344 \t Valid loss: 0.422 \t Valid R2:  0.284\n",
            "\tTrain loss: 0.342 \t Valid loss: 0.415 \t Valid R2:  0.296\n",
            "\tTrain loss: 0.343 \t Valid loss: 0.447 \t Valid R2:  0.241\n",
            "\tTrain loss: 0.340 \t Valid loss: 0.448 \t Valid R2:  0.240\n",
            "\tTrain loss: 0.339 \t Valid loss: 0.437 \t Valid R2:  0.259\n",
            "\tTrain loss: 0.338 \t Valid loss: 0.428 \t Valid R2:  0.275\n",
            "\tTrain loss: 0.338 \t Valid loss: 0.440 \t Valid R2:  0.254\n",
            "\tTrain loss: 0.337 \t Valid loss: 0.439 \t Valid R2:  0.254\n",
            "\tTrain loss: 0.335 \t Valid loss: 0.433 \t Valid R2:  0.265\n",
            "\tTrain loss: 0.334 \t Valid loss: 0.433 \t Valid R2:  0.265\n",
            "\tTrain loss: 0.333 \t Valid loss: 0.428 \t Valid R2:  0.275\n",
            "\tTrain loss: 0.331 \t Valid loss: 0.422 \t Valid R2:  0.284\n",
            "\tTrain loss: 0.332 \t Valid loss: 0.433 \t Valid R2:  0.265\n",
            "\tTrain loss: 0.331 \t Valid loss: 0.419 \t Valid R2:  0.290\n",
            "\tTrain loss: 0.329 \t Valid loss: 0.435 \t Valid R2:  0.262\n",
            "\tTrain loss: 0.329 \t Valid loss: 0.445 \t Valid R2:  0.245\n",
            "\tTrain loss: 0.328 \t Valid loss: 0.422 \t Valid R2:  0.283\n",
            "\tTrain loss: 0.328 \t Valid loss: 0.444 \t Valid R2:  0.247\n",
            "\tTrain loss: 0.326 \t Valid loss: 0.428 \t Valid R2:  0.275\n",
            "\tTrain loss: 0.325 \t Valid loss: 0.436 \t Valid R2:  0.260\n",
            "\tTrain loss: 0.324 \t Valid loss: 0.448 \t Valid R2:  0.239\n",
            "\tTrain loss: 0.323 \t Valid loss: 0.442 \t Valid R2:  0.250\n",
            "\tTrain loss: 0.322 \t Valid loss: 0.447 \t Valid R2:  0.242\n",
            "\tTrain loss: 0.321 \t Valid loss: 0.466 \t Valid R2:  0.209\n",
            "\tTrain loss: 0.320 \t Valid loss: 0.467 \t Valid R2:  0.208\n",
            "\tTrain loss: 0.320 \t Valid loss: 0.456 \t Valid R2:  0.227\n",
            "\tTrain loss: 0.320 \t Valid loss: 0.451 \t Valid R2:  0.235\n",
            "\tTrain loss: 0.319 \t Valid loss: 0.453 \t Valid R2:  0.232\n",
            "\tTrain loss: 0.319 \t Valid loss: 0.460 \t Valid R2:  0.220\n",
            "\tTrain loss: 0.319 \t Valid loss: 0.452 \t Valid R2:  0.233\n",
            "\tTrain loss: 0.317 \t Valid loss: 0.442 \t Valid R2:  0.249\n",
            "\tTrain loss: 0.318 \t Valid loss: 0.454 \t Valid R2:  0.230\n",
            "\tTrain loss: 0.318 \t Valid loss: 0.433 \t Valid R2:  0.265\n",
            "Best valid r2: 0.324\n"
          ],
          "name": "stdout"
        }
      ]
    },
    {
      "cell_type": "markdown",
      "metadata": {
        "id": "WK4mY0CMwQvf",
        "colab_type": "text"
      },
      "source": [
        "## Best Valid R2 is 0.324"
      ]
    },
    {
      "cell_type": "markdown",
      "metadata": {
        "id": "O3hkVoI02DAo",
        "colab_type": "text"
      },
      "source": [
        "# Fifth: first model + all cont"
      ]
    },
    {
      "cell_type": "code",
      "metadata": {
        "id": "I_l4_8Wq2W8W",
        "colab_type": "code",
        "colab": {}
      },
      "source": [
        "train_X, valid_X, test_X = scale_dataset(train_X, valid_X, test_X)\n",
        "batch_size = 8192\n",
        "train_ds = TabularDataSet(train_X, train_X, train_y)\n",
        "valid_ds = TabularDataSet(valid_X, valid_X, valid_y)\n",
        "test_ds = TabularDataSet(test_X, test_X, valid_y)\n",
        "\n",
        "train_dl = DataLoader(train_ds, batch_size=batch_size, shuffle=True)\n",
        "valid_dl = DataLoader(valid_ds, batch_size=batch_size)\n",
        "test_dl = DataLoader(test_ds, batch_size=batch_size)\n",
        "\n",
        "num_cont = train_X.shape[1]\n",
        "num_cat = 0"
      ],
      "execution_count": 0,
      "outputs": []
    },
    {
      "cell_type": "code",
      "metadata": {
        "id": "4K2xd1C82hAR",
        "colab_type": "code",
        "colab": {}
      },
      "source": [
        "model = TabularNet_cat_first(num_cont, num_cat, level_arr, all_cat=False).cuda()"
      ],
      "execution_count": 0,
      "outputs": []
    },
    {
      "cell_type": "code",
      "metadata": {
        "id": "GXEpFMsJ2pXQ",
        "colab_type": "code",
        "colab": {
          "base_uri": "https://localhost:8080/",
          "height": 1000,
          "referenced_widgets": [
            "6cba80d8bc3149f69ae499468daa97ef",
            "98316a66915f4270ad43c486ed826bfa",
            "b81a8f2689cd4915b99920cd73b2369b",
            "2c833c05087a4f14b2410df7c8dc1ab2",
            "bed1ae8a673c4f8287d4480b61ab659e",
            "25b175d1160942b4a46a13e44c781d73",
            "bfe9118affc743679bd1dfc525fa1d26",
            "6f8395c317834f4f87aac6cc69e025a5"
          ]
        },
        "outputId": "d9f9cef6-6c88-4295-c5d1-bdf48bb8516e"
      },
      "source": [
        "optimizer = torch.optim.Adam(model.parameters(), lr=0.05, weight_decay=1e-5)\n",
        "best_val = train_model(model, train_dl, valid_dl, optimizer, epochs=100)"
      ],
      "execution_count": 268,
      "outputs": [
        {
          "output_type": "stream",
          "text": [
            "/usr/local/lib/python3.6/dist-packages/ipykernel_launcher.py:5: TqdmDeprecationWarning: This function will be removed in tqdm==5.0.0\n",
            "Please use `tqdm.notebook.tqdm` instead of `tqdm.tqdm_notebook`\n",
            "  \"\"\"\n"
          ],
          "name": "stderr"
        },
        {
          "output_type": "display_data",
          "data": {
            "application/vnd.jupyter.widget-view+json": {
              "model_id": "6cba80d8bc3149f69ae499468daa97ef",
              "version_minor": 0,
              "version_major": 2
            },
            "text/plain": [
              "HBox(children=(FloatProgress(value=0.0, max=8800.0), HTML(value='')))"
            ]
          },
          "metadata": {
            "tags": []
          }
        },
        {
          "output_type": "stream",
          "text": [
            "\tTrain loss: 3.232 \t Valid loss: 0.555 \t Valid R2:  0.059\n",
            "/content/models/model_1595_poker_acc_6.pth\n",
            "\tTrain loss: 0.584 \t Valid loss: 0.548 \t Valid R2:  0.070\n",
            "/content/models/model_1595_poker_acc_7.pth\n",
            "\tTrain loss: 0.578 \t Valid loss: 0.547 \t Valid R2:  0.072\n",
            "/content/models/model_1595_poker_acc_7.pth\n",
            "\tTrain loss: 0.576 \t Valid loss: 0.540 \t Valid R2:  0.084\n",
            "/content/models/model_1595_poker_acc_8.pth\n",
            "\tTrain loss: 0.570 \t Valid loss: 0.532 \t Valid R2:  0.098\n",
            "/content/models/model_1595_poker_acc_10.pth\n",
            "\tTrain loss: 0.568 \t Valid loss: 0.527 \t Valid R2:  0.106\n",
            "/content/models/model_1595_poker_acc_11.pth\n",
            "\tTrain loss: 0.563 \t Valid loss: 0.517 \t Valid R2:  0.124\n",
            "/content/models/model_1595_poker_acc_12.pth\n",
            "\tTrain loss: 0.559 \t Valid loss: 0.512 \t Valid R2:  0.132\n",
            "/content/models/model_1595_poker_acc_13.pth\n",
            "\tTrain loss: 0.555 \t Valid loss: 0.504 \t Valid R2:  0.145\n",
            "/content/models/model_1595_poker_acc_15.pth\n",
            "\tTrain loss: 0.546 \t Valid loss: 0.488 \t Valid R2:  0.171\n",
            "/content/models/model_1595_poker_acc_17.pth\n",
            "\tTrain loss: 0.542 \t Valid loss: 0.479 \t Valid R2:  0.188\n",
            "/content/models/model_1595_poker_acc_19.pth\n",
            "\tTrain loss: 0.537 \t Valid loss: 0.471 \t Valid R2:  0.202\n",
            "/content/models/model_1595_poker_acc_20.pth\n",
            "\tTrain loss: 0.528 \t Valid loss: 0.464 \t Valid R2:  0.212\n",
            "/content/models/model_1595_poker_acc_21.pth\n",
            "\tTrain loss: 0.525 \t Valid loss: 0.487 \t Valid R2:  0.173\n",
            "\tTrain loss: 0.521 \t Valid loss: 0.491 \t Valid R2:  0.167\n",
            "\tTrain loss: 0.524 \t Valid loss: 0.472 \t Valid R2:  0.198\n",
            "\tTrain loss: 0.515 \t Valid loss: 0.470 \t Valid R2:  0.203\n",
            "\tTrain loss: 0.516 \t Valid loss: 0.473 \t Valid R2:  0.197\n",
            "\tTrain loss: 0.509 \t Valid loss: 0.520 \t Valid R2:  0.118\n",
            "\tTrain loss: 0.510 \t Valid loss: 0.435 \t Valid R2:  0.262\n",
            "/content/models/model_1595_poker_acc_26.pth\n",
            "\tTrain loss: 0.506 \t Valid loss: 0.466 \t Valid R2:  0.209\n",
            "\tTrain loss: 0.503 \t Valid loss: 0.455 \t Valid R2:  0.228\n",
            "\tTrain loss: 0.505 \t Valid loss: 0.438 \t Valid R2:  0.258\n",
            "\tTrain loss: 0.486 \t Valid loss: 0.455 \t Valid R2:  0.228\n",
            "\tTrain loss: 0.487 \t Valid loss: 0.465 \t Valid R2:  0.212\n",
            "\tTrain loss: 0.485 \t Valid loss: 0.414 \t Valid R2:  0.297\n",
            "/content/models/model_1595_poker_acc_30.pth\n",
            "\tTrain loss: 0.485 \t Valid loss: 0.411 \t Valid R2:  0.302\n",
            "/content/models/model_1595_poker_acc_30.pth\n",
            "\tTrain loss: 0.476 \t Valid loss: 0.431 \t Valid R2:  0.270\n",
            "\tTrain loss: 0.477 \t Valid loss: 0.421 \t Valid R2:  0.285\n",
            "\tTrain loss: 0.469 \t Valid loss: 0.471 \t Valid R2:  0.201\n",
            "\tTrain loss: 0.474 \t Valid loss: 0.512 \t Valid R2:  0.131\n",
            "\tTrain loss: 0.467 \t Valid loss: 0.426 \t Valid R2:  0.277\n",
            "\tTrain loss: 0.458 \t Valid loss: 0.414 \t Valid R2:  0.297\n",
            "\tTrain loss: 0.463 \t Valid loss: 0.389 \t Valid R2:  0.340\n",
            "/content/models/model_1595_poker_acc_34.pth\n",
            "\tTrain loss: 0.454 \t Valid loss: 0.382 \t Valid R2:  0.351\n",
            "/content/models/model_1595_poker_acc_35.pth\n",
            "\tTrain loss: 0.454 \t Valid loss: 0.391 \t Valid R2:  0.337\n",
            "\tTrain loss: 0.457 \t Valid loss: 0.395 \t Valid R2:  0.330\n",
            "\tTrain loss: 0.446 \t Valid loss: 0.333 \t Valid R2:  0.434\n",
            "/content/models/model_1595_poker_acc_43.pth\n",
            "\tTrain loss: 0.449 \t Valid loss: 0.359 \t Valid R2:  0.390\n",
            "\tTrain loss: 0.446 \t Valid loss: 0.406 \t Valid R2:  0.311\n",
            "\tTrain loss: 0.438 \t Valid loss: 0.339 \t Valid R2:  0.424\n",
            "\tTrain loss: 0.436 \t Valid loss: 0.367 \t Valid R2:  0.378\n",
            "\tTrain loss: 0.438 \t Valid loss: 0.380 \t Valid R2:  0.355\n",
            "\tTrain loss: 0.441 \t Valid loss: 0.418 \t Valid R2:  0.291\n",
            "\tTrain loss: 0.431 \t Valid loss: 0.317 \t Valid R2:  0.462\n",
            "/content/models/model_1595_poker_acc_46.pth\n",
            "\tTrain loss: 0.430 \t Valid loss: 0.330 \t Valid R2:  0.441\n",
            "\tTrain loss: 0.429 \t Valid loss: 0.340 \t Valid R2:  0.423\n",
            "\tTrain loss: 0.426 \t Valid loss: 0.302 \t Valid R2:  0.488\n",
            "/content/models/model_1595_poker_acc_49.pth\n",
            "\tTrain loss: 0.432 \t Valid loss: 0.323 \t Valid R2:  0.452\n",
            "\tTrain loss: 0.421 \t Valid loss: 0.288 \t Valid R2:  0.512\n",
            "/content/models/model_1595_poker_acc_51.pth\n",
            "\tTrain loss: 0.421 \t Valid loss: 0.339 \t Valid R2:  0.424\n",
            "\tTrain loss: 0.419 \t Valid loss: 0.327 \t Valid R2:  0.445\n",
            "\tTrain loss: 0.422 \t Valid loss: 0.293 \t Valid R2:  0.502\n",
            "\tTrain loss: 0.416 \t Valid loss: 0.311 \t Valid R2:  0.472\n",
            "\tTrain loss: 0.413 \t Valid loss: 0.308 \t Valid R2:  0.478\n",
            "\tTrain loss: 0.416 \t Valid loss: 0.289 \t Valid R2:  0.509\n",
            "\tTrain loss: 0.412 \t Valid loss: 0.324 \t Valid R2:  0.450\n",
            "\tTrain loss: 0.411 \t Valid loss: 0.311 \t Valid R2:  0.473\n",
            "\tTrain loss: 0.410 \t Valid loss: 0.337 \t Valid R2:  0.428\n",
            "\tTrain loss: 0.408 \t Valid loss: 0.301 \t Valid R2:  0.489\n",
            "\tTrain loss: 0.403 \t Valid loss: 0.304 \t Valid R2:  0.484\n",
            "\tTrain loss: 0.407 \t Valid loss: 0.289 \t Valid R2:  0.509\n",
            "\tTrain loss: 0.396 \t Valid loss: 0.275 \t Valid R2:  0.533\n",
            "/content/models/model_1595_poker_acc_53.pth\n",
            "\tTrain loss: 0.401 \t Valid loss: 0.274 \t Valid R2:  0.536\n",
            "/content/models/model_1595_poker_acc_54.pth\n",
            "\tTrain loss: 0.399 \t Valid loss: 0.298 \t Valid R2:  0.495\n",
            "\tTrain loss: 0.396 \t Valid loss: 0.282 \t Valid R2:  0.522\n",
            "\tTrain loss: 0.394 \t Valid loss: 0.261 \t Valid R2:  0.558\n",
            "/content/models/model_1595_poker_acc_56.pth\n",
            "\tTrain loss: 0.394 \t Valid loss: 0.260 \t Valid R2:  0.559\n",
            "/content/models/model_1595_poker_acc_56.pth\n",
            "\tTrain loss: 0.392 \t Valid loss: 0.237 \t Valid R2:  0.598\n",
            "/content/models/model_1595_poker_acc_60.pth\n",
            "\tTrain loss: 0.393 \t Valid loss: 0.244 \t Valid R2:  0.586\n",
            "\tTrain loss: 0.391 \t Valid loss: 0.291 \t Valid R2:  0.506\n",
            "\tTrain loss: 0.389 \t Valid loss: 0.244 \t Valid R2:  0.586\n",
            "\tTrain loss: 0.389 \t Valid loss: 0.247 \t Valid R2:  0.581\n",
            "\tTrain loss: 0.383 \t Valid loss: 0.324 \t Valid R2:  0.451\n",
            "\tTrain loss: 0.391 \t Valid loss: 0.262 \t Valid R2:  0.555\n",
            "\tTrain loss: 0.383 \t Valid loss: 0.279 \t Valid R2:  0.527\n",
            "\tTrain loss: 0.382 \t Valid loss: 0.244 \t Valid R2:  0.586\n",
            "\tTrain loss: 0.381 \t Valid loss: 0.258 \t Valid R2:  0.562\n",
            "\tTrain loss: 0.382 \t Valid loss: 0.283 \t Valid R2:  0.519\n",
            "\tTrain loss: 0.378 \t Valid loss: 0.221 \t Valid R2:  0.624\n",
            "/content/models/model_1595_poker_acc_62.pth\n",
            "\tTrain loss: 0.379 \t Valid loss: 0.247 \t Valid R2:  0.580\n",
            "\tTrain loss: 0.377 \t Valid loss: 0.242 \t Valid R2:  0.590\n",
            "\tTrain loss: 0.377 \t Valid loss: 0.243 \t Valid R2:  0.588\n",
            "\tTrain loss: 0.374 \t Valid loss: 0.233 \t Valid R2:  0.605\n",
            "\tTrain loss: 0.373 \t Valid loss: 0.226 \t Valid R2:  0.616\n",
            "\tTrain loss: 0.372 \t Valid loss: 0.251 \t Valid R2:  0.574\n",
            "\tTrain loss: 0.375 \t Valid loss: 0.253 \t Valid R2:  0.571\n",
            "\tTrain loss: 0.372 \t Valid loss: 0.225 \t Valid R2:  0.618\n",
            "\tTrain loss: 0.371 \t Valid loss: 0.239 \t Valid R2:  0.595\n",
            "\tTrain loss: 0.369 \t Valid loss: 0.219 \t Valid R2:  0.628\n",
            "/content/models/model_1595_poker_acc_63.pth\n",
            "\tTrain loss: 0.368 \t Valid loss: 0.212 \t Valid R2:  0.641\n",
            "/content/models/model_1595_poker_acc_64.pth\n",
            "\tTrain loss: 0.366 \t Valid loss: 0.217 \t Valid R2:  0.632\n",
            "\tTrain loss: 0.370 \t Valid loss: 0.242 \t Valid R2:  0.589\n",
            "\tTrain loss: 0.366 \t Valid loss: 0.222 \t Valid R2:  0.624\n",
            "\tTrain loss: 0.368 \t Valid loss: 0.214 \t Valid R2:  0.638\n",
            "\tTrain loss: 0.367 \t Valid loss: 0.225 \t Valid R2:  0.619\n",
            "\tTrain loss: 0.364 \t Valid loss: 0.215 \t Valid R2:  0.635\n",
            "\tTrain loss: 0.366 \t Valid loss: 0.234 \t Valid R2:  0.602\n",
            "\tTrain loss: 0.367 \t Valid loss: 0.209 \t Valid R2:  0.645\n",
            "/content/models/model_1595_poker_acc_64.pth\n",
            "\tTrain loss: 0.365 \t Valid loss: 0.212 \t Valid R2:  0.641\n",
            "Best valid r2: 0.645\n"
          ],
          "name": "stdout"
        }
      ]
    },
    {
      "cell_type": "markdown",
      "metadata": {
        "id": "PKqUOh7EKiZk",
        "colab_type": "text"
      },
      "source": [
        "## Best Valid R2 is 0.645"
      ]
    },
    {
      "cell_type": "markdown",
      "metadata": {
        "id": "C2O4wULD2p6u",
        "colab_type": "text"
      },
      "source": [
        "## Sixth: second model + all cont"
      ]
    },
    {
      "cell_type": "code",
      "metadata": {
        "id": "EwsK7uNC-hhB",
        "colab_type": "code",
        "colab": {}
      },
      "source": [
        "model = TabularNet_cat_second(num_cont, num_cat, level_arr, all_cat=False).cuda()"
      ],
      "execution_count": 0,
      "outputs": []
    },
    {
      "cell_type": "code",
      "metadata": {
        "id": "mIJDrY-2-nyK",
        "colab_type": "code",
        "colab": {
          "base_uri": "https://localhost:8080/",
          "height": 1000,
          "referenced_widgets": [
            "7aa4083e081349409fe626b628cfbf20",
            "701e34d629f94327adcc0d040c5534b8",
            "e38ede2576754334b81e2aea893b780f",
            "540c58fc19384cb9b6e19d3c8c1bb279",
            "dc6284f485eb4717a2b703acad21872c",
            "f4b98090a4564796a48dd96e2a6df6c4",
            "d174e4184d7e4d75a7a560707c7abe58",
            "e8f39d2429e344c2a1a5fc8d0926dcb5"
          ]
        },
        "outputId": "26b9211e-957f-41e1-b335-42d8af94689b"
      },
      "source": [
        "optimizer = torch.optim.Adam(model.parameters(), lr=0.05, weight_decay=1e-5)\n",
        "best_val = train_model(model, train_dl, valid_dl, optimizer, epochs=100)"
      ],
      "execution_count": 273,
      "outputs": [
        {
          "output_type": "stream",
          "text": [
            "/usr/local/lib/python3.6/dist-packages/ipykernel_launcher.py:5: TqdmDeprecationWarning: This function will be removed in tqdm==5.0.0\n",
            "Please use `tqdm.notebook.tqdm` instead of `tqdm.tqdm_notebook`\n",
            "  \"\"\"\n"
          ],
          "name": "stderr"
        },
        {
          "output_type": "display_data",
          "data": {
            "application/vnd.jupyter.widget-view+json": {
              "model_id": "7aa4083e081349409fe626b628cfbf20",
              "version_minor": 0,
              "version_major": 2
            },
            "text/plain": [
              "HBox(children=(FloatProgress(value=0.0, max=8800.0), HTML(value='')))"
            ]
          },
          "metadata": {
            "tags": []
          }
        },
        {
          "output_type": "stream",
          "text": [
            "\tTrain loss: 3.124 \t Valid loss: 0.555 \t Valid R2:  0.058\n",
            "/content/models/model_1595_poker_acc_6.pth\n",
            "\tTrain loss: 0.581 \t Valid loss: 0.547 \t Valid R2:  0.072\n",
            "/content/models/model_1595_poker_acc_7.pth\n",
            "\tTrain loss: 0.576 \t Valid loss: 0.542 \t Valid R2:  0.080\n",
            "/content/models/model_1595_poker_acc_8.pth\n",
            "\tTrain loss: 0.572 \t Valid loss: 0.535 \t Valid R2:  0.092\n",
            "/content/models/model_1595_poker_acc_9.pth\n",
            "\tTrain loss: 0.568 \t Valid loss: 0.527 \t Valid R2:  0.106\n",
            "/content/models/model_1595_poker_acc_11.pth\n",
            "\tTrain loss: 0.563 \t Valid loss: 0.515 \t Valid R2:  0.126\n",
            "/content/models/model_1595_poker_acc_13.pth\n",
            "\tTrain loss: 0.560 \t Valid loss: 0.510 \t Valid R2:  0.135\n",
            "/content/models/model_1595_poker_acc_14.pth\n",
            "\tTrain loss: 0.558 \t Valid loss: 0.510 \t Valid R2:  0.135\n",
            "\tTrain loss: 0.551 \t Valid loss: 0.488 \t Valid R2:  0.172\n",
            "/content/models/model_1595_poker_acc_17.pth\n",
            "\tTrain loss: 0.543 \t Valid loss: 0.477 \t Valid R2:  0.191\n",
            "/content/models/model_1595_poker_acc_19.pth\n",
            "\tTrain loss: 0.537 \t Valid loss: 0.479 \t Valid R2:  0.187\n",
            "\tTrain loss: 0.530 \t Valid loss: 0.468 \t Valid R2:  0.207\n",
            "/content/models/model_1595_poker_acc_21.pth\n",
            "\tTrain loss: 0.528 \t Valid loss: 0.453 \t Valid R2:  0.231\n",
            "/content/models/model_1595_poker_acc_23.pth\n",
            "\tTrain loss: 0.524 \t Valid loss: 0.459 \t Valid R2:  0.222\n",
            "\tTrain loss: 0.521 \t Valid loss: 0.474 \t Valid R2:  0.196\n",
            "\tTrain loss: 0.523 \t Valid loss: 0.472 \t Valid R2:  0.200\n",
            "\tTrain loss: 0.516 \t Valid loss: 0.463 \t Valid R2:  0.215\n",
            "\tTrain loss: 0.518 \t Valid loss: 0.472 \t Valid R2:  0.199\n",
            "\tTrain loss: 0.515 \t Valid loss: 0.478 \t Valid R2:  0.188\n",
            "\tTrain loss: 0.511 \t Valid loss: 0.474 \t Valid R2:  0.195\n",
            "\tTrain loss: 0.506 \t Valid loss: 0.449 \t Valid R2:  0.238\n",
            "/content/models/model_1595_poker_acc_24.pth\n",
            "\tTrain loss: 0.502 \t Valid loss: 0.437 \t Valid R2:  0.258\n",
            "/content/models/model_1595_poker_acc_26.pth\n",
            "\tTrain loss: 0.500 \t Valid loss: 0.479 \t Valid R2:  0.188\n",
            "\tTrain loss: 0.495 \t Valid loss: 0.439 \t Valid R2:  0.255\n",
            "\tTrain loss: 0.492 \t Valid loss: 0.416 \t Valid R2:  0.294\n",
            "/content/models/model_1595_poker_acc_29.pth\n",
            "\tTrain loss: 0.488 \t Valid loss: 0.429 \t Valid R2:  0.272\n",
            "\tTrain loss: 0.484 \t Valid loss: 0.397 \t Valid R2:  0.326\n",
            "/content/models/model_1595_poker_acc_33.pth\n",
            "\tTrain loss: 0.492 \t Valid loss: 0.444 \t Valid R2:  0.246\n",
            "\tTrain loss: 0.492 \t Valid loss: 0.429 \t Valid R2:  0.272\n",
            "\tTrain loss: 0.472 \t Valid loss: 0.421 \t Valid R2:  0.286\n",
            "\tTrain loss: 0.473 \t Valid loss: 0.397 \t Valid R2:  0.327\n",
            "/content/models/model_1595_poker_acc_33.pth\n",
            "\tTrain loss: 0.468 \t Valid loss: 0.418 \t Valid R2:  0.291\n",
            "\tTrain loss: 0.468 \t Valid loss: 0.396 \t Valid R2:  0.328\n",
            "/content/models/model_1595_poker_acc_33.pth\n",
            "\tTrain loss: 0.459 \t Valid loss: 0.373 \t Valid R2:  0.367\n",
            "/content/models/model_1595_poker_acc_37.pth\n",
            "\tTrain loss: 0.460 \t Valid loss: 0.370 \t Valid R2:  0.373\n",
            "/content/models/model_1595_poker_acc_37.pth\n",
            "\tTrain loss: 0.457 \t Valid loss: 0.376 \t Valid R2:  0.362\n",
            "\tTrain loss: 0.461 \t Valid loss: 0.398 \t Valid R2:  0.324\n",
            "\tTrain loss: 0.452 \t Valid loss: 0.359 \t Valid R2:  0.391\n",
            "/content/models/model_1595_poker_acc_39.pth\n",
            "\tTrain loss: 0.447 \t Valid loss: 0.348 \t Valid R2:  0.409\n",
            "/content/models/model_1595_poker_acc_41.pth\n",
            "\tTrain loss: 0.445 \t Valid loss: 0.338 \t Valid R2:  0.426\n",
            "/content/models/model_1595_poker_acc_43.pth\n",
            "\tTrain loss: 0.448 \t Valid loss: 0.367 \t Valid R2:  0.378\n",
            "\tTrain loss: 0.446 \t Valid loss: 0.381 \t Valid R2:  0.354\n",
            "\tTrain loss: 0.440 \t Valid loss: 0.340 \t Valid R2:  0.423\n",
            "\tTrain loss: 0.440 \t Valid loss: 0.336 \t Valid R2:  0.430\n",
            "/content/models/model_1595_poker_acc_43.pth\n",
            "\tTrain loss: 0.440 \t Valid loss: 0.355 \t Valid R2:  0.398\n",
            "\tTrain loss: 0.433 \t Valid loss: 0.350 \t Valid R2:  0.405\n",
            "\tTrain loss: 0.434 \t Valid loss: 0.326 \t Valid R2:  0.447\n",
            "/content/models/model_1595_poker_acc_45.pth\n",
            "\tTrain loss: 0.433 \t Valid loss: 0.332 \t Valid R2:  0.437\n",
            "\tTrain loss: 0.430 \t Valid loss: 0.331 \t Valid R2:  0.438\n",
            "\tTrain loss: 0.426 \t Valid loss: 0.365 \t Valid R2:  0.380\n",
            "\tTrain loss: 0.424 \t Valid loss: 0.396 \t Valid R2:  0.329\n",
            "\tTrain loss: 0.425 \t Valid loss: 0.322 \t Valid R2:  0.454\n",
            "/content/models/model_1595_poker_acc_45.pth\n",
            "\tTrain loss: 0.422 \t Valid loss: 0.318 \t Valid R2:  0.461\n",
            "/content/models/model_1595_poker_acc_46.pth\n",
            "\tTrain loss: 0.417 \t Valid loss: 0.298 \t Valid R2:  0.494\n",
            "/content/models/model_1595_poker_acc_49.pth\n",
            "\tTrain loss: 0.419 \t Valid loss: 0.307 \t Valid R2:  0.480\n",
            "\tTrain loss: 0.419 \t Valid loss: 0.301 \t Valid R2:  0.490\n",
            "\tTrain loss: 0.413 \t Valid loss: 0.296 \t Valid R2:  0.498\n",
            "/content/models/model_1595_poker_acc_50.pth\n",
            "\tTrain loss: 0.414 \t Valid loss: 0.280 \t Valid R2:  0.525\n",
            "/content/models/model_1595_poker_acc_53.pth\n",
            "\tTrain loss: 0.410 \t Valid loss: 0.349 \t Valid R2:  0.408\n",
            "\tTrain loss: 0.414 \t Valid loss: 0.289 \t Valid R2:  0.509\n",
            "\tTrain loss: 0.409 \t Valid loss: 0.311 \t Valid R2:  0.472\n",
            "\tTrain loss: 0.406 \t Valid loss: 0.291 \t Valid R2:  0.506\n",
            "\tTrain loss: 0.405 \t Valid loss: 0.264 \t Valid R2:  0.552\n",
            "/content/models/model_1595_poker_acc_55.pth\n",
            "\tTrain loss: 0.404 \t Valid loss: 0.314 \t Valid R2:  0.467\n",
            "\tTrain loss: 0.401 \t Valid loss: 0.260 \t Valid R2:  0.559\n",
            "/content/models/model_1595_poker_acc_56.pth\n",
            "\tTrain loss: 0.396 \t Valid loss: 0.259 \t Valid R2:  0.560\n",
            "/content/models/model_1595_poker_acc_56.pth\n",
            "\tTrain loss: 0.397 \t Valid loss: 0.267 \t Valid R2:  0.547\n",
            "\tTrain loss: 0.397 \t Valid loss: 0.295 \t Valid R2:  0.500\n",
            "\tTrain loss: 0.398 \t Valid loss: 0.275 \t Valid R2:  0.533\n",
            "\tTrain loss: 0.398 \t Valid loss: 0.314 \t Valid R2:  0.468\n",
            "\tTrain loss: 0.389 \t Valid loss: 0.247 \t Valid R2:  0.581\n",
            "/content/models/model_1595_poker_acc_58.pth\n",
            "\tTrain loss: 0.390 \t Valid loss: 0.284 \t Valid R2:  0.518\n",
            "\tTrain loss: 0.391 \t Valid loss: 0.260 \t Valid R2:  0.558\n",
            "\tTrain loss: 0.389 \t Valid loss: 0.239 \t Valid R2:  0.595\n",
            "/content/models/model_1595_poker_acc_59.pth\n",
            "\tTrain loss: 0.389 \t Valid loss: 0.267 \t Valid R2:  0.548\n",
            "\tTrain loss: 0.388 \t Valid loss: 0.245 \t Valid R2:  0.584\n",
            "\tTrain loss: 0.381 \t Valid loss: 0.273 \t Valid R2:  0.538\n",
            "\tTrain loss: 0.384 \t Valid loss: 0.264 \t Valid R2:  0.553\n",
            "\tTrain loss: 0.382 \t Valid loss: 0.248 \t Valid R2:  0.579\n",
            "\tTrain loss: 0.380 \t Valid loss: 0.261 \t Valid R2:  0.557\n",
            "\tTrain loss: 0.379 \t Valid loss: 0.261 \t Valid R2:  0.558\n",
            "\tTrain loss: 0.379 \t Valid loss: 0.237 \t Valid R2:  0.598\n",
            "/content/models/model_1595_poker_acc_60.pth\n",
            "\tTrain loss: 0.374 \t Valid loss: 0.233 \t Valid R2:  0.605\n",
            "/content/models/model_1595_poker_acc_60.pth\n",
            "\tTrain loss: 0.375 \t Valid loss: 0.258 \t Valid R2:  0.563\n",
            "\tTrain loss: 0.374 \t Valid loss: 0.224 \t Valid R2:  0.619\n",
            "/content/models/model_1595_poker_acc_62.pth\n",
            "\tTrain loss: 0.376 \t Valid loss: 0.232 \t Valid R2:  0.606\n",
            "\tTrain loss: 0.371 \t Valid loss: 0.226 \t Valid R2:  0.616\n",
            "\tTrain loss: 0.374 \t Valid loss: 0.232 \t Valid R2:  0.606\n",
            "\tTrain loss: 0.370 \t Valid loss: 0.260 \t Valid R2:  0.559\n",
            "\tTrain loss: 0.373 \t Valid loss: 0.213 \t Valid R2:  0.639\n",
            "/content/models/model_1595_poker_acc_64.pth\n",
            "\tTrain loss: 0.370 \t Valid loss: 0.215 \t Valid R2:  0.635\n",
            "\tTrain loss: 0.371 \t Valid loss: 0.221 \t Valid R2:  0.624\n",
            "\tTrain loss: 0.370 \t Valid loss: 0.256 \t Valid R2:  0.566\n",
            "\tTrain loss: 0.368 \t Valid loss: 0.232 \t Valid R2:  0.606\n",
            "\tTrain loss: 0.366 \t Valid loss: 0.226 \t Valid R2:  0.616\n",
            "\tTrain loss: 0.367 \t Valid loss: 0.236 \t Valid R2:  0.599\n",
            "\tTrain loss: 0.366 \t Valid loss: 0.218 \t Valid R2:  0.630\n",
            "\tTrain loss: 0.365 \t Valid loss: 0.220 \t Valid R2:  0.627\n",
            "\tTrain loss: 0.366 \t Valid loss: 0.220 \t Valid R2:  0.626\n",
            "\tTrain loss: 0.362 \t Valid loss: 0.208 \t Valid R2:  0.647\n",
            "/content/models/model_1595_poker_acc_65.pth\n",
            "Best valid r2: 0.647\n"
          ],
          "name": "stdout"
        }
      ]
    },
    {
      "cell_type": "markdown",
      "metadata": {
        "id": "I8T_3Y5O-p_5",
        "colab_type": "text"
      },
      "source": [
        "## Best Valid R2 is 0.647"
      ]
    },
    {
      "cell_type": "markdown",
      "metadata": {
        "id": "nVnc6zTiKgrM",
        "colab_type": "text"
      },
      "source": [
        "Which combinations of encoding and model do better? How do they compare to gradient boosting? Compare by selecting your models with the validation score and using test scores on the best models."
      ]
    },
    {
      "cell_type": "markdown",
      "metadata": {
        "id": "l2GVND1JLhNe",
        "colab_type": "text"
      },
      "source": [
        "**variables with 4 unique values or less are categorical and the rest are continuous and first model (Regular model) is the best combination. It's r2 score is 0.843.The performance is better than gradient boosting**"
      ]
    },
    {
      "cell_type": "code",
      "metadata": {
        "id": "X-x17ik1LrmG",
        "colab_type": "code",
        "colab": {}
      },
      "source": [
        ""
      ],
      "execution_count": 0,
      "outputs": []
    }
  ]
}